{
 "cells": [
  {
   "cell_type": "code",
   "execution_count": 1,
   "metadata": {},
   "outputs": [],
   "source": [
    "import numpy as np\n",
    "import pandas as pd\n",
    "%matplotlib inline\n",
    "import matplotlib.pylab as plt"
   ]
  },
  {
   "cell_type": "code",
   "execution_count": 2,
   "metadata": {},
   "outputs": [],
   "source": [
    "from sklearn import preprocessing\n",
    "from sklearn.preprocessing import LabelEncoder\n",
    "from sklearn.preprocessing import OneHotEncoder\n",
    "from sklearn.preprocessing import StandardScaler"
   ]
  },
  {
   "cell_type": "code",
   "execution_count": 3,
   "metadata": {},
   "outputs": [],
   "source": [
    "from sklearn.model_selection import train_test_split"
   ]
  },
  {
   "cell_type": "code",
   "execution_count": 4,
   "metadata": {},
   "outputs": [],
   "source": [
    "import seaborn as sns\n",
    "sns.set()"
   ]
  },
  {
   "cell_type": "code",
   "execution_count": 5,
   "metadata": {},
   "outputs": [],
   "source": [
    "from sklearn.model_selection import GridSearchCV,RandomizedSearchCV,learning_curve, cross_val_score\n",
    "from sklearn.preprocessing import StandardScaler, RobustScaler\n",
    "from sklearn.svm import SVR\n",
    "from sklearn.ensemble import RandomForestRegressor\n",
    "from sklearn.metrics import accuracy_score, mean_squared_error\n",
    "from sklearn.ensemble import RandomForestClassifier\n",
    "from sklearn.cluster import KMeans"
   ]
  },
  {
   "cell_type": "code",
   "execution_count": 6,
   "metadata": {},
   "outputs": [],
   "source": [
    "from sklearn.model_selection import KFold, StratifiedKFold"
   ]
  },
  {
   "cell_type": "code",
   "execution_count": 7,
   "metadata": {},
   "outputs": [],
   "source": [
    "train = pd.read_csv(\"train.csv\", index_col=0)\n",
    "test = pd.read_csv('test.csv', index_col=0)\n",
    "sample_submission = pd.read_csv('sample_submission.csv', index_col=0)"
   ]
  },
  {
   "cell_type": "code",
   "execution_count": 8,
   "metadata": {},
   "outputs": [],
   "source": [
    "column_number = {}\n",
    "for i, column in enumerate(sample_submission.columns):\n",
    "    column_number[column] = i\n",
    "    \n",
    "def to_number(x, dic):\n",
    "    return dic[x]\n",
    "\n",
    "train['type_num'] = train['type'].apply(lambda x: to_number(x, column_number))"
   ]
  },
  {
   "cell_type": "code",
   "execution_count": 9,
   "metadata": {
    "scrolled": true
   },
   "outputs": [
    {
     "data": {
      "text/html": [
       "<div>\n",
       "<style scoped>\n",
       "    .dataframe tbody tr th:only-of-type {\n",
       "        vertical-align: middle;\n",
       "    }\n",
       "\n",
       "    .dataframe tbody tr th {\n",
       "        vertical-align: top;\n",
       "    }\n",
       "\n",
       "    .dataframe thead th {\n",
       "        text-align: right;\n",
       "    }\n",
       "</style>\n",
       "<table border=\"1\" class=\"dataframe\">\n",
       "  <thead>\n",
       "    <tr style=\"text-align: right;\">\n",
       "      <th></th>\n",
       "      <th>type</th>\n",
       "      <th>fiberID</th>\n",
       "      <th>psfMag_u</th>\n",
       "      <th>psfMag_g</th>\n",
       "      <th>psfMag_r</th>\n",
       "      <th>psfMag_i</th>\n",
       "      <th>psfMag_z</th>\n",
       "      <th>fiberMag_u</th>\n",
       "      <th>fiberMag_g</th>\n",
       "      <th>fiberMag_r</th>\n",
       "      <th>...</th>\n",
       "      <th>petroMag_g</th>\n",
       "      <th>petroMag_r</th>\n",
       "      <th>petroMag_i</th>\n",
       "      <th>petroMag_z</th>\n",
       "      <th>modelMag_u</th>\n",
       "      <th>modelMag_g</th>\n",
       "      <th>modelMag_r</th>\n",
       "      <th>modelMag_i</th>\n",
       "      <th>modelMag_z</th>\n",
       "      <th>type_num</th>\n",
       "    </tr>\n",
       "    <tr>\n",
       "      <th>id</th>\n",
       "      <th></th>\n",
       "      <th></th>\n",
       "      <th></th>\n",
       "      <th></th>\n",
       "      <th></th>\n",
       "      <th></th>\n",
       "      <th></th>\n",
       "      <th></th>\n",
       "      <th></th>\n",
       "      <th></th>\n",
       "      <th></th>\n",
       "      <th></th>\n",
       "      <th></th>\n",
       "      <th></th>\n",
       "      <th></th>\n",
       "      <th></th>\n",
       "      <th></th>\n",
       "      <th></th>\n",
       "      <th></th>\n",
       "      <th></th>\n",
       "      <th></th>\n",
       "    </tr>\n",
       "  </thead>\n",
       "  <tbody>\n",
       "    <tr>\n",
       "      <td>0</td>\n",
       "      <td>QSO</td>\n",
       "      <td>601</td>\n",
       "      <td>23.198224</td>\n",
       "      <td>21.431953</td>\n",
       "      <td>21.314148</td>\n",
       "      <td>21.176553</td>\n",
       "      <td>21.171444</td>\n",
       "      <td>22.581309</td>\n",
       "      <td>21.644453</td>\n",
       "      <td>21.657571</td>\n",
       "      <td>...</td>\n",
       "      <td>21.431636</td>\n",
       "      <td>21.478312</td>\n",
       "      <td>21.145409</td>\n",
       "      <td>20.422446</td>\n",
       "      <td>22.749241</td>\n",
       "      <td>21.465534</td>\n",
       "      <td>21.364187</td>\n",
       "      <td>21.020605</td>\n",
       "      <td>21.147340</td>\n",
       "      <td>8</td>\n",
       "    </tr>\n",
       "    <tr>\n",
       "      <td>1</td>\n",
       "      <td>QSO</td>\n",
       "      <td>788</td>\n",
       "      <td>21.431355</td>\n",
       "      <td>20.708104</td>\n",
       "      <td>20.678850</td>\n",
       "      <td>20.703420</td>\n",
       "      <td>20.473229</td>\n",
       "      <td>21.868797</td>\n",
       "      <td>21.029773</td>\n",
       "      <td>20.967054</td>\n",
       "      <td>...</td>\n",
       "      <td>20.778968</td>\n",
       "      <td>20.889705</td>\n",
       "      <td>20.639812</td>\n",
       "      <td>20.646660</td>\n",
       "      <td>21.492955</td>\n",
       "      <td>20.758527</td>\n",
       "      <td>20.753925</td>\n",
       "      <td>20.693389</td>\n",
       "      <td>20.512314</td>\n",
       "      <td>8</td>\n",
       "    </tr>\n",
       "    <tr>\n",
       "      <td>2</td>\n",
       "      <td>QSO</td>\n",
       "      <td>427</td>\n",
       "      <td>17.851451</td>\n",
       "      <td>16.727898</td>\n",
       "      <td>16.679677</td>\n",
       "      <td>16.694640</td>\n",
       "      <td>16.641788</td>\n",
       "      <td>18.171890</td>\n",
       "      <td>17.033098</td>\n",
       "      <td>16.999682</td>\n",
       "      <td>...</td>\n",
       "      <td>16.738784</td>\n",
       "      <td>16.688874</td>\n",
       "      <td>16.744210</td>\n",
       "      <td>16.808006</td>\n",
       "      <td>17.818063</td>\n",
       "      <td>16.697434</td>\n",
       "      <td>16.641249</td>\n",
       "      <td>16.660177</td>\n",
       "      <td>16.688928</td>\n",
       "      <td>8</td>\n",
       "    </tr>\n",
       "    <tr>\n",
       "      <td>3</td>\n",
       "      <td>QSO</td>\n",
       "      <td>864</td>\n",
       "      <td>20.789900</td>\n",
       "      <td>20.040371</td>\n",
       "      <td>19.926909</td>\n",
       "      <td>19.843840</td>\n",
       "      <td>19.463270</td>\n",
       "      <td>21.039030</td>\n",
       "      <td>20.317165</td>\n",
       "      <td>20.217898</td>\n",
       "      <td>...</td>\n",
       "      <td>19.993727</td>\n",
       "      <td>19.985531</td>\n",
       "      <td>19.750917</td>\n",
       "      <td>19.455117</td>\n",
       "      <td>20.770711</td>\n",
       "      <td>20.001699</td>\n",
       "      <td>19.889798</td>\n",
       "      <td>19.758113</td>\n",
       "      <td>19.552855</td>\n",
       "      <td>8</td>\n",
       "    </tr>\n",
       "    <tr>\n",
       "      <td>4</td>\n",
       "      <td>STAR_RED_DWARF</td>\n",
       "      <td>612</td>\n",
       "      <td>26.454969</td>\n",
       "      <td>23.058767</td>\n",
       "      <td>21.471406</td>\n",
       "      <td>19.504961</td>\n",
       "      <td>18.389096</td>\n",
       "      <td>25.700632</td>\n",
       "      <td>23.629122</td>\n",
       "      <td>21.742750</td>\n",
       "      <td>...</td>\n",
       "      <td>22.426929</td>\n",
       "      <td>21.673551</td>\n",
       "      <td>19.610012</td>\n",
       "      <td>18.376141</td>\n",
       "      <td>24.877052</td>\n",
       "      <td>23.147993</td>\n",
       "      <td>21.475342</td>\n",
       "      <td>19.487330</td>\n",
       "      <td>18.375655</td>\n",
       "      <td>10</td>\n",
       "    </tr>\n",
       "  </tbody>\n",
       "</table>\n",
       "<p>5 rows × 23 columns</p>\n",
       "</div>"
      ],
      "text/plain": [
       "              type  fiberID   psfMag_u   psfMag_g   psfMag_r   psfMag_i  \\\n",
       "id                                                                        \n",
       "0              QSO      601  23.198224  21.431953  21.314148  21.176553   \n",
       "1              QSO      788  21.431355  20.708104  20.678850  20.703420   \n",
       "2              QSO      427  17.851451  16.727898  16.679677  16.694640   \n",
       "3              QSO      864  20.789900  20.040371  19.926909  19.843840   \n",
       "4   STAR_RED_DWARF      612  26.454969  23.058767  21.471406  19.504961   \n",
       "\n",
       "     psfMag_z  fiberMag_u  fiberMag_g  fiberMag_r  ...  petroMag_g  \\\n",
       "id                                                 ...               \n",
       "0   21.171444   22.581309   21.644453   21.657571  ...   21.431636   \n",
       "1   20.473229   21.868797   21.029773   20.967054  ...   20.778968   \n",
       "2   16.641788   18.171890   17.033098   16.999682  ...   16.738784   \n",
       "3   19.463270   21.039030   20.317165   20.217898  ...   19.993727   \n",
       "4   18.389096   25.700632   23.629122   21.742750  ...   22.426929   \n",
       "\n",
       "    petroMag_r  petroMag_i  petroMag_z  modelMag_u  modelMag_g  modelMag_r  \\\n",
       "id                                                                           \n",
       "0    21.478312   21.145409   20.422446   22.749241   21.465534   21.364187   \n",
       "1    20.889705   20.639812   20.646660   21.492955   20.758527   20.753925   \n",
       "2    16.688874   16.744210   16.808006   17.818063   16.697434   16.641249   \n",
       "3    19.985531   19.750917   19.455117   20.770711   20.001699   19.889798   \n",
       "4    21.673551   19.610012   18.376141   24.877052   23.147993   21.475342   \n",
       "\n",
       "    modelMag_i  modelMag_z  type_num  \n",
       "id                                    \n",
       "0    21.020605   21.147340         8  \n",
       "1    20.693389   20.512314         8  \n",
       "2    16.660177   16.688928         8  \n",
       "3    19.758113   19.552855         8  \n",
       "4    19.487330   18.375655        10  \n",
       "\n",
       "[5 rows x 23 columns]"
      ]
     },
     "execution_count": 9,
     "metadata": {},
     "output_type": "execute_result"
    }
   ],
   "source": [
    "train.head()"
   ]
  },
  {
   "cell_type": "code",
   "execution_count": 10,
   "metadata": {},
   "outputs": [],
   "source": [
    "train_X = train.drop(columns=['type', 'type_num'], axis=1)\n",
    "train_y = train['type_num']\n",
    "test_X = test"
   ]
  },
  {
   "cell_type": "code",
   "execution_count": 11,
   "metadata": {
    "scrolled": false
   },
   "outputs": [
    {
     "data": {
      "text/plain": [
       "199991"
      ]
     },
     "execution_count": 11,
     "metadata": {},
     "output_type": "execute_result"
    }
   ],
   "source": [
    "train['type'].value_counts().sum()"
   ]
  },
  {
   "cell_type": "code",
   "execution_count": 12,
   "metadata": {},
   "outputs": [
    {
     "data": {
      "text/plain": [
       "QSO                    49680\n",
       "GALAXY                 37347\n",
       "SERENDIPITY_BLUE       21760\n",
       "SPECTROPHOTO_STD       14630\n",
       "REDDEN_STD             14618\n",
       "STAR_RED_DWARF         13750\n",
       "STAR_BHB               13500\n",
       "SERENDIPITY_FIRST       7132\n",
       "ROSAT_D                 6580\n",
       "STAR_CATY_VAR           6506\n",
       "SERENDIPITY_DISTANT     4654\n",
       "STAR_CARBON             3257\n",
       "SERENDIPITY_RED         2562\n",
       "STAR_WHITE_DWARF        2160\n",
       "STAR_SUB_DWARF          1154\n",
       "STAR_BROWN_DWARF         500\n",
       "SKY                      127\n",
       "SERENDIPITY_MANUAL        61\n",
       "STAR_PN                   13\n",
       "Name: type, dtype: int64"
      ]
     },
     "execution_count": 12,
     "metadata": {},
     "output_type": "execute_result"
    }
   ],
   "source": [
    "train['type'].value_counts()"
   ]
  },
  {
   "cell_type": "code",
   "execution_count": 13,
   "metadata": {},
   "outputs": [],
   "source": [
    "#X_train, X_test, y_train, y_test = train_test_split(train_X, \n",
    "#                                                    train_y, \n",
    "#                                                    stratify = train_y,\n",
    "#                                                    test_size=0.2, \n",
    "#                                                    random_state=1234)"
   ]
  },
  {
   "cell_type": "markdown",
   "metadata": {},
   "source": [
    "### stratifiedKFold를 사용하자"
   ]
  },
  {
   "cell_type": "code",
   "execution_count": 14,
   "metadata": {},
   "outputs": [],
   "source": [
    "#kfold = KFold(n_splits=6, random_state= 0, shuffle = True)\n",
    "kfold_s = StratifiedKFold(n_splits=6, random_state= 0, shuffle = True)"
   ]
  },
  {
   "cell_type": "markdown",
   "metadata": {},
   "source": [
    "# CatBoost"
   ]
  },
  {
   "cell_type": "code",
   "execution_count": 15,
   "metadata": {},
   "outputs": [],
   "source": [
    "import catboost as catb\n",
    "from catboost import CatBoostClassifier"
   ]
  },
  {
   "cell_type": "code",
   "execution_count": 24,
   "metadata": {},
   "outputs": [],
   "source": [
    "CBC = CatBoostClassifier(random_state=1234)\n",
    "\n",
    "cbc_param_grid = {\n",
    "    #'n_estimators' : [10, 30, 50],\n",
    "    #'max_depth' : np.arange(3,10,1),\n",
    "    'learning_rate' : [0.1,0.15,0.01],#np.arange(0.159,0.18,0.01),\n",
    "    'iterations' : [1000],\n",
    "    'depth' : [8],\n",
    "    'loss_function' : ['MultiClass'], #Logloss\n",
    "    'leaf_estimation_method' : ['Newton'],\n",
    "    'eval_metric' : ['Accuracy'], #AUC\n",
    "}"
   ]
  },
  {
   "cell_type": "code",
   "execution_count": 25,
   "metadata": {},
   "outputs": [],
   "source": [
    "n_iter_search = 10\n",
    "CBC_rgs = RandomizedSearchCV(CBC, \n",
    "                             cbc_param_grid, \n",
    "                             cv=kfold_s,\n",
    "                             scoring='neg_log_loss',\n",
    "                             random_state=1234)"
   ]
  },
  {
   "cell_type": "code",
   "execution_count": null,
   "metadata": {
    "scrolled": true
   },
   "outputs": [
    {
     "name": "stderr",
     "output_type": "stream",
     "text": [
      "C:\\Users\\1-18\\AppData\\Local\\Continuum\\anaconda3\\lib\\site-packages\\sklearn\\model_selection\\_search.py:266: UserWarning: The total space of parameters 3 is smaller than n_iter=10. Running 3 iterations. For exhaustive searches, use GridSearchCV.\n",
      "  % (grid_size, self.n_iter, grid_size), UserWarning)\n"
     ]
    },
    {
     "name": "stdout",
     "output_type": "stream",
     "text": [
      "0:\tlearn: 0.7145112\ttotal: 345ms\tremaining: 5m 44s\n",
      "1:\tlearn: 0.7328369\ttotal: 709ms\tremaining: 5m 53s\n",
      "2:\tlearn: 0.7372593\ttotal: 1.09s\tremaining: 6m 1s\n",
      "3:\tlearn: 0.7514446\ttotal: 1.47s\tremaining: 6m 6s\n",
      "4:\tlearn: 0.7559811\ttotal: 1.83s\tremaining: 6m 4s\n",
      "5:\tlearn: 0.7636018\ttotal: 2.2s\tremaining: 6m 5s\n",
      "6:\tlearn: 0.7708445\ttotal: 2.58s\tremaining: 6m 5s\n",
      "7:\tlearn: 0.7717745\ttotal: 2.93s\tremaining: 6m 3s\n",
      "8:\tlearn: 0.7730827\ttotal: 3.27s\tremaining: 6m\n",
      "9:\tlearn: 0.7734547\ttotal: 3.62s\tremaining: 5m 58s\n",
      "10:\tlearn: 0.7785972\ttotal: 3.97s\tremaining: 5m 56s\n",
      "11:\tlearn: 0.7777391\ttotal: 4.32s\tremaining: 5m 55s\n",
      "12:\tlearn: 0.7827436\ttotal: 4.67s\tremaining: 5m 54s\n",
      "13:\tlearn: 0.7850418\ttotal: 5.03s\tremaining: 5m 53s\n",
      "14:\tlearn: 0.7898302\ttotal: 5.39s\tremaining: 5m 53s\n",
      "15:\tlearn: 0.7922185\ttotal: 5.75s\tremaining: 5m 53s\n",
      "16:\tlearn: 0.7950867\ttotal: 6.12s\tremaining: 5m 53s\n",
      "17:\tlearn: 0.7966829\ttotal: 6.48s\tremaining: 5m 53s\n",
      "18:\tlearn: 0.7986331\ttotal: 6.84s\tremaining: 5m 52s\n",
      "19:\tlearn: 0.8010033\ttotal: 7.18s\tremaining: 5m 52s\n",
      "20:\tlearn: 0.8030255\ttotal: 7.54s\tremaining: 5m 51s\n",
      "21:\tlearn: 0.8048677\ttotal: 7.89s\tremaining: 5m 50s\n",
      "22:\tlearn: 0.8054977\ttotal: 8.25s\tremaining: 5m 50s\n",
      "23:\tlearn: 0.8081020\ttotal: 8.61s\tremaining: 5m 50s\n",
      "24:\tlearn: 0.8091401\ttotal: 8.97s\tremaining: 5m 50s\n",
      "25:\tlearn: 0.8115163\ttotal: 9.32s\tremaining: 5m 49s\n",
      "26:\tlearn: 0.8127044\ttotal: 9.68s\tremaining: 5m 48s\n",
      "27:\tlearn: 0.8155127\ttotal: 10s\tremaining: 5m 48s\n",
      "28:\tlearn: 0.8170908\ttotal: 10.4s\tremaining: 5m 48s\n",
      "29:\tlearn: 0.8179729\ttotal: 10.8s\tremaining: 5m 48s\n",
      "30:\tlearn: 0.8189570\ttotal: 11.1s\tremaining: 5m 48s\n",
      "31:\tlearn: 0.8199231\ttotal: 11.5s\tremaining: 5m 47s\n",
      "32:\tlearn: 0.8207151\ttotal: 11.9s\tremaining: 5m 47s\n",
      "33:\tlearn: 0.8212612\ttotal: 12.2s\tremaining: 5m 47s\n",
      "34:\tlearn: 0.8221253\ttotal: 12.6s\tremaining: 5m 47s\n"
     ]
    }
   ],
   "source": [
    "CBC_rgc = CBC_rgs.fit(train_X, train_y)"
   ]
  },
  {
   "cell_type": "code",
   "execution_count": 19,
   "metadata": {
    "scrolled": true
   },
   "outputs": [
    {
     "data": {
      "text/plain": [
       "{'nan_mode': 'Min',\n",
       " 'eval_metric': 'Accuracy',\n",
       " 'iterations': 1000,\n",
       " 'sampling_frequency': 'PerTree',\n",
       " 'fold_permutation_block': 0,\n",
       " 'leaf_estimation_method': 'Newton',\n",
       " 'boosting_type': 'Plain',\n",
       " 'model_shrink_mode': 'Constant',\n",
       " 'feature_border_type': 'GreedyLogSum',\n",
       " 'bayesian_matrix_reg': 0.10000000149011612,\n",
       " 'l2_leaf_reg': 3,\n",
       " 'random_strength': 1,\n",
       " 'rsm': 1,\n",
       " 'boost_from_average': False,\n",
       " 'model_size_reg': 0.5,\n",
       " 'approx_on_full_history': False,\n",
       " 'use_best_model': False,\n",
       " 'class_names': [0,\n",
       "  1,\n",
       "  2,\n",
       "  3,\n",
       "  4,\n",
       "  5,\n",
       "  6,\n",
       "  7,\n",
       "  8,\n",
       "  9,\n",
       "  10,\n",
       "  11,\n",
       "  12,\n",
       "  13,\n",
       "  14,\n",
       "  15,\n",
       "  16,\n",
       "  17,\n",
       "  18],\n",
       " 'random_seed': 1234,\n",
       " 'depth': 8,\n",
       " 'has_time': False,\n",
       " 'fold_len_multiplier': 2,\n",
       " 'border_count': 254,\n",
       " 'bagging_temperature': 1,\n",
       " 'classes_count': 0,\n",
       " 'sparse_features_conflict_fraction': 0,\n",
       " 'leaf_estimation_backtracking': 'AnyImprovement',\n",
       " 'best_model_min_trees': 1,\n",
       " 'model_shrink_rate': 0,\n",
       " 'loss_function': 'MultiClass',\n",
       " 'learning_rate': 0.14900000393390656,\n",
       " 'score_function': 'Cosine',\n",
       " 'task_type': 'CPU',\n",
       " 'leaf_estimation_iterations': 1,\n",
       " 'bootstrap_type': 'Bayesian',\n",
       " 'permutation_count': 4}"
      ]
     },
     "execution_count": 19,
     "metadata": {},
     "output_type": "execute_result"
    }
   ],
   "source": [
    "CBC_rgc.best_estimator_.get_all_params()"
   ]
  },
  {
   "cell_type": "code",
   "execution_count": 20,
   "metadata": {
    "scrolled": true
   },
   "outputs": [
    {
     "data": {
      "text/plain": [
       "-0.37368637329744214"
      ]
     },
     "execution_count": 20,
     "metadata": {},
     "output_type": "execute_result"
    }
   ],
   "source": [
    "CBC_rgc.best_score_"
   ]
  },
  {
   "cell_type": "code",
   "execution_count": 21,
   "metadata": {},
   "outputs": [],
   "source": [
    "CBC_best = CBC_rgc.best_estimator_\n",
    "y_pred = CBC_best.predict_proba(test_X)"
   ]
  },
  {
   "cell_type": "code",
   "execution_count": 23,
   "metadata": {},
   "outputs": [],
   "source": [
    "submission = pd.DataFrame(data=y_pred, columns=sample_submission.columns, index=sample_submission.index)\n",
    "submission.to_csv('submission_alltest_200207.csv', index=True)"
   ]
  },
  {
   "cell_type": "code",
   "execution_count": null,
   "metadata": {},
   "outputs": [],
   "source": []
  }
 ],
 "metadata": {
  "kernelspec": {
   "display_name": "Python 3",
   "language": "python",
   "name": "python3"
  },
  "language_info": {
   "codemirror_mode": {
    "name": "ipython",
    "version": 3
   },
   "file_extension": ".py",
   "mimetype": "text/x-python",
   "name": "python",
   "nbconvert_exporter": "python",
   "pygments_lexer": "ipython3",
   "version": "3.7.4"
  }
 },
 "nbformat": 4,
 "nbformat_minor": 2
}
