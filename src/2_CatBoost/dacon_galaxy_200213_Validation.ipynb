{
 "cells": [
  {
   "cell_type": "markdown",
   "metadata": {},
   "source": [
    "# >> library 가져오기"
   ]
  },
  {
   "cell_type": "code",
   "execution_count": 1,
   "metadata": {},
   "outputs": [],
   "source": [
    "import numpy as np\n",
    "import pandas as pd\n",
    "%matplotlib inline\n",
    "import matplotlib.pylab as plt"
   ]
  },
  {
   "cell_type": "code",
   "execution_count": 2,
   "metadata": {},
   "outputs": [],
   "source": [
    "import time\n",
    "import random"
   ]
  },
  {
   "cell_type": "code",
   "execution_count": 3,
   "metadata": {},
   "outputs": [],
   "source": [
    "from sklearn import preprocessing\n",
    "from sklearn.preprocessing import LabelEncoder\n",
    "from sklearn.preprocessing import OneHotEncoder\n",
    "from sklearn.preprocessing import StandardScaler"
   ]
  },
  {
   "cell_type": "code",
   "execution_count": 4,
   "metadata": {},
   "outputs": [],
   "source": [
    "from sklearn.model_selection import train_test_split"
   ]
  },
  {
   "cell_type": "code",
   "execution_count": 5,
   "metadata": {},
   "outputs": [],
   "source": [
    "import seaborn as sns\n",
    "sns.set()"
   ]
  },
  {
   "cell_type": "code",
   "execution_count": 6,
   "metadata": {},
   "outputs": [],
   "source": [
    "from sklearn.model_selection import GridSearchCV,RandomizedSearchCV,learning_curve, cross_val_score\n",
    "from sklearn.preprocessing import StandardScaler, RobustScaler\n",
    "from sklearn.svm import SVR\n",
    "from sklearn.ensemble import RandomForestRegressor\n",
    "from sklearn.metrics import accuracy_score, mean_squared_error\n",
    "from sklearn.ensemble import RandomForestClassifier\n",
    "from sklearn.cluster import KMeans"
   ]
  },
  {
   "cell_type": "code",
   "execution_count": 7,
   "metadata": {},
   "outputs": [],
   "source": [
    "from sklearn.model_selection import KFold, StratifiedKFold"
   ]
  },
  {
   "cell_type": "markdown",
   "metadata": {},
   "source": [
    "# >> 데이터 불러오기"
   ]
  },
  {
   "cell_type": "code",
   "execution_count": 8,
   "metadata": {},
   "outputs": [],
   "source": [
    "train = pd.read_csv(\"../data/dacon_galaxy/train.csv\", index_col=0)\n",
    "test = pd.read_csv('../data/dacon_galaxy/test.csv', index_col=0)\n",
    "sample_submission = pd.read_csv('../data/dacon_galaxy/sample_submission.csv', index_col=0)"
   ]
  },
  {
   "cell_type": "markdown",
   "metadata": {},
   "source": [
    "## type 타입 변환 (string obj >> integer)"
   ]
  },
  {
   "cell_type": "code",
   "execution_count": 9,
   "metadata": {},
   "outputs": [],
   "source": [
    "column_number = {}\n",
    "for i, column in enumerate(sample_submission.columns):\n",
    "    column_number[column] = i\n",
    "    \n",
    "def to_number(x, dic):\n",
    "    return dic[x]\n",
    "\n",
    "train['type_num'] = train['type'].apply(lambda x: to_number(x, column_number))"
   ]
  },
  {
   "cell_type": "code",
   "execution_count": 10,
   "metadata": {
    "scrolled": true
   },
   "outputs": [
    {
     "data": {
      "text/html": [
       "<div>\n",
       "<style scoped>\n",
       "    .dataframe tbody tr th:only-of-type {\n",
       "        vertical-align: middle;\n",
       "    }\n",
       "\n",
       "    .dataframe tbody tr th {\n",
       "        vertical-align: top;\n",
       "    }\n",
       "\n",
       "    .dataframe thead th {\n",
       "        text-align: right;\n",
       "    }\n",
       "</style>\n",
       "<table border=\"1\" class=\"dataframe\">\n",
       "  <thead>\n",
       "    <tr style=\"text-align: right;\">\n",
       "      <th></th>\n",
       "      <th>type</th>\n",
       "      <th>fiberID</th>\n",
       "      <th>psfMag_u</th>\n",
       "      <th>psfMag_g</th>\n",
       "      <th>psfMag_r</th>\n",
       "      <th>psfMag_i</th>\n",
       "      <th>psfMag_z</th>\n",
       "      <th>fiberMag_u</th>\n",
       "      <th>fiberMag_g</th>\n",
       "      <th>fiberMag_r</th>\n",
       "      <th>...</th>\n",
       "      <th>petroMag_g</th>\n",
       "      <th>petroMag_r</th>\n",
       "      <th>petroMag_i</th>\n",
       "      <th>petroMag_z</th>\n",
       "      <th>modelMag_u</th>\n",
       "      <th>modelMag_g</th>\n",
       "      <th>modelMag_r</th>\n",
       "      <th>modelMag_i</th>\n",
       "      <th>modelMag_z</th>\n",
       "      <th>type_num</th>\n",
       "    </tr>\n",
       "    <tr>\n",
       "      <th>id</th>\n",
       "      <th></th>\n",
       "      <th></th>\n",
       "      <th></th>\n",
       "      <th></th>\n",
       "      <th></th>\n",
       "      <th></th>\n",
       "      <th></th>\n",
       "      <th></th>\n",
       "      <th></th>\n",
       "      <th></th>\n",
       "      <th></th>\n",
       "      <th></th>\n",
       "      <th></th>\n",
       "      <th></th>\n",
       "      <th></th>\n",
       "      <th></th>\n",
       "      <th></th>\n",
       "      <th></th>\n",
       "      <th></th>\n",
       "      <th></th>\n",
       "      <th></th>\n",
       "    </tr>\n",
       "  </thead>\n",
       "  <tbody>\n",
       "    <tr>\n",
       "      <td>0</td>\n",
       "      <td>QSO</td>\n",
       "      <td>601</td>\n",
       "      <td>23.198224</td>\n",
       "      <td>21.431953</td>\n",
       "      <td>21.314148</td>\n",
       "      <td>21.176553</td>\n",
       "      <td>21.171444</td>\n",
       "      <td>22.581309</td>\n",
       "      <td>21.644453</td>\n",
       "      <td>21.657571</td>\n",
       "      <td>...</td>\n",
       "      <td>21.431636</td>\n",
       "      <td>21.478312</td>\n",
       "      <td>21.145409</td>\n",
       "      <td>20.422446</td>\n",
       "      <td>22.749241</td>\n",
       "      <td>21.465534</td>\n",
       "      <td>21.364187</td>\n",
       "      <td>21.020605</td>\n",
       "      <td>21.147340</td>\n",
       "      <td>8</td>\n",
       "    </tr>\n",
       "    <tr>\n",
       "      <td>1</td>\n",
       "      <td>QSO</td>\n",
       "      <td>788</td>\n",
       "      <td>21.431355</td>\n",
       "      <td>20.708104</td>\n",
       "      <td>20.678850</td>\n",
       "      <td>20.703420</td>\n",
       "      <td>20.473229</td>\n",
       "      <td>21.868797</td>\n",
       "      <td>21.029773</td>\n",
       "      <td>20.967054</td>\n",
       "      <td>...</td>\n",
       "      <td>20.778968</td>\n",
       "      <td>20.889705</td>\n",
       "      <td>20.639812</td>\n",
       "      <td>20.646660</td>\n",
       "      <td>21.492955</td>\n",
       "      <td>20.758527</td>\n",
       "      <td>20.753925</td>\n",
       "      <td>20.693389</td>\n",
       "      <td>20.512314</td>\n",
       "      <td>8</td>\n",
       "    </tr>\n",
       "    <tr>\n",
       "      <td>2</td>\n",
       "      <td>QSO</td>\n",
       "      <td>427</td>\n",
       "      <td>17.851451</td>\n",
       "      <td>16.727898</td>\n",
       "      <td>16.679677</td>\n",
       "      <td>16.694640</td>\n",
       "      <td>16.641788</td>\n",
       "      <td>18.171890</td>\n",
       "      <td>17.033098</td>\n",
       "      <td>16.999682</td>\n",
       "      <td>...</td>\n",
       "      <td>16.738784</td>\n",
       "      <td>16.688874</td>\n",
       "      <td>16.744210</td>\n",
       "      <td>16.808006</td>\n",
       "      <td>17.818063</td>\n",
       "      <td>16.697434</td>\n",
       "      <td>16.641249</td>\n",
       "      <td>16.660177</td>\n",
       "      <td>16.688928</td>\n",
       "      <td>8</td>\n",
       "    </tr>\n",
       "    <tr>\n",
       "      <td>3</td>\n",
       "      <td>QSO</td>\n",
       "      <td>864</td>\n",
       "      <td>20.789900</td>\n",
       "      <td>20.040371</td>\n",
       "      <td>19.926909</td>\n",
       "      <td>19.843840</td>\n",
       "      <td>19.463270</td>\n",
       "      <td>21.039030</td>\n",
       "      <td>20.317165</td>\n",
       "      <td>20.217898</td>\n",
       "      <td>...</td>\n",
       "      <td>19.993727</td>\n",
       "      <td>19.985531</td>\n",
       "      <td>19.750917</td>\n",
       "      <td>19.455117</td>\n",
       "      <td>20.770711</td>\n",
       "      <td>20.001699</td>\n",
       "      <td>19.889798</td>\n",
       "      <td>19.758113</td>\n",
       "      <td>19.552855</td>\n",
       "      <td>8</td>\n",
       "    </tr>\n",
       "    <tr>\n",
       "      <td>4</td>\n",
       "      <td>STAR_RED_DWARF</td>\n",
       "      <td>612</td>\n",
       "      <td>26.454969</td>\n",
       "      <td>23.058767</td>\n",
       "      <td>21.471406</td>\n",
       "      <td>19.504961</td>\n",
       "      <td>18.389096</td>\n",
       "      <td>25.700632</td>\n",
       "      <td>23.629122</td>\n",
       "      <td>21.742750</td>\n",
       "      <td>...</td>\n",
       "      <td>22.426929</td>\n",
       "      <td>21.673551</td>\n",
       "      <td>19.610012</td>\n",
       "      <td>18.376141</td>\n",
       "      <td>24.877052</td>\n",
       "      <td>23.147993</td>\n",
       "      <td>21.475342</td>\n",
       "      <td>19.487330</td>\n",
       "      <td>18.375655</td>\n",
       "      <td>10</td>\n",
       "    </tr>\n",
       "  </tbody>\n",
       "</table>\n",
       "<p>5 rows × 23 columns</p>\n",
       "</div>"
      ],
      "text/plain": [
       "              type  fiberID   psfMag_u   psfMag_g   psfMag_r   psfMag_i  \\\n",
       "id                                                                        \n",
       "0              QSO      601  23.198224  21.431953  21.314148  21.176553   \n",
       "1              QSO      788  21.431355  20.708104  20.678850  20.703420   \n",
       "2              QSO      427  17.851451  16.727898  16.679677  16.694640   \n",
       "3              QSO      864  20.789900  20.040371  19.926909  19.843840   \n",
       "4   STAR_RED_DWARF      612  26.454969  23.058767  21.471406  19.504961   \n",
       "\n",
       "     psfMag_z  fiberMag_u  fiberMag_g  fiberMag_r  ...  petroMag_g  \\\n",
       "id                                                 ...               \n",
       "0   21.171444   22.581309   21.644453   21.657571  ...   21.431636   \n",
       "1   20.473229   21.868797   21.029773   20.967054  ...   20.778968   \n",
       "2   16.641788   18.171890   17.033098   16.999682  ...   16.738784   \n",
       "3   19.463270   21.039030   20.317165   20.217898  ...   19.993727   \n",
       "4   18.389096   25.700632   23.629122   21.742750  ...   22.426929   \n",
       "\n",
       "    petroMag_r  petroMag_i  petroMag_z  modelMag_u  modelMag_g  modelMag_r  \\\n",
       "id                                                                           \n",
       "0    21.478312   21.145409   20.422446   22.749241   21.465534   21.364187   \n",
       "1    20.889705   20.639812   20.646660   21.492955   20.758527   20.753925   \n",
       "2    16.688874   16.744210   16.808006   17.818063   16.697434   16.641249   \n",
       "3    19.985531   19.750917   19.455117   20.770711   20.001699   19.889798   \n",
       "4    21.673551   19.610012   18.376141   24.877052   23.147993   21.475342   \n",
       "\n",
       "    modelMag_i  modelMag_z  type_num  \n",
       "id                                    \n",
       "0    21.020605   21.147340         8  \n",
       "1    20.693389   20.512314         8  \n",
       "2    16.660177   16.688928         8  \n",
       "3    19.758113   19.552855         8  \n",
       "4    19.487330   18.375655        10  \n",
       "\n",
       "[5 rows x 23 columns]"
      ]
     },
     "execution_count": 10,
     "metadata": {},
     "output_type": "execute_result"
    }
   ],
   "source": [
    "train.head()"
   ]
  },
  {
   "cell_type": "markdown",
   "metadata": {},
   "source": [
    "## 결측치 확인"
   ]
  },
  {
   "cell_type": "code",
   "execution_count": 12,
   "metadata": {
    "scrolled": true
   },
   "outputs": [
    {
     "name": "stdout",
     "output_type": "stream",
     "text": [
      "<class 'pandas.core.frame.DataFrame'>\n",
      "Int64Index: 199991 entries, 0 to 199990\n",
      "Data columns (total 23 columns):\n",
      "type          199991 non-null object\n",
      "fiberID       199991 non-null int64\n",
      "psfMag_u      199991 non-null float64\n",
      "psfMag_g      199991 non-null float64\n",
      "psfMag_r      199991 non-null float64\n",
      "psfMag_i      199991 non-null float64\n",
      "psfMag_z      199991 non-null float64\n",
      "fiberMag_u    199991 non-null float64\n",
      "fiberMag_g    199991 non-null float64\n",
      "fiberMag_r    199991 non-null float64\n",
      "fiberMag_i    199991 non-null float64\n",
      "fiberMag_z    199991 non-null float64\n",
      "petroMag_u    199991 non-null float64\n",
      "petroMag_g    199991 non-null float64\n",
      "petroMag_r    199991 non-null float64\n",
      "petroMag_i    199991 non-null float64\n",
      "petroMag_z    199991 non-null float64\n",
      "modelMag_u    199991 non-null float64\n",
      "modelMag_g    199991 non-null float64\n",
      "modelMag_r    199991 non-null float64\n",
      "modelMag_i    199991 non-null float64\n",
      "modelMag_z    199991 non-null float64\n",
      "type_num      199991 non-null int64\n",
      "dtypes: float64(20), int64(2), object(1)\n",
      "memory usage: 36.6+ MB\n"
     ]
    }
   ],
   "source": [
    "train.info()"
   ]
  },
  {
   "cell_type": "markdown",
   "metadata": {},
   "source": [
    "# >> Outlier 제거"
   ]
  },
  {
   "cell_type": "code",
   "execution_count": 14,
   "metadata": {
    "scrolled": false
   },
   "outputs": [
    {
     "data": {
      "text/plain": [
       "<matplotlib.axes._subplots.AxesSubplot at 0x2000e10f988>"
      ]
     },
     "execution_count": 14,
     "metadata": {},
     "output_type": "execute_result"
    },
    {
     "data": {
      "image/png": "[encoded data removed]",
      "text/plain": [
       "<Figure size 936x360 with 1 Axes>"
      ]
     },
     "metadata": {},
     "output_type": "display_data"
    }
   ],
   "source": [
    "fig = plt.figure()\n",
    "plt.rcParams[\"figure.figsize\"] = (13,5)\n",
    "\n",
    "sns.boxplot('type_num', 'psfMag_r', data=train)"
   ]
  },
  {
   "cell_type": "code",
   "execution_count": 15,
   "metadata": {
    "scrolled": false
   },
   "outputs": [],
   "source": [
    "for column in train.columns[2:-1]:\n",
    "    train = train.drop(index=train[(train[column] < -50) | (train[column] > 300)].index)\n",
    "\n",
    "train = train.reset_index(drop=True)"
   ]
  },
  {
   "cell_type": "markdown",
   "metadata": {},
   "source": [
    "### Outlier 제거 후"
   ]
  },
  {
   "cell_type": "code",
   "execution_count": 16,
   "metadata": {
    "scrolled": false
   },
   "outputs": [
    {
     "data": {
      "text/plain": [
       "<matplotlib.axes._subplots.AxesSubplot at 0x2000ee2bb08>"
      ]
     },
     "execution_count": 16,
     "metadata": {},
     "output_type": "execute_result"
    },
    {
     "data": {
      "image/png": "[encoded data removed]",
      "text/plain": [
       "<Figure size 936x360 with 1 Axes>"
      ]
     },
     "metadata": {},
     "output_type": "display_data"
    }
   ],
   "source": [
    "fig = plt.figure()\n",
    "plt.rcParams[\"figure.figsize\"] = (13,5)\n",
    "\n",
    "sns.boxplot('type_num', 'psfMag_r', data=train)"
   ]
  },
  {
   "cell_type": "markdown",
   "metadata": {},
   "source": [
    "# 각 Type의 데이터 개수 분포 확인"
   ]
  },
  {
   "cell_type": "code",
   "execution_count": 17,
   "metadata": {
    "scrolled": true
   },
   "outputs": [],
   "source": [
    "value_dist = train['type'].value_counts()"
   ]
  },
  {
   "cell_type": "code",
   "execution_count": 18,
   "metadata": {
    "scrolled": false
   },
   "outputs": [
    {
     "data": {
      "text/plain": [
       "QSO                    49666\n",
       "GALAXY                 37307\n",
       "SERENDIPITY_BLUE       21754\n",
       "SPECTROPHOTO_STD       14629\n",
       "REDDEN_STD             14615\n",
       "STAR_RED_DWARF         13749\n",
       "STAR_BHB               13494\n",
       "SERENDIPITY_FIRST       7129\n",
       "ROSAT_D                 6557\n",
       "STAR_CATY_VAR           6505\n",
       "SERENDIPITY_DISTANT     4653\n",
       "STAR_CARBON             3256\n",
       "SERENDIPITY_RED         2560\n",
       "STAR_WHITE_DWARF        2160\n",
       "STAR_SUB_DWARF          1154\n",
       "STAR_BROWN_DWARF         500\n",
       "SKY                      127\n",
       "SERENDIPITY_MANUAL        61\n",
       "STAR_PN                   13\n",
       "Name: type, dtype: int64"
      ]
     },
     "execution_count": 18,
     "metadata": {},
     "output_type": "execute_result"
    }
   ],
   "source": [
    "value_dist"
   ]
  },
  {
   "cell_type": "code",
   "execution_count": 20,
   "metadata": {
    "scrolled": false
   },
   "outputs": [
    {
     "data": {
      "text/plain": [
       "<BarContainer object of 19 artists>"
      ]
     },
     "execution_count": 20,
     "metadata": {},
     "output_type": "execute_result"
    },
    {
     "data": {
      "image/png": "[encoded data removed]",
      "text/plain": [
       "<Figure size 1440x360 with 1 Axes>"
      ]
     },
     "metadata": {},
     "output_type": "display_data"
    }
   ],
   "source": [
    "# 위의 type별 value_counts 도식화 표현\n",
    "fig = plt.figure(figsize=(20, 5))\n",
    "ax = plt.subplot(1, 1, 1)\n",
    "\n",
    "for label in ax.xaxis.get_ticklabels() :\n",
    "    label.set_rotation(45)\n",
    "\n",
    "ax.bar(value_dist.index, value_dist.values)"
   ]
  },
  {
   "cell_type": "code",
   "execution_count": 19,
   "metadata": {
    "scrolled": true
   },
   "outputs": [
    {
     "data": {
      "image/png": "[encoded data removed]",
      "text/plain": [
       "<Figure size 936x360 with 20 Axes>"
      ]
     },
     "metadata": {},
     "output_type": "display_data"
    }
   ],
   "source": [
    "# 데이터 개수가 아주 적은 category의 칼럼별 수치 분포도 boxplot() 도식화\n",
    "# 이 분포를 기준으로 random 난수 생성해서 데이터를 부풀려야할지는 나중에 정해야 함\n",
    "fig, ax = plt.subplots(4,5)\n",
    "idx_row = 0\n",
    "for idx, column in enumerate(train.columns[2:-1]):\n",
    "    sns.boxplot(train[train['type'] == 'STAR_PN'][column], ax=ax[idx_row,idx%5])\n",
    "    if idx%5 == 4:\n",
    "        idx_row += 1\n",
    "    \n",
    "fig.tight_layout()"
   ]
  },
  {
   "cell_type": "markdown",
   "metadata": {},
   "source": [
    "## 데이터가 가장 많은 QSO를 기준으로 49000여개로 데이터를 맞추기 위한 함수\n",
    "## 생략"
   ]
  },
  {
   "cell_type": "code",
   "execution_count": 72,
   "metadata": {},
   "outputs": [],
   "source": [
    "# def equalTypeNumber(df):\n",
    "#     dist_value = df['type'].value_counts()\n",
    "#     type_list = dist_value.index\n",
    "#     for idx, typeName in enumerate(type_list):\n",
    "#         if idx == 0:\n",
    "#             continue\n",
    "        \n",
    "#         # value_counts()의 결과를 토대로 데이터 개수가 가장 큰 QSO를 기준으로 한다.\n",
    "#         # 나머지 type에 대해 \n",
    "#         count = dist_value.values[0] % dist_value.values[idx]\n",
    "#         random_idx = random.sample(list(np.arange(0,len(df[df['type'] == typeName]),1)), count)\n",
    "#         sample_train = df.iloc[df[df['type'] == typeName].index[random_idx]]\n",
    "        \n",
    "#         duplicate = int(dist_value.values[0] / dist_value.values[idx])\n",
    "#         temp = df[df['type'] == typeName]\n",
    "        \n",
    "#         for i in range(duplicate - 1):\n",
    "#             tmp_idx1 = {original_idx : (new_idx + len(df)) for new_idx, original_idx in enumerate(temp.index)}\n",
    "#             temp.rename(index=tmp_idx1, inplace=True)\n",
    "#             df = df.append(temp)\n",
    "        \n",
    "#         tmp_idx2 = {original_idx : (new_idx + len(df)) for new_idx, original_idx in enumerate(sample_train.index)}\n",
    "#         sample_train.rename(index=tmp_idx2, inplace=True)\n",
    "#         df = df.append(sample_train)\n",
    "        \n",
    "#     return df"
   ]
  },
  {
   "cell_type": "code",
   "execution_count": 73,
   "metadata": {
    "scrolled": false
   },
   "outputs": [],
   "source": [
    "# train = equalTypeNumber(train)\n",
    "# train"
   ]
  },
  {
   "cell_type": "markdown",
   "metadata": {},
   "source": [
    "### 데이터 개수 동일화 결과 보기 - 생략"
   ]
  },
  {
   "cell_type": "code",
   "execution_count": 13,
   "metadata": {
    "scrolled": true
   },
   "outputs": [],
   "source": [
    "# value_dist = train['type'].value_counts()"
   ]
  },
  {
   "cell_type": "code",
   "execution_count": 21,
   "metadata": {
    "scrolled": false
   },
   "outputs": [],
   "source": [
    "# value_dist"
   ]
  },
  {
   "cell_type": "code",
   "execution_count": 22,
   "metadata": {
    "scrolled": false
   },
   "outputs": [],
   "source": [
    "# 동일화 한 이후로 그래프 표현\n",
    "\n",
    "# fig = plt.figure(figsize=(20, 5))\n",
    "# ax = plt.subplot(1, 1, 1)\n",
    "\n",
    "# for label in ax.xaxis.get_ticklabels() :\n",
    "#     label.set_rotation(45)\n",
    "\n",
    "# ax.bar(value_dist.index, value_dist.values)"
   ]
  },
  {
   "cell_type": "markdown",
   "metadata": {},
   "source": [
    "# Test Set 확인"
   ]
  },
  {
   "cell_type": "code",
   "execution_count": 23,
   "metadata": {
    "scrolled": true
   },
   "outputs": [
    {
     "data": {
      "text/html": [
       "<div>\n",
       "<style scoped>\n",
       "    .dataframe tbody tr th:only-of-type {\n",
       "        vertical-align: middle;\n",
       "    }\n",
       "\n",
       "    .dataframe tbody tr th {\n",
       "        vertical-align: top;\n",
       "    }\n",
       "\n",
       "    .dataframe thead th {\n",
       "        text-align: right;\n",
       "    }\n",
       "</style>\n",
       "<table border=\"1\" class=\"dataframe\">\n",
       "  <thead>\n",
       "    <tr style=\"text-align: right;\">\n",
       "      <th></th>\n",
       "      <th>fiberID</th>\n",
       "      <th>psfMag_u</th>\n",
       "      <th>psfMag_g</th>\n",
       "      <th>psfMag_r</th>\n",
       "      <th>psfMag_i</th>\n",
       "      <th>psfMag_z</th>\n",
       "      <th>fiberMag_u</th>\n",
       "      <th>fiberMag_g</th>\n",
       "      <th>fiberMag_r</th>\n",
       "      <th>fiberMag_i</th>\n",
       "      <th>...</th>\n",
       "      <th>petroMag_u</th>\n",
       "      <th>petroMag_g</th>\n",
       "      <th>petroMag_r</th>\n",
       "      <th>petroMag_i</th>\n",
       "      <th>petroMag_z</th>\n",
       "      <th>modelMag_u</th>\n",
       "      <th>modelMag_g</th>\n",
       "      <th>modelMag_r</th>\n",
       "      <th>modelMag_i</th>\n",
       "      <th>modelMag_z</th>\n",
       "    </tr>\n",
       "    <tr>\n",
       "      <th>id</th>\n",
       "      <th></th>\n",
       "      <th></th>\n",
       "      <th></th>\n",
       "      <th></th>\n",
       "      <th></th>\n",
       "      <th></th>\n",
       "      <th></th>\n",
       "      <th></th>\n",
       "      <th></th>\n",
       "      <th></th>\n",
       "      <th></th>\n",
       "      <th></th>\n",
       "      <th></th>\n",
       "      <th></th>\n",
       "      <th></th>\n",
       "      <th></th>\n",
       "      <th></th>\n",
       "      <th></th>\n",
       "      <th></th>\n",
       "      <th></th>\n",
       "      <th></th>\n",
       "    </tr>\n",
       "  </thead>\n",
       "  <tbody>\n",
       "    <tr>\n",
       "      <td>199991</td>\n",
       "      <td>251</td>\n",
       "      <td>23.817399</td>\n",
       "      <td>22.508963</td>\n",
       "      <td>20.981106</td>\n",
       "      <td>18.517316</td>\n",
       "      <td>17.076079</td>\n",
       "      <td>25.053890</td>\n",
       "      <td>23.167848</td>\n",
       "      <td>21.335901</td>\n",
       "      <td>18.835858</td>\n",
       "      <td>...</td>\n",
       "      <td>22.246697</td>\n",
       "      <td>22.796239</td>\n",
       "      <td>21.195315</td>\n",
       "      <td>18.584486</td>\n",
       "      <td>17.154284</td>\n",
       "      <td>25.391534</td>\n",
       "      <td>22.499435</td>\n",
       "      <td>21.011918</td>\n",
       "      <td>18.499341</td>\n",
       "      <td>17.091474</td>\n",
       "    </tr>\n",
       "    <tr>\n",
       "      <td>199992</td>\n",
       "      <td>386</td>\n",
       "      <td>22.806983</td>\n",
       "      <td>21.937111</td>\n",
       "      <td>20.335770</td>\n",
       "      <td>20.000512</td>\n",
       "      <td>19.527369</td>\n",
       "      <td>22.498565</td>\n",
       "      <td>22.186000</td>\n",
       "      <td>20.618879</td>\n",
       "      <td>20.301204</td>\n",
       "      <td>...</td>\n",
       "      <td>21.729831</td>\n",
       "      <td>21.837511</td>\n",
       "      <td>20.196128</td>\n",
       "      <td>19.967204</td>\n",
       "      <td>19.683671</td>\n",
       "      <td>22.475338</td>\n",
       "      <td>21.853442</td>\n",
       "      <td>20.173169</td>\n",
       "      <td>19.796757</td>\n",
       "      <td>19.567372</td>\n",
       "    </tr>\n",
       "    <tr>\n",
       "      <td>199993</td>\n",
       "      <td>232</td>\n",
       "      <td>21.024250</td>\n",
       "      <td>19.235669</td>\n",
       "      <td>18.304061</td>\n",
       "      <td>17.808608</td>\n",
       "      <td>17.380113</td>\n",
       "      <td>21.205546</td>\n",
       "      <td>19.439533</td>\n",
       "      <td>18.344433</td>\n",
       "      <td>17.909690</td>\n",
       "      <td>...</td>\n",
       "      <td>20.722629</td>\n",
       "      <td>18.710223</td>\n",
       "      <td>17.611851</td>\n",
       "      <td>17.158519</td>\n",
       "      <td>16.843986</td>\n",
       "      <td>20.579314</td>\n",
       "      <td>18.653338</td>\n",
       "      <td>17.562108</td>\n",
       "      <td>17.120529</td>\n",
       "      <td>16.708748</td>\n",
       "    </tr>\n",
       "    <tr>\n",
       "      <td>199994</td>\n",
       "      <td>557</td>\n",
       "      <td>20.503424</td>\n",
       "      <td>20.286261</td>\n",
       "      <td>20.197204</td>\n",
       "      <td>20.162419</td>\n",
       "      <td>20.059832</td>\n",
       "      <td>20.976132</td>\n",
       "      <td>20.611498</td>\n",
       "      <td>20.567262</td>\n",
       "      <td>20.479318</td>\n",
       "      <td>...</td>\n",
       "      <td>20.329269</td>\n",
       "      <td>20.385262</td>\n",
       "      <td>20.129157</td>\n",
       "      <td>20.206574</td>\n",
       "      <td>20.212342</td>\n",
       "      <td>20.479879</td>\n",
       "      <td>20.280943</td>\n",
       "      <td>20.150499</td>\n",
       "      <td>20.206221</td>\n",
       "      <td>20.092909</td>\n",
       "    </tr>\n",
       "    <tr>\n",
       "      <td>199995</td>\n",
       "      <td>75</td>\n",
       "      <td>24.244851</td>\n",
       "      <td>22.668237</td>\n",
       "      <td>21.239333</td>\n",
       "      <td>19.284777</td>\n",
       "      <td>18.235939</td>\n",
       "      <td>25.681860</td>\n",
       "      <td>22.935289</td>\n",
       "      <td>21.642456</td>\n",
       "      <td>19.624926</td>\n",
       "      <td>...</td>\n",
       "      <td>22.308298</td>\n",
       "      <td>22.957496</td>\n",
       "      <td>21.285033</td>\n",
       "      <td>19.299120</td>\n",
       "      <td>18.307526</td>\n",
       "      <td>25.489360</td>\n",
       "      <td>22.857290</td>\n",
       "      <td>21.191862</td>\n",
       "      <td>19.237964</td>\n",
       "      <td>18.280368</td>\n",
       "    </tr>\n",
       "  </tbody>\n",
       "</table>\n",
       "<p>5 rows × 21 columns</p>\n",
       "</div>"
      ],
      "text/plain": [
       "        fiberID   psfMag_u   psfMag_g   psfMag_r   psfMag_i   psfMag_z  \\\n",
       "id                                                                       \n",
       "199991      251  23.817399  22.508963  20.981106  18.517316  17.076079   \n",
       "199992      386  22.806983  21.937111  20.335770  20.000512  19.527369   \n",
       "199993      232  21.024250  19.235669  18.304061  17.808608  17.380113   \n",
       "199994      557  20.503424  20.286261  20.197204  20.162419  20.059832   \n",
       "199995       75  24.244851  22.668237  21.239333  19.284777  18.235939   \n",
       "\n",
       "        fiberMag_u  fiberMag_g  fiberMag_r  fiberMag_i  ...  petroMag_u  \\\n",
       "id                                                      ...               \n",
       "199991   25.053890   23.167848   21.335901   18.835858  ...   22.246697   \n",
       "199992   22.498565   22.186000   20.618879   20.301204  ...   21.729831   \n",
       "199993   21.205546   19.439533   18.344433   17.909690  ...   20.722629   \n",
       "199994   20.976132   20.611498   20.567262   20.479318  ...   20.329269   \n",
       "199995   25.681860   22.935289   21.642456   19.624926  ...   22.308298   \n",
       "\n",
       "        petroMag_g  petroMag_r  petroMag_i  petroMag_z  modelMag_u  \\\n",
       "id                                                                   \n",
       "199991   22.796239   21.195315   18.584486   17.154284   25.391534   \n",
       "199992   21.837511   20.196128   19.967204   19.683671   22.475338   \n",
       "199993   18.710223   17.611851   17.158519   16.843986   20.579314   \n",
       "199994   20.385262   20.129157   20.206574   20.212342   20.479879   \n",
       "199995   22.957496   21.285033   19.299120   18.307526   25.489360   \n",
       "\n",
       "        modelMag_g  modelMag_r  modelMag_i  modelMag_z  \n",
       "id                                                      \n",
       "199991   22.499435   21.011918   18.499341   17.091474  \n",
       "199992   21.853442   20.173169   19.796757   19.567372  \n",
       "199993   18.653338   17.562108   17.120529   16.708748  \n",
       "199994   20.280943   20.150499   20.206221   20.092909  \n",
       "199995   22.857290   21.191862   19.237964   18.280368  \n",
       "\n",
       "[5 rows x 21 columns]"
      ]
     },
     "execution_count": 23,
     "metadata": {},
     "output_type": "execute_result"
    }
   ],
   "source": [
    "test.head()"
   ]
  },
  {
   "cell_type": "markdown",
   "metadata": {},
   "source": [
    "## Test set 결측치 확인"
   ]
  },
  {
   "cell_type": "code",
   "execution_count": 24,
   "metadata": {
    "scrolled": true
   },
   "outputs": [
    {
     "name": "stdout",
     "output_type": "stream",
     "text": [
      "<class 'pandas.core.frame.DataFrame'>\n",
      "Int64Index: 10009 entries, 199991 to 209999\n",
      "Data columns (total 21 columns):\n",
      "fiberID       10009 non-null int64\n",
      "psfMag_u      10009 non-null float64\n",
      "psfMag_g      10009 non-null float64\n",
      "psfMag_r      10009 non-null float64\n",
      "psfMag_i      10009 non-null float64\n",
      "psfMag_z      10009 non-null float64\n",
      "fiberMag_u    10009 non-null float64\n",
      "fiberMag_g    10009 non-null float64\n",
      "fiberMag_r    10009 non-null float64\n",
      "fiberMag_i    10009 non-null float64\n",
      "fiberMag_z    10009 non-null float64\n",
      "petroMag_u    10009 non-null float64\n",
      "petroMag_g    10009 non-null float64\n",
      "petroMag_r    10009 non-null float64\n",
      "petroMag_i    10009 non-null float64\n",
      "petroMag_z    10009 non-null float64\n",
      "modelMag_u    10009 non-null float64\n",
      "modelMag_g    10009 non-null float64\n",
      "modelMag_r    10009 non-null float64\n",
      "modelMag_i    10009 non-null float64\n",
      "modelMag_z    10009 non-null float64\n",
      "dtypes: float64(20), int64(1)\n",
      "memory usage: 1.7 MB\n"
     ]
    }
   ],
   "source": [
    "test.info()"
   ]
  },
  {
   "cell_type": "markdown",
   "metadata": {},
   "source": [
    "## Test Set boxplot 그래프로 데이터 분포 확인"
   ]
  },
  {
   "cell_type": "code",
   "execution_count": 79,
   "metadata": {},
   "outputs": [
    {
     "data": {
      "image/png": "[encoded data removed]",
      "text/plain": [
       "<Figure size 864x576 with 6 Axes>"
      ]
     },
     "metadata": {},
     "output_type": "display_data"
    }
   ],
   "source": [
    "# 함수로 칼럼별 그래프 그리는 코드 구성하기\n",
    "\n",
    "fig, ax = plt.subplots(3,2, figsize=(12,8))\n",
    "sns.boxplot(test['psfMag_u'], ax=ax[0,0])\n",
    "sns.boxplot(test['psfMag_g'], ax=ax[0,1])\n",
    "sns.boxplot(test['psfMag_r'], ax=ax[1,0])\n",
    "sns.boxplot(test['psfMag_i'], ax=ax[1,1])\n",
    "sns.boxplot(test['psfMag_z'], ax=ax[2,0])\n",
    "fig.tight_layout()"
   ]
  },
  {
   "cell_type": "markdown",
   "metadata": {},
   "source": [
    "# >> Model 돌리기 전 준비"
   ]
  },
  {
   "cell_type": "code",
   "execution_count": 25,
   "metadata": {},
   "outputs": [],
   "source": [
    "# train set 정답지, 문제지 / test set 설정\n",
    "train_X = train.drop(columns=['type', 'type_num'], axis=1)\n",
    "train_y = train['type_num']\n",
    "test_x = test"
   ]
  },
  {
   "cell_type": "code",
   "execution_count": 26,
   "metadata": {
    "scrolled": true
   },
   "outputs": [
    {
     "data": {
      "text/plain": [
       "(199889, 21)"
      ]
     },
     "execution_count": 26,
     "metadata": {},
     "output_type": "execute_result"
    }
   ],
   "source": [
    "train_X.shape"
   ]
  },
  {
   "cell_type": "markdown",
   "metadata": {},
   "source": [
    "### Validation을 위한 train set split"
   ]
  },
  {
   "cell_type": "code",
   "execution_count": 18,
   "metadata": {},
   "outputs": [],
   "source": [
    "X_train, X_test, y_train, y_test = train_test_split(train_X, \n",
    "                                                    train_y, \n",
    "                                                    stratify = train_y,\n",
    "                                                    test_size=0.2, \n",
    "                                                    random_state=1234)"
   ]
  },
  {
   "cell_type": "markdown",
   "metadata": {},
   "source": [
    "### stratifiedKFold or KFold 사용 (데이터 정답지의 개수 분포를 보고 결정)"
   ]
  },
  {
   "cell_type": "code",
   "execution_count": 27,
   "metadata": {},
   "outputs": [],
   "source": [
    "# kfold = KFold(n_splits=6, random_state= 0, shuffle = True)\n",
    "kfold_s = StratifiedKFold(n_splits=6, random_state= 0, shuffle = True)"
   ]
  },
  {
   "cell_type": "markdown",
   "metadata": {},
   "source": [
    "# >> Model 돌리기"
   ]
  },
  {
   "cell_type": "markdown",
   "metadata": {},
   "source": [
    "### 모델 관련 library import"
   ]
  },
  {
   "cell_type": "code",
   "execution_count": 21,
   "metadata": {},
   "outputs": [],
   "source": [
    "import xgboost as xgb\n",
    "from xgboost import XGBClassifier\n",
    "# from sklearn.neighbors import KNeighborsClassifier\n",
    "# from sklearn.ensemble import RandomForestClassifier, RandomForestRegressor"
   ]
  },
  {
   "cell_type": "code",
   "execution_count": 112,
   "metadata": {},
   "outputs": [],
   "source": [
    "# K-Nearest Neighbors Model\n",
    "# knn = KNeighborsClassifier(n_neighbors=20, weights='distance', n_jobs=-1)"
   ]
  },
  {
   "cell_type": "code",
   "execution_count": 141,
   "metadata": {},
   "outputs": [],
   "source": [
    "# Random Forest Model\n",
    "# RF_cif = RandomForestClassifier(n_estimators=500, max_features=6, random_state=1234)"
   ]
  },
  {
   "cell_type": "code",
   "execution_count": null,
   "metadata": {},
   "outputs": [],
   "source": [
    "# LGB = LGBMClassifier(random_state =1234, n_jobs = -1)"
   ]
  },
  {
   "cell_type": "code",
   "execution_count": null,
   "metadata": {},
   "outputs": [],
   "source": [
    "# XGboost Model\n",
    "XGBC = XGBClassifier(n_jobs=-1, random_state=1234)"
   ]
  },
  {
   "cell_type": "code",
   "execution_count": 186,
   "metadata": {},
   "outputs": [],
   "source": [
    "# XGBoost parameter tuning\n",
    "\n",
    "xgc_param_grid = {\n",
    "    'n_estimators' : [200],\n",
    "    'learning_rate' :[0.15],\n",
    "    #'eta': np.arange(0,0.3,0.1),\n",
    "    #'min_child_weight' : np.arange(4,7,1),\n",
    "    'max_depth' : np.arange(3,10,1)             \n",
    "}"
   ]
  },
  {
   "cell_type": "code",
   "execution_count": null,
   "metadata": {},
   "outputs": [],
   "source": [
    "# LGBM parameter tuning\n",
    "\n",
    "# lb_param_grid = {\n",
    "#     'learning_rate' : [0.1],\n",
    "#     'num_iterations' : [200],\n",
    "#     'max_bin' : [300],\n",
    "#     'num_leaves':[256]\n",
    "# #     'num_boost_round' : [1000]\n",
    "# }"
   ]
  },
  {
   "cell_type": "markdown",
   "metadata": {},
   "source": [
    "- Randomized Search"
   ]
  },
  {
   "cell_type": "code",
   "execution_count": null,
   "metadata": {},
   "outputs": [],
   "source": [
    "n_iter_search = 10\n",
    "xgv = RandomizedSearchCV(XGBC, \n",
    "                         xgc_param_grid, \n",
    "                             cv=kfold_s,\n",
    "                             n_jobs=-1,\n",
    "                             random_state=1234,\n",
    "                             scoring='neg_log_loss')\n",
    "                            #n_iter=n_iter_search)\n",
    "xgv.fit(X_train, y_train)"
   ]
  },
  {
   "cell_type": "code",
   "execution_count": 97,
   "metadata": {},
   "outputs": [],
   "source": []
  },
  {
   "cell_type": "code",
   "execution_count": null,
   "metadata": {},
   "outputs": [],
   "source": [
    "# LGB = LGBMClassifier(learning_rate=0.1, \n",
    "#                      num_iterations =200, \n",
    "#                      max_bin=300, \n",
    "#                      num_leaves =256, \n",
    "#                      boosting='dart',\n",
    "#                      random_state=1234, \n",
    "#                      n_jobs = -1)\n"
   ]
  },
  {
   "cell_type": "markdown",
   "metadata": {},
   "source": [
    "### Cross Validation"
   ]
  },
  {
   "cell_type": "code",
   "execution_count": null,
   "metadata": {},
   "outputs": [],
   "source": [
    "log_loss = cross_val_score(RF_cif, X_train, y_train, cv=kfold_s, scoring='neg_log_loss')"
   ]
  },
  {
   "cell_type": "markdown",
   "metadata": {},
   "source": [
    "# >> Validation을 통해 모델 성능 확인"
   ]
  },
  {
   "cell_type": "code",
   "execution_count": 26,
   "metadata": {},
   "outputs": [],
   "source": [
    "# Test with Test Set\n",
    "y_pred = catb_best.predict(X_test)"
   ]
  },
  {
   "cell_type": "code",
   "execution_count": 27,
   "metadata": {
    "scrolled": true
   },
   "outputs": [
    {
     "data": {
      "text/plain": [
       "0.9094001700935515"
      ]
     },
     "execution_count": 27,
     "metadata": {},
     "output_type": "execute_result"
    }
   ],
   "source": [
    "accuracy_score(y_test, y_pred)"
   ]
  },
  {
   "cell_type": "code",
   "execution_count": 32,
   "metadata": {
    "scrolled": true
   },
   "outputs": [
    {
     "data": {
      "text/plain": [
       "30667      5\n",
       "103239    15\n",
       "50562      4\n",
       "129161     6\n",
       "159805     5\n",
       "          ..\n",
       "195079    18\n",
       "165249     8\n",
       "183755    11\n",
       "163341    11\n",
       "196364     8\n",
       "Name: type_num, Length: 39978, dtype: int64"
      ]
     },
     "execution_count": 32,
     "metadata": {},
     "output_type": "execute_result"
    }
   ],
   "source": [
    "y_pred"
   ]
  },
  {
   "cell_type": "markdown",
   "metadata": {},
   "source": [
    "- CatBoost 사용시 list로 변환해주어야 한다."
   ]
  },
  {
   "cell_type": "code",
   "execution_count": 48,
   "metadata": {
    "scrolled": false
   },
   "outputs": [],
   "source": [
    "# catboost predict 결과가 이중 numpy.array형태로 되어있어서 \n",
    "# 벗겨서 list로 만드는 작업\n",
    "y_pred_list = []\n",
    "for i in y_pred:\n",
    "    y_pred_list.append(int(i))"
   ]
  },
  {
   "cell_type": "markdown",
   "metadata": {},
   "source": [
    "- CatBoost 이외의 알고리즘은 변환해줄 필요 없다."
   ]
  },
  {
   "cell_type": "code",
   "execution_count": 49,
   "metadata": {},
   "outputs": [],
   "source": [
    "category = {}\n",
    "for i, column in enumerate(sample_submission.columns):\n",
    "    category[i] = column"
   ]
  },
  {
   "cell_type": "code",
   "execution_count": 50,
   "metadata": {
    "scrolled": true
   },
   "outputs": [
    {
     "name": "stdout",
     "output_type": "stream",
     "text": [
      "category 0 \tSTAR_WHITE_DWARF : 0.6412037037037037\n",
      "category 1 \tSTAR_CATY_VAR : 0.9707916986933128\n",
      "category 2 \tSTAR_BROWN_DWARF : 0.87\n",
      "category 3 \tSERENDIPITY_RED : 0.943359375\n",
      "category 4 \tREDDEN_STD : 0.9787889154977762\n",
      "category 5 \tSTAR_BHB : 0.8995924416450537\n",
      "category 6 \tGALAXY : 0.9882053344055757\n",
      "category 7 \tSERENDIPITY_DISTANT : 0.7089151450053706\n",
      "category 8 \tQSO : 0.9085875364945133\n",
      "category 9 \tSKY : 0.96\n",
      "category 10 \tSTAR_RED_DWARF : 0.990909090909091\n",
      "category 11 \tROSAT_D : 0.38291380625476734\n",
      "category 12 \tSTAR_PN : 0.6666666666666666\n",
      "category 13 \tSERENDIPITY_FIRST : 0.6669004207573632\n",
      "category 14 \tSTAR_CARBON : 0.9846390168970814\n",
      "category 15 \tSPECTROPHOTO_STD : 0.9736842105263158\n",
      "category 16 \tSTAR_SUB_DWARF : 0.9437229437229437\n",
      "category 17 \tSERENDIPITY_MANUAL : 0.75\n",
      "category 18 \tSERENDIPITY_BLUE : 0.9142725810158584\n"
     ]
    }
   ],
   "source": [
    "for cate in range(19):\n",
    "    print(\"category\",cate,\"\\t\"+ category[cate],':', sum(((y_test == cate) & (y_test == y_pred_list))) / sum(y_test == cate))"
   ]
  },
  {
   "cell_type": "code",
   "execution_count": 166,
   "metadata": {
    "scrolled": true
   },
   "outputs": [
    {
     "data": {
      "text/plain": [
       "LGBMClassifier(boosting='dart', boosting_type='gbdt', class_weight=None,\n",
       "               colsample_bytree=1.0, importance_type='split', learning_rate=0.1,\n",
       "               max_bin=300, max_depth=-1, min_child_samples=20,\n",
       "               min_child_weight=0.001, min_split_gain=0.0, n_estimators=100,\n",
       "               n_jobs=-1, num_iterations=200, num_leaves=256, objective=None,\n",
       "               random_state=1234, reg_alpha=0.0, reg_lambda=0.0, silent=True,\n",
       "               subsample=1.0, subsample_for_bin=200000, subsample_freq=0)"
      ]
     },
     "execution_count": 166,
     "metadata": {},
     "output_type": "execute_result"
    }
   ],
   "source": [
    "xgv.best_estimator_"
   ]
  },
  {
   "cell_type": "code",
   "execution_count": 167,
   "metadata": {
    "scrolled": false
   },
   "outputs": [
    {
     "data": {
      "text/plain": [
       "-0.16495541622762006"
      ]
     },
     "execution_count": 167,
     "metadata": {},
     "output_type": "execute_result"
    }
   ],
   "source": [
    "xgv.best_score_"
   ]
  },
  {
   "cell_type": "markdown",
   "metadata": {},
   "source": [
    "# >> 제출"
   ]
  },
  {
   "cell_type": "code",
   "execution_count": 22,
   "metadata": {},
   "outputs": [],
   "source": [
    "XGV_best = xgv.best_estimator_\n",
    "y_pred = XGV_best.predict_proba(test_x)"
   ]
  },
  {
   "cell_type": "code",
   "execution_count": 23,
   "metadata": {},
   "outputs": [],
   "source": [
    "submission = pd.DataFrame(data=y_pred, columns=sample_submission.columns, index=sample_submission.index)\n",
    "submission.to_csv('submission_xgb.csv', index=True)"
   ]
  },
  {
   "cell_type": "markdown",
   "metadata": {},
   "source": [
    "# >> 모델 저장"
   ]
  },
  {
   "cell_type": "code",
   "execution_count": null,
   "metadata": {},
   "outputs": [],
   "source": [
    "from joblib import dump, load"
   ]
  },
  {
   "cell_type": "code",
   "execution_count": null,
   "metadata": {},
   "outputs": [],
   "source": [
    "dump()"
   ]
  }
 ],
 "metadata": {
  "kernelspec": {
   "display_name": "Python 3",
   "language": "python",
   "name": "python3"
  },
  "language_info": {
   "codemirror_mode": {
    "name": "ipython",
    "version": 3
   },
   "file_extension": ".py",
   "mimetype": "text/x-python",
   "name": "python",
   "nbconvert_exporter": "python",
   "pygments_lexer": "ipython3",
   "version": "3.7.4"
  }
 },
 "nbformat": 4,
 "nbformat_minor": 2
}
