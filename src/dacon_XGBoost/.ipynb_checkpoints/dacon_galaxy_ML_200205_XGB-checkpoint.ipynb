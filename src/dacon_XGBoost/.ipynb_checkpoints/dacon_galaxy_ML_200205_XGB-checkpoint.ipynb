{
 "cells": [
  {
   "cell_type": "code",
   "execution_count": 1,
   "metadata": {},
   "outputs": [],
   "source": [
    "import numpy as np\n",
    "import pandas as pd\n",
    "%matplotlib inline\n",
    "import matplotlib.pylab as plt"
   ]
  },
  {
   "cell_type": "code",
   "execution_count": 2,
   "metadata": {},
   "outputs": [],
   "source": [
    "from sklearn import preprocessing\n",
    "from sklearn.preprocessing import LabelEncoder\n",
    "from sklearn.preprocessing import OneHotEncoder\n",
    "from sklearn.preprocessing import StandardScaler"
   ]
  },
  {
   "cell_type": "code",
   "execution_count": 3,
   "metadata": {},
   "outputs": [],
   "source": [
    "from sklearn.model_selection import train_test_split"
   ]
  },
  {
   "cell_type": "code",
   "execution_count": 4,
   "metadata": {},
   "outputs": [],
   "source": [
    "import seaborn as sns\n",
    "sns.set()"
   ]
  },
  {
   "cell_type": "code",
   "execution_count": 5,
   "metadata": {},
   "outputs": [],
   "source": [
    "from sklearn.model_selection import GridSearchCV,RandomizedSearchCV,learning_curve, cross_val_score\n",
    "from sklearn.preprocessing import StandardScaler, RobustScaler\n",
    "from sklearn.svm import SVR\n",
    "from sklearn.ensemble import RandomForestRegressor\n",
    "from sklearn.metrics import accuracy_score, mean_squared_error\n",
    "from sklearn.ensemble import RandomForestClassifier\n",
    "from sklearn.cluster import KMeans"
   ]
  },
  {
   "cell_type": "code",
   "execution_count": 6,
   "metadata": {},
   "outputs": [],
   "source": [
    "from sklearn.model_selection import KFold, StratifiedKFold"
   ]
  },
  {
   "cell_type": "code",
   "execution_count": 7,
   "metadata": {},
   "outputs": [],
   "source": [
    "train = pd.read_csv(\"../data/dacon_galaxy/galaxy_train.csv\", index_col=0)\n",
    "test = pd.read_csv('../data/dacon_galaxy/galaxy_test.csv', index_col=0)\n",
    "sample_submission = pd.read_csv('../data/dacon_galaxy/sample_submission.csv', index_col=0)"
   ]
  },
  {
   "cell_type": "code",
   "execution_count": 8,
   "metadata": {},
   "outputs": [],
   "source": [
    "column_number = {}\n",
    "for i, column in enumerate(sample_submission.columns):\n",
    "    column_number[column] = i\n",
    "    \n",
    "def to_number(x, dic):\n",
    "    return dic[x]\n",
    "\n",
    "train['type_num'] = train['type'].apply(lambda x: to_number(x, column_number))"
   ]
  },
  {
   "cell_type": "code",
   "execution_count": 11,
   "metadata": {
    "scrolled": false
   },
   "outputs": [
    {
     "data": {
      "text/html": [
       "<div>\n",
       "<style scoped>\n",
       "    .dataframe tbody tr th:only-of-type {\n",
       "        vertical-align: middle;\n",
       "    }\n",
       "\n",
       "    .dataframe tbody tr th {\n",
       "        vertical-align: top;\n",
       "    }\n",
       "\n",
       "    .dataframe thead th {\n",
       "        text-align: right;\n",
       "    }\n",
       "</style>\n",
       "<table border=\"1\" class=\"dataframe\">\n",
       "  <thead>\n",
       "    <tr style=\"text-align: right;\">\n",
       "      <th></th>\n",
       "      <th>type</th>\n",
       "      <th>fiberID</th>\n",
       "      <th>psfMag_u</th>\n",
       "      <th>psfMag_g</th>\n",
       "      <th>psfMag_r</th>\n",
       "      <th>psfMag_i</th>\n",
       "      <th>psfMag_z</th>\n",
       "      <th>fiberMag_u</th>\n",
       "      <th>fiberMag_g</th>\n",
       "      <th>fiberMag_r</th>\n",
       "      <th>...</th>\n",
       "      <th>petroMag_g</th>\n",
       "      <th>petroMag_r</th>\n",
       "      <th>petroMag_i</th>\n",
       "      <th>petroMag_z</th>\n",
       "      <th>modelMag_u</th>\n",
       "      <th>modelMag_g</th>\n",
       "      <th>modelMag_r</th>\n",
       "      <th>modelMag_i</th>\n",
       "      <th>modelMag_z</th>\n",
       "      <th>type_num</th>\n",
       "    </tr>\n",
       "    <tr>\n",
       "      <th>id</th>\n",
       "      <th></th>\n",
       "      <th></th>\n",
       "      <th></th>\n",
       "      <th></th>\n",
       "      <th></th>\n",
       "      <th></th>\n",
       "      <th></th>\n",
       "      <th></th>\n",
       "      <th></th>\n",
       "      <th></th>\n",
       "      <th></th>\n",
       "      <th></th>\n",
       "      <th></th>\n",
       "      <th></th>\n",
       "      <th></th>\n",
       "      <th></th>\n",
       "      <th></th>\n",
       "      <th></th>\n",
       "      <th></th>\n",
       "      <th></th>\n",
       "      <th></th>\n",
       "    </tr>\n",
       "  </thead>\n",
       "  <tbody>\n",
       "    <tr>\n",
       "      <td>0</td>\n",
       "      <td>QSO</td>\n",
       "      <td>601</td>\n",
       "      <td>23.198224</td>\n",
       "      <td>21.431953</td>\n",
       "      <td>21.314148</td>\n",
       "      <td>21.176553</td>\n",
       "      <td>21.171444</td>\n",
       "      <td>22.581309</td>\n",
       "      <td>21.644453</td>\n",
       "      <td>21.657571</td>\n",
       "      <td>...</td>\n",
       "      <td>21.431636</td>\n",
       "      <td>21.478312</td>\n",
       "      <td>21.145409</td>\n",
       "      <td>20.422446</td>\n",
       "      <td>22.749241</td>\n",
       "      <td>21.465534</td>\n",
       "      <td>21.364187</td>\n",
       "      <td>21.020605</td>\n",
       "      <td>21.147340</td>\n",
       "      <td>8</td>\n",
       "    </tr>\n",
       "    <tr>\n",
       "      <td>1</td>\n",
       "      <td>QSO</td>\n",
       "      <td>788</td>\n",
       "      <td>21.431355</td>\n",
       "      <td>20.708104</td>\n",
       "      <td>20.678850</td>\n",
       "      <td>20.703420</td>\n",
       "      <td>20.473229</td>\n",
       "      <td>21.868797</td>\n",
       "      <td>21.029773</td>\n",
       "      <td>20.967054</td>\n",
       "      <td>...</td>\n",
       "      <td>20.778968</td>\n",
       "      <td>20.889705</td>\n",
       "      <td>20.639812</td>\n",
       "      <td>20.646660</td>\n",
       "      <td>21.492955</td>\n",
       "      <td>20.758527</td>\n",
       "      <td>20.753925</td>\n",
       "      <td>20.693389</td>\n",
       "      <td>20.512314</td>\n",
       "      <td>8</td>\n",
       "    </tr>\n",
       "    <tr>\n",
       "      <td>2</td>\n",
       "      <td>QSO</td>\n",
       "      <td>427</td>\n",
       "      <td>17.851451</td>\n",
       "      <td>16.727898</td>\n",
       "      <td>16.679677</td>\n",
       "      <td>16.694640</td>\n",
       "      <td>16.641788</td>\n",
       "      <td>18.171890</td>\n",
       "      <td>17.033098</td>\n",
       "      <td>16.999682</td>\n",
       "      <td>...</td>\n",
       "      <td>16.738784</td>\n",
       "      <td>16.688874</td>\n",
       "      <td>16.744210</td>\n",
       "      <td>16.808006</td>\n",
       "      <td>17.818063</td>\n",
       "      <td>16.697434</td>\n",
       "      <td>16.641249</td>\n",
       "      <td>16.660177</td>\n",
       "      <td>16.688928</td>\n",
       "      <td>8</td>\n",
       "    </tr>\n",
       "    <tr>\n",
       "      <td>3</td>\n",
       "      <td>QSO</td>\n",
       "      <td>864</td>\n",
       "      <td>20.789900</td>\n",
       "      <td>20.040371</td>\n",
       "      <td>19.926909</td>\n",
       "      <td>19.843840</td>\n",
       "      <td>19.463270</td>\n",
       "      <td>21.039030</td>\n",
       "      <td>20.317165</td>\n",
       "      <td>20.217898</td>\n",
       "      <td>...</td>\n",
       "      <td>19.993727</td>\n",
       "      <td>19.985531</td>\n",
       "      <td>19.750917</td>\n",
       "      <td>19.455117</td>\n",
       "      <td>20.770711</td>\n",
       "      <td>20.001699</td>\n",
       "      <td>19.889798</td>\n",
       "      <td>19.758113</td>\n",
       "      <td>19.552855</td>\n",
       "      <td>8</td>\n",
       "    </tr>\n",
       "    <tr>\n",
       "      <td>4</td>\n",
       "      <td>STAR_RED_DWARF</td>\n",
       "      <td>612</td>\n",
       "      <td>26.454969</td>\n",
       "      <td>23.058767</td>\n",
       "      <td>21.471406</td>\n",
       "      <td>19.504961</td>\n",
       "      <td>18.389096</td>\n",
       "      <td>25.700632</td>\n",
       "      <td>23.629122</td>\n",
       "      <td>21.742750</td>\n",
       "      <td>...</td>\n",
       "      <td>22.426929</td>\n",
       "      <td>21.673551</td>\n",
       "      <td>19.610012</td>\n",
       "      <td>18.376141</td>\n",
       "      <td>24.877052</td>\n",
       "      <td>23.147993</td>\n",
       "      <td>21.475342</td>\n",
       "      <td>19.487330</td>\n",
       "      <td>18.375655</td>\n",
       "      <td>10</td>\n",
       "    </tr>\n",
       "    <tr>\n",
       "      <td>...</td>\n",
       "      <td>...</td>\n",
       "      <td>...</td>\n",
       "      <td>...</td>\n",
       "      <td>...</td>\n",
       "      <td>...</td>\n",
       "      <td>...</td>\n",
       "      <td>...</td>\n",
       "      <td>...</td>\n",
       "      <td>...</td>\n",
       "      <td>...</td>\n",
       "      <td>...</td>\n",
       "      <td>...</td>\n",
       "      <td>...</td>\n",
       "      <td>...</td>\n",
       "      <td>...</td>\n",
       "      <td>...</td>\n",
       "      <td>...</td>\n",
       "      <td>...</td>\n",
       "      <td>...</td>\n",
       "      <td>...</td>\n",
       "      <td>...</td>\n",
       "    </tr>\n",
       "    <tr>\n",
       "      <td>199986</td>\n",
       "      <td>QSO</td>\n",
       "      <td>568</td>\n",
       "      <td>20.630780</td>\n",
       "      <td>20.437920</td>\n",
       "      <td>20.050756</td>\n",
       "      <td>20.020974</td>\n",
       "      <td>19.959646</td>\n",
       "      <td>20.948519</td>\n",
       "      <td>20.726709</td>\n",
       "      <td>20.311562</td>\n",
       "      <td>...</td>\n",
       "      <td>20.536338</td>\n",
       "      <td>20.126561</td>\n",
       "      <td>20.102815</td>\n",
       "      <td>19.796722</td>\n",
       "      <td>20.783295</td>\n",
       "      <td>20.326879</td>\n",
       "      <td>20.014046</td>\n",
       "      <td>20.061940</td>\n",
       "      <td>19.862513</td>\n",
       "      <td>8</td>\n",
       "    </tr>\n",
       "    <tr>\n",
       "      <td>199987</td>\n",
       "      <td>GALAXY</td>\n",
       "      <td>362</td>\n",
       "      <td>25.283695</td>\n",
       "      <td>22.807243</td>\n",
       "      <td>21.069792</td>\n",
       "      <td>20.187531</td>\n",
       "      <td>19.595598</td>\n",
       "      <td>26.677671</td>\n",
       "      <td>22.818723</td>\n",
       "      <td>20.786120</td>\n",
       "      <td>...</td>\n",
       "      <td>22.250489</td>\n",
       "      <td>20.091693</td>\n",
       "      <td>18.985791</td>\n",
       "      <td>18.803354</td>\n",
       "      <td>26.921903</td>\n",
       "      <td>21.952440</td>\n",
       "      <td>19.776321</td>\n",
       "      <td>18.990039</td>\n",
       "      <td>18.528306</td>\n",
       "      <td>6</td>\n",
       "    </tr>\n",
       "    <tr>\n",
       "      <td>199988</td>\n",
       "      <td>STAR_RED_DWARF</td>\n",
       "      <td>146</td>\n",
       "      <td>23.609826</td>\n",
       "      <td>21.902709</td>\n",
       "      <td>20.330747</td>\n",
       "      <td>18.457535</td>\n",
       "      <td>17.326771</td>\n",
       "      <td>24.320816</td>\n",
       "      <td>22.287946</td>\n",
       "      <td>20.711737</td>\n",
       "      <td>...</td>\n",
       "      <td>22.132993</td>\n",
       "      <td>20.329624</td>\n",
       "      <td>18.507337</td>\n",
       "      <td>17.418521</td>\n",
       "      <td>24.503460</td>\n",
       "      <td>21.897599</td>\n",
       "      <td>20.420524</td>\n",
       "      <td>18.443126</td>\n",
       "      <td>17.331724</td>\n",
       "      <td>10</td>\n",
       "    </tr>\n",
       "    <tr>\n",
       "      <td>199989</td>\n",
       "      <td>GALAXY</td>\n",
       "      <td>85</td>\n",
       "      <td>21.172003</td>\n",
       "      <td>20.561208</td>\n",
       "      <td>20.031754</td>\n",
       "      <td>19.793644</td>\n",
       "      <td>19.540471</td>\n",
       "      <td>21.704126</td>\n",
       "      <td>20.469748</td>\n",
       "      <td>19.872089</td>\n",
       "      <td>...</td>\n",
       "      <td>18.065559</td>\n",
       "      <td>17.501307</td>\n",
       "      <td>17.180639</td>\n",
       "      <td>17.175205</td>\n",
       "      <td>19.109086</td>\n",
       "      <td>18.004976</td>\n",
       "      <td>17.440331</td>\n",
       "      <td>17.193743</td>\n",
       "      <td>16.969854</td>\n",
       "      <td>6</td>\n",
       "    </tr>\n",
       "    <tr>\n",
       "      <td>199990</td>\n",
       "      <td>QSO</td>\n",
       "      <td>964</td>\n",
       "      <td>20.624498</td>\n",
       "      <td>20.122276</td>\n",
       "      <td>20.332241</td>\n",
       "      <td>20.360527</td>\n",
       "      <td>19.953043</td>\n",
       "      <td>20.931572</td>\n",
       "      <td>20.432758</td>\n",
       "      <td>20.678753</td>\n",
       "      <td>...</td>\n",
       "      <td>20.129721</td>\n",
       "      <td>20.415419</td>\n",
       "      <td>20.559018</td>\n",
       "      <td>19.816157</td>\n",
       "      <td>20.748047</td>\n",
       "      <td>20.116332</td>\n",
       "      <td>20.327396</td>\n",
       "      <td>20.217198</td>\n",
       "      <td>19.995023</td>\n",
       "      <td>8</td>\n",
       "    </tr>\n",
       "  </tbody>\n",
       "</table>\n",
       "<p>199991 rows × 23 columns</p>\n",
       "</div>"
      ],
      "text/plain": [
       "                  type  fiberID   psfMag_u   psfMag_g   psfMag_r   psfMag_i  \\\n",
       "id                                                                            \n",
       "0                  QSO      601  23.198224  21.431953  21.314148  21.176553   \n",
       "1                  QSO      788  21.431355  20.708104  20.678850  20.703420   \n",
       "2                  QSO      427  17.851451  16.727898  16.679677  16.694640   \n",
       "3                  QSO      864  20.789900  20.040371  19.926909  19.843840   \n",
       "4       STAR_RED_DWARF      612  26.454969  23.058767  21.471406  19.504961   \n",
       "...                ...      ...        ...        ...        ...        ...   \n",
       "199986             QSO      568  20.630780  20.437920  20.050756  20.020974   \n",
       "199987          GALAXY      362  25.283695  22.807243  21.069792  20.187531   \n",
       "199988  STAR_RED_DWARF      146  23.609826  21.902709  20.330747  18.457535   \n",
       "199989          GALAXY       85  21.172003  20.561208  20.031754  19.793644   \n",
       "199990             QSO      964  20.624498  20.122276  20.332241  20.360527   \n",
       "\n",
       "         psfMag_z  fiberMag_u  fiberMag_g  fiberMag_r  ...  petroMag_g  \\\n",
       "id                                                     ...               \n",
       "0       21.171444   22.581309   21.644453   21.657571  ...   21.431636   \n",
       "1       20.473229   21.868797   21.029773   20.967054  ...   20.778968   \n",
       "2       16.641788   18.171890   17.033098   16.999682  ...   16.738784   \n",
       "3       19.463270   21.039030   20.317165   20.217898  ...   19.993727   \n",
       "4       18.389096   25.700632   23.629122   21.742750  ...   22.426929   \n",
       "...           ...         ...         ...         ...  ...         ...   \n",
       "199986  19.959646   20.948519   20.726709   20.311562  ...   20.536338   \n",
       "199987  19.595598   26.677671   22.818723   20.786120  ...   22.250489   \n",
       "199988  17.326771   24.320816   22.287946   20.711737  ...   22.132993   \n",
       "199989  19.540471   21.704126   20.469748   19.872089  ...   18.065559   \n",
       "199990  19.953043   20.931572   20.432758   20.678753  ...   20.129721   \n",
       "\n",
       "        petroMag_r  petroMag_i  petroMag_z  modelMag_u  modelMag_g  \\\n",
       "id                                                                   \n",
       "0        21.478312   21.145409   20.422446   22.749241   21.465534   \n",
       "1        20.889705   20.639812   20.646660   21.492955   20.758527   \n",
       "2        16.688874   16.744210   16.808006   17.818063   16.697434   \n",
       "3        19.985531   19.750917   19.455117   20.770711   20.001699   \n",
       "4        21.673551   19.610012   18.376141   24.877052   23.147993   \n",
       "...            ...         ...         ...         ...         ...   \n",
       "199986   20.126561   20.102815   19.796722   20.783295   20.326879   \n",
       "199987   20.091693   18.985791   18.803354   26.921903   21.952440   \n",
       "199988   20.329624   18.507337   17.418521   24.503460   21.897599   \n",
       "199989   17.501307   17.180639   17.175205   19.109086   18.004976   \n",
       "199990   20.415419   20.559018   19.816157   20.748047   20.116332   \n",
       "\n",
       "        modelMag_r  modelMag_i  modelMag_z  type_num  \n",
       "id                                                    \n",
       "0        21.364187   21.020605   21.147340         8  \n",
       "1        20.753925   20.693389   20.512314         8  \n",
       "2        16.641249   16.660177   16.688928         8  \n",
       "3        19.889798   19.758113   19.552855         8  \n",
       "4        21.475342   19.487330   18.375655        10  \n",
       "...            ...         ...         ...       ...  \n",
       "199986   20.014046   20.061940   19.862513         8  \n",
       "199987   19.776321   18.990039   18.528306         6  \n",
       "199988   20.420524   18.443126   17.331724        10  \n",
       "199989   17.440331   17.193743   16.969854         6  \n",
       "199990   20.327396   20.217198   19.995023         8  \n",
       "\n",
       "[199991 rows x 23 columns]"
      ]
     },
     "execution_count": 11,
     "metadata": {},
     "output_type": "execute_result"
    }
   ],
   "source": [
    "train['fiberID']"
   ]
  },
  {
   "cell_type": "code",
   "execution_count": null,
   "metadata": {},
   "outputs": [],
   "source": []
  },
  {
   "cell_type": "code",
   "execution_count": 14,
   "metadata": {},
   "outputs": [
    {
     "data": {
      "text/plain": [
       "<matplotlib.axes._subplots.AxesSubplot at 0x23400eb4508>"
      ]
     },
     "execution_count": 14,
     "metadata": {},
     "output_type": "execute_result"
    },
    {
     "data": {
      "image/png": "[encoded data removed]",
      "text/plain": [
       "<Figure size 504x288 with 1 Axes>"
      ]
     },
     "metadata": {},
     "output_type": "display_data"
    }
   ],
   "source": [
    "fig, ax1 = plt.subplots(nrows=1, ncols=1, figsize=(7, 4))\n",
    "fig.subplots_adjust(wspace=1)\n",
    "\n",
    "sns.boxplot('type_num', 'psfMag_u', data=train,ax=ax1)\n",
    "#sns.boxplot('type_num', 'income', data=train, ax=ax2)"
   ]
  },
  {
   "cell_type": "code",
   "execution_count": 21,
   "metadata": {},
   "outputs": [],
   "source": [
    "train_X = train.drop(columns=['type', 'type_num'], axis=1)\n",
    "train_y = train['type_num']\n",
    "test_x = test"
   ]
  },
  {
   "cell_type": "code",
   "execution_count": 11,
   "metadata": {
    "scrolled": false
   },
   "outputs": [
    {
     "data": {
      "text/plain": [
       "199991"
      ]
     },
     "execution_count": 11,
     "metadata": {},
     "output_type": "execute_result"
    }
   ],
   "source": [
    "train['type'].value_counts().sum()"
   ]
  },
  {
   "cell_type": "code",
   "execution_count": 12,
   "metadata": {},
   "outputs": [
    {
     "data": {
      "text/plain": [
       "QSO                    49680\n",
       "GALAXY                 37347\n",
       "SERENDIPITY_BLUE       21760\n",
       "SPECTROPHOTO_STD       14630\n",
       "REDDEN_STD             14618\n",
       "STAR_RED_DWARF         13750\n",
       "STAR_BHB               13500\n",
       "SERENDIPITY_FIRST       7132\n",
       "ROSAT_D                 6580\n",
       "STAR_CATY_VAR           6506\n",
       "SERENDIPITY_DISTANT     4654\n",
       "STAR_CARBON             3257\n",
       "SERENDIPITY_RED         2562\n",
       "STAR_WHITE_DWARF        2160\n",
       "STAR_SUB_DWARF          1154\n",
       "STAR_BROWN_DWARF         500\n",
       "SKY                      127\n",
       "SERENDIPITY_MANUAL        61\n",
       "STAR_PN                   13\n",
       "Name: type, dtype: int64"
      ]
     },
     "execution_count": 12,
     "metadata": {},
     "output_type": "execute_result"
    }
   ],
   "source": [
    "train['type'].value_counts()"
   ]
  },
  {
   "cell_type": "code",
   "execution_count": 13,
   "metadata": {},
   "outputs": [],
   "source": [
    "X_train, X_test, y_train, y_test = train_test_split(train_X, \n",
    "                                                    train_y, \n",
    "                                                    stratify = train_y,\n",
    "                                                    test_size=0.2, \n",
    "                                                    random_state=1234)"
   ]
  },
  {
   "cell_type": "markdown",
   "metadata": {},
   "source": [
    "### stratifiedKFold를 사용하자"
   ]
  },
  {
   "cell_type": "code",
   "execution_count": 14,
   "metadata": {},
   "outputs": [],
   "source": [
    "#kfold = KFold(n_splits=6, random_state= 0, shuffle = True)\n",
    "kfold_s = StratifiedKFold(n_splits=6, random_state= 0, shuffle = True)"
   ]
  },
  {
   "cell_type": "markdown",
   "metadata": {},
   "source": [
    "# Xgboost"
   ]
  },
  {
   "cell_type": "code",
   "execution_count": 15,
   "metadata": {},
   "outputs": [],
   "source": [
    "import xgboost as xgb\n",
    "from xgboost import XGBClassifier"
   ]
  },
  {
   "cell_type": "markdown",
   "metadata": {},
   "source": [
    "https://www.analyticsvidhya.com/blog/2016/03/complete-guide-parameter-tuning-xgboost-with-codes-python/"
   ]
  },
  {
   "cell_type": "code",
   "execution_count": 16,
   "metadata": {},
   "outputs": [],
   "source": [
    "XGBC = XGBClassifier(n_jobs=-1, random_state=1234)\n",
    "xgc_param_grid = {\n",
    "    'n_estimators' : [10, 30, 50],\n",
    "    'learning_rate' :[0.1],\n",
    "    'eta': np.arange(0,0.3,0.1),\n",
    "    'min_child_weight' : np.arange(1,10,2),\n",
    "    'max_depth' : np.arange(3,10,1),\n",
    "}"
   ]
  },
  {
   "cell_type": "code",
   "execution_count": 17,
   "metadata": {},
   "outputs": [
    {
     "data": {
      "text/plain": [
       "RandomizedSearchCV(cv=StratifiedKFold(n_splits=6, random_state=0, shuffle=True),\n",
       "                   error_score='raise-deprecating',\n",
       "                   estimator=XGBClassifier(base_score=0.5, booster='gbtree',\n",
       "                                           colsample_bylevel=1,\n",
       "                                           colsample_bynode=1,\n",
       "                                           colsample_bytree=1, gamma=0,\n",
       "                                           learning_rate=0.1, max_delta_step=0,\n",
       "                                           max_depth=3, min_child_weight=1,\n",
       "                                           missing=None, n_estimators=100,\n",
       "                                           n_jobs=-1, nthread=None...\n",
       "                                           seed=None, silent=None, subsample=1,\n",
       "                                           verbosity=1),\n",
       "                   iid='warn', n_iter=10, n_jobs=-1,\n",
       "                   param_distributions={'eta': array([0. , 0.1, 0.2]),\n",
       "                                        'learning_rate': [0.1],\n",
       "                                        'max_depth': array([3, 4, 5, 6, 7, 8, 9]),\n",
       "                                        'min_child_weight': array([1, 3, 5, 7, 9]),\n",
       "                                        'n_estimators': [10, 30, 50]},\n",
       "                   pre_dispatch='2*n_jobs', random_state=1234, refit=True,\n",
       "                   return_train_score=False, scoring='accuracy', verbose=0)"
      ]
     },
     "execution_count": 17,
     "metadata": {},
     "output_type": "execute_result"
    }
   ],
   "source": [
    "n_iter_search = 10\n",
    "xgv = RandomizedSearchCV(XGBC, \n",
    "                             xgc_param_grid, \n",
    "                             cv=kfold_s,\n",
    "                             n_jobs=-1,\n",
    "                             random_state=1234,\n",
    "                             scoring='accuracy',\n",
    "                            n_iter=n_iter_search)\n",
    "xgv.fit(X_train, y_train)"
   ]
  },
  {
   "cell_type": "code",
   "execution_count": 18,
   "metadata": {},
   "outputs": [
    {
     "data": {
      "text/plain": [
       "XGBClassifier(base_score=0.5, booster='gbtree', colsample_bylevel=1,\n",
       "              colsample_bynode=1, colsample_bytree=1, eta=0.1, gamma=0,\n",
       "              learning_rate=0.1, max_delta_step=0, max_depth=8,\n",
       "              min_child_weight=5, missing=None, n_estimators=50, n_jobs=-1,\n",
       "              nthread=None, objective='multi:softprob', random_state=1234,\n",
       "              reg_alpha=0, reg_lambda=1, scale_pos_weight=1, seed=None,\n",
       "              silent=None, subsample=1, verbosity=1)"
      ]
     },
     "execution_count": 18,
     "metadata": {},
     "output_type": "execute_result"
    }
   ],
   "source": [
    "xgv.best_estimator_"
   ]
  },
  {
   "cell_type": "code",
   "execution_count": 19,
   "metadata": {
    "scrolled": true
   },
   "outputs": [
    {
     "data": {
      "text/plain": [
       "0.865980799039952"
      ]
     },
     "execution_count": 19,
     "metadata": {},
     "output_type": "execute_result"
    }
   ],
   "source": [
    "xgv.best_score_"
   ]
  },
  {
   "cell_type": "code",
   "execution_count": 22,
   "metadata": {},
   "outputs": [],
   "source": [
    "XGV_best = xgv.best_estimator_\n",
    "y_pred = XGV_best.predict_proba(test_x)"
   ]
  },
  {
   "cell_type": "code",
   "execution_count": 23,
   "metadata": {},
   "outputs": [],
   "source": [
    "submission = pd.DataFrame(data=y_pred, columns=sample_submission.columns, index=sample_submission.index)\n",
    "submission.to_csv('submission_xgb.csv', index=True)"
   ]
  }
 ],
 "metadata": {
  "kernelspec": {
   "display_name": "Python 3",
   "language": "python",
   "name": "python3"
  },
  "language_info": {
   "codemirror_mode": {
    "name": "ipython",
    "version": 3
   },
   "file_extension": ".py",
   "mimetype": "text/x-python",
   "name": "python",
   "nbconvert_exporter": "python",
   "pygments_lexer": "ipython3",
   "version": "3.7.4"
  }
 },
 "nbformat": 4,
 "nbformat_minor": 2
}
