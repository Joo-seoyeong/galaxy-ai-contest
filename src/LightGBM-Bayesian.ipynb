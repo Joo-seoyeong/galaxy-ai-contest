{
 "cells": [
  {
   "cell_type": "markdown",
   "metadata": {},
   "source": [
    "# LightGBM - Parameter Tuning with Bayesian Optimization"
   ]
  },
  {
   "cell_type": "code",
   "execution_count": 1,
   "metadata": {},
   "outputs": [],
   "source": [
    "import numpy as np\n",
    "import pandas as pd\n",
    "%matplotlib inline\n",
    "import matplotlib.pylab as plt"
   ]
  },
  {
   "cell_type": "code",
   "execution_count": 4,
   "metadata": {},
   "outputs": [],
   "source": [
    "from sklearn.model_selection import train_test_split\n",
    "from sklearn.model_selection import GridSearchCV,RandomizedSearchCV,learning_curve, cross_val_score\n",
    "from sklearn.model_selection import KFold, StratifiedKFold"
   ]
  },
  {
   "cell_type": "code",
   "execution_count": null,
   "metadata": {},
   "outputs": [],
   "source": [
    "from lightgbm import LGBMClassifier\n",
    "from bayes_opt import BayesianOptimization\n",
    "import lightgbm as lgb"
   ]
  },
  {
   "cell_type": "code",
   "execution_count": 9,
   "metadata": {},
   "outputs": [],
   "source": [
    "# train, test data set 불러오기\n",
    "train = pd.read_csv(\"train.csv\", index_col=0)\n",
    "test = pd.read_csv(\"test.csv\", index_col=0)\n",
    "sample_submission = pd.read_csv(\"sample_submission.csv\", index_col=0)"
   ]
  },
  {
   "cell_type": "code",
   "execution_count": 10,
   "metadata": {},
   "outputs": [],
   "source": [
    "column_number = {}\n",
    "for i, column in enumerate(sample_submission.columns):\n",
    "    column_number[column] = i\n",
    "    \n",
    "def to_number(x, dic):\n",
    "    return dic[x]\n",
    "\n",
    "train['type_num'] = train['type'].apply(lambda x: to_number(x, column_number))"
   ]
  },
  {
   "cell_type": "code",
   "execution_count": 11,
   "metadata": {},
   "outputs": [
    {
     "data": {
      "text/plain": [
       "(199880, 23)"
      ]
     },
     "execution_count": 11,
     "metadata": {},
     "output_type": "execute_result"
    }
   ],
   "source": [
    "# oulier 제거\n",
    "for column in train.columns[2:-1]:\n",
    "    test_min_value = test[column].min()\n",
    "    test_max_value = test[column].max()\n",
    "\n",
    "    for column in train.columns[2:-1]:\n",
    "        train = train.drop(index=train[(train[column] <= test_min_value -100) | (train[column] >= test_max_value +100)].index)\n",
    "\n",
    "    train = train.reset_index(drop=True)\n",
    "    \n",
    "train.shape"
   ]
  },
  {
   "cell_type": "code",
   "execution_count": 12,
   "metadata": {},
   "outputs": [],
   "source": [
    "# train set의 문제지(X), 정답지(y) 나누기\n",
    "train_X = train.drop(columns=['type', 'type_num'], axis=1)\n",
    "train_y = train['type_num']\n",
    "test_x = test"
   ]
  },
  {
   "cell_type": "code",
   "execution_count": 13,
   "metadata": {},
   "outputs": [
    {
     "data": {
      "text/plain": [
       "(199880, 21)"
      ]
     },
     "execution_count": 13,
     "metadata": {},
     "output_type": "execute_result"
    }
   ],
   "source": [
    "train_X.shape"
   ]
  },
  {
   "cell_type": "code",
   "execution_count": 14,
   "metadata": {},
   "outputs": [],
   "source": [
    "# validation 진행하기 위한 train_test_split\n",
    "X_train, X_test, y_train, y_test = train_test_split(train_X, \n",
    "                                                    train_y, \n",
    "                                                    stratify = train_y,\n",
    "                                                    test_size=0.2, \n",
    "                                                    random_state=1234)"
   ]
  },
  {
   "cell_type": "code",
   "execution_count": 14,
   "metadata": {},
   "outputs": [],
   "source": [
    "# kfold = KFold(n_splits=6, random_state= 0, shuffle = True)\n",
    "kfold_s = StratifiedKFold(n_splits=6, random_state= 0, shuffle = True)"
   ]
  },
  {
   "cell_type": "markdown",
   "metadata": {},
   "source": [
    "# Bayesian Optimization"
   ]
  },
  {
   "cell_type": "markdown",
   "metadata": {},
   "source": [
    "## 1. parameters to be tuned"
   ]
  },
  {
   "cell_type": "code",
   "execution_count": 18,
   "metadata": {},
   "outputs": [],
   "source": [
    "def lgb_eval(num_leaves, feature_fraction, bagging_fraction, max_depth, lambda_l1, lambda_l2, min_split_gain, min_child_weight):\n",
    "\n",
    "    params = {'application':'multiclass','num_iterations':1000, 'learning_rate':0.1, 'early_stopping_round':500, 'metric':'multi_logloss','num_class':19}\n",
    "    params[\"num_leaves\"] = round(num_leaves)\n",
    "    params['feature_fraction'] = max(min(feature_fraction, 1), 0)\n",
    "    params['bagging_fraction'] = max(min(bagging_fraction, 1), 0) \n",
    "    params['max_depth'] = round(max_depth)\n",
    "    params['lambda_l1'] = max(lambda_l1, 0)\n",
    "    params['lambda_l2'] = max(lambda_l2, 0)\n",
    "    params['min_split_gain'] = min_split_gain\n",
    "    params['min_child_weight'] = min_child_weight\n",
    "    cv_result = lgb.cv(params, train_data, nfold=n_folds, seed=random_seed, stratified=True, verbose_eval =200, metrics=['multi_logloss'])\n",
    "    return max(cv_result['multi_logloss'])"
   ]
  },
  {
   "cell_type": "markdown",
   "metadata": {},
   "source": [
    "## 2. Set the range for each parameter"
   ]
  },
  {
   "cell_type": "code",
   "execution_count": 20,
   "metadata": {},
   "outputs": [],
   "source": [
    "lgbBO = BayesianOptimization(lgb_eval, {'num_leaves': (100,300),\n",
    "                                        'feature_fraction': (0.1,0.3), # 열 샘플링 / default값인 1.0보다 작으면 각각의 tree를 training 시키기 전에 지정한 값만큼의 feature만 선택\n",
    "                                        'bagging_fraction': (0.1,0.3), # 행 샘플링 / resampling 없이 data를 random으로 선택한다\n",
    "                                        'max_depth': (1,9),\n",
    "                                        'lambda_l1': (0.1,0.3), # L1 정규화 / 보통 default값인 0으로 놔둠\n",
    "                                        'lambda_l2': (0.1,0.3), # L2 정규화 / 보통 default값인 0으로 놔둠\n",
    "                                        'min_split_gain': (0.1,0.3),\n",
    "                                        'min_child_weight':(0.1,0.3) }, random_state=1234)"
   ]
  },
  {
   "cell_type": "code",
   "execution_count": 21,
   "metadata": {},
   "outputs": [],
   "source": [
    "# type_num에 1씩 더해서 type_num을 0부터가 아닌 1부터 시작하도록 만들어줌\n",
    "ytrain_temp = y_train + 1"
   ]
  },
  {
   "cell_type": "code",
   "execution_count": 22,
   "metadata": {},
   "outputs": [
    {
     "data": {
      "text/plain": [
       "19"
      ]
     },
     "execution_count": 22,
     "metadata": {},
     "output_type": "execute_result"
    }
   ],
   "source": [
    "# 이건 그냥 확인하려고 쓴 코드\n",
    "len(np.unique(y_train))"
   ]
  },
  {
   "cell_type": "markdown",
   "metadata": {},
   "source": [
    "## 3. Put all together"
   ]
  },
  {
   "cell_type": "code",
   "execution_count": 23,
   "metadata": {},
   "outputs": [],
   "source": [
    "def bayes_parameter_opt_lgb(X, y, init_round=5, opt_round=20, n_folds=6, random_seed=1234, n_estimators=1000, learning_rate=0.1, output_process=False):\n",
    "    # prepare data\n",
    "    #train_data = lgb.Dataset(data=X, label=y, categorical_feature = categorical_feats, free_raw_data=False)\n",
    "    \n",
    "    # parameters\n",
    "    train_data = lgb.Dataset(data=X, label=y,  free_raw_data=False)\n",
    "\n",
    "    def lgb_eval(num_leaves, feature_fraction, bagging_fraction, max_depth, lambda_l1, lambda_l2, min_split_gain, min_child_weight):\n",
    "      # params = {'application':'multiclass','num_iterations': n_estimators, 'learning_rate':learning_rate, 'early_stopping_round':100, 'metric':'multi_logloss'}\n",
    "        params = {'application':'multiclass','num_iterations': n_estimators, 'learning_rate':learning_rate, 'early_stopping_round':500, 'metric':'multi_logloss','num_class':19}\n",
    "\n",
    "        params[\"num_leaves\"] = int(round(num_leaves))\n",
    "        params['feature_fraction'] = max(min(feature_fraction, 1), 0)\n",
    "        params['bagging_fraction'] = max(min(bagging_fraction, 1), 0)\n",
    "        params['max_depth'] = int(round(max_depth))\n",
    "        params['lambda_l1'] = max(lambda_l1, 0)\n",
    "        params['lambda_l2'] = max(lambda_l2, 0)\n",
    "        params['min_split_gain'] = min_split_gain\n",
    "        params['min_child_weight'] = min_child_weight\n",
    "        cv_result = lgb.cv(params, train_data, nfold=n_folds, seed=random_seed, stratified=True, verbose_eval =200, metrics=['multi_logloss'])\n",
    "        #print(cv_result.keys())\n",
    "        return max(cv_result['multi_logloss-mean'])\n",
    "    \n",
    "    # range \n",
    "    lgbBO = BayesianOptimization(lgb_eval, {'num_leaves': (100,300),\n",
    "                                            'feature_fraction': (0.1,0.3),\n",
    "                                            'bagging_fraction': (0.1,0.3),\n",
    "                                            'max_depth': (1,9),\n",
    "                                            'lambda_l1': (0.1,0.3),\n",
    "                                            'lambda_l2': (0.1,0.3),\n",
    "                                            'min_split_gain': (0.1,0.3),\n",
    "                                            'min_child_weight':(0.1,0.3) }, random_state=1234)\n",
    "       \n",
    "    # optimize\n",
    "    lgbBO.maximize(init_points=init_round, n_iter=opt_round)\n",
    "    \n",
    "    # output optimization process\n",
    "    if output_process==True: lgbBO.points_to_csv(\"bayes_opt_result_200220_4.csv\")\n",
    "    \n",
    "    # return best parameters\n",
    "    return lgbBO.max[\"params\"]"
   ]
  },
  {
   "cell_type": "code",
   "execution_count": 56,
   "metadata": {},
   "outputs": [],
   "source": [
    "# opt_params.res"
   ]
  },
  {
   "cell_type": "code",
   "execution_count": 24,
   "metadata": {
    "scrolled": true
   },
   "outputs": [
    {
     "data": {
      "text/plain": [
       "array([ 1,  2,  3,  4,  5,  6,  7,  8,  9, 10, 11, 12, 13, 14, 15, 16, 17,\n",
       "       18, 19], dtype=int64)"
      ]
     },
     "execution_count": 24,
     "metadata": {},
     "output_type": "execute_result"
    }
   ],
   "source": [
    "np.unique(ytrain_temp)"
   ]
  },
  {
   "cell_type": "markdown",
   "metadata": {},
   "source": [
    "##  4. Best parameters "
   ]
  },
  {
   "cell_type": "code",
   "execution_count": 24,
   "metadata": {
    "scrolled": true
   },
   "outputs": [
    {
     "name": "stdout",
     "output_type": "stream",
     "text": [
      "|   iter    |  target   | baggin... | featur... | lambda_l1 | lambda_l2 | max_depth | min_ch... | min_sp... | num_le... |\n",
      "-------------------------------------------------------------------------------------------------------------------------\n"
     ]
    },
    {
     "name": "stderr",
     "output_type": "stream",
     "text": [
      "C:\\Users\\1-10\\AppData\\Local\\Continuum\\anaconda3\\lib\\site-packages\\lightgbm\\engine.py:502: UserWarning: Found `num_iterations` in params. Will use it instead of argument\n",
      "  warnings.warn(\"Found `{}` in params. Will use it instead of argument\".format(alias))\n",
      "C:\\Users\\1-10\\AppData\\Local\\Continuum\\anaconda3\\lib\\site-packages\\lightgbm\\engine.py:507: UserWarning: Found `early_stopping_round` in params. Will use it instead of argument\n",
      "  warnings.warn(\"Found `{}` in params. Will use it instead of argument\".format(alias))\n"
     ]
    },
    {
     "name": "stdout",
     "output_type": "stream",
     "text": [
      "[200]\tcv_agg's multi_logloss: 0.377191 + 0.00500139\n",
      "[400]\tcv_agg's multi_logloss: 0.372478 + 0.00491562\n",
      "[600]\tcv_agg's multi_logloss: 0.372464 + 0.00491044\n",
      "[800]\tcv_agg's multi_logloss: 0.372464 + 0.00491044\n",
      "| \u001b[0m 1       \u001b[0m | \u001b[0m 1.896   \u001b[0m | \u001b[0m 0.1383  \u001b[0m | \u001b[0m 0.2244  \u001b[0m | \u001b[0m 0.1875  \u001b[0m | \u001b[0m 0.2571  \u001b[0m | \u001b[0m 7.24    \u001b[0m | \u001b[0m 0.1545  \u001b[0m | \u001b[0m 0.1553  \u001b[0m | \u001b[0m 260.4   \u001b[0m |\n"
     ]
    },
    {
     "name": "stderr",
     "output_type": "stream",
     "text": [
      "C:\\Users\\1-10\\AppData\\Local\\Continuum\\anaconda3\\lib\\site-packages\\lightgbm\\engine.py:502: UserWarning: Found `num_iterations` in params. Will use it instead of argument\n",
      "  warnings.warn(\"Found `{}` in params. Will use it instead of argument\".format(alias))\n",
      "C:\\Users\\1-10\\AppData\\Local\\Continuum\\anaconda3\\lib\\site-packages\\lightgbm\\engine.py:507: UserWarning: Found `early_stopping_round` in params. Will use it instead of argument\n",
      "  warnings.warn(\"Found `{}` in params. Will use it instead of argument\".format(alias))\n"
     ]
    },
    {
     "name": "stdout",
     "output_type": "stream",
     "text": [
      "[200]\tcv_agg's multi_logloss: 0.381695 + 0.00465627\n",
      "[400]\tcv_agg's multi_logloss: 0.373207 + 0.00456913\n",
      "[600]\tcv_agg's multi_logloss: 0.373227 + 0.00457699\n",
      "[800]\tcv_agg's multi_logloss: 0.373227 + 0.00457699\n",
      "| \u001b[95m 2       \u001b[0m | \u001b[95m 1.911   \u001b[0m | \u001b[95m 0.2916  \u001b[0m | \u001b[95m 0.2752  \u001b[0m | \u001b[95m 0.1716  \u001b[0m | \u001b[95m 0.2002  \u001b[0m | \u001b[95m 6.468   \u001b[0m | \u001b[95m 0.2425  \u001b[0m | \u001b[95m 0.1741  \u001b[0m | \u001b[95m 212.2   \u001b[0m |\n"
     ]
    },
    {
     "name": "stderr",
     "output_type": "stream",
     "text": [
      "C:\\Users\\1-10\\AppData\\Local\\Continuum\\anaconda3\\lib\\site-packages\\lightgbm\\engine.py:502: UserWarning: Found `num_iterations` in params. Will use it instead of argument\n",
      "  warnings.warn(\"Found `{}` in params. Will use it instead of argument\".format(alias))\n",
      "C:\\Users\\1-10\\AppData\\Local\\Continuum\\anaconda3\\lib\\site-packages\\lightgbm\\engine.py:507: UserWarning: Found `early_stopping_round` in params. Will use it instead of argument\n",
      "  warnings.warn(\"Found `{}` in params. Will use it instead of argument\".format(alias))\n"
     ]
    },
    {
     "name": "stdout",
     "output_type": "stream",
     "text": [
      "[200]\tcv_agg's multi_logloss: 0.45907 + 0.00494848\n",
      "[400]\tcv_agg's multi_logloss: 0.414644 + 0.00477288\n",
      "[600]\tcv_agg's multi_logloss: 0.400412 + 0.00473539\n",
      "[800]\tcv_agg's multi_logloss: 0.39378 + 0.00461162\n",
      "[1000]\tcv_agg's multi_logloss: 0.390211 + 0.00440486\n",
      "| \u001b[95m 3       \u001b[0m | \u001b[95m 2.083   \u001b[0m | \u001b[95m 0.2006  \u001b[0m | \u001b[95m 0.1028  \u001b[0m | \u001b[95m 0.2546  \u001b[0m | \u001b[95m 0.2765  \u001b[0m | \u001b[95m 3.919   \u001b[0m | \u001b[95m 0.2231  \u001b[0m | \u001b[95m 0.1151  \u001b[0m | \u001b[95m 173.8   \u001b[0m |\n"
     ]
    },
    {
     "name": "stderr",
     "output_type": "stream",
     "text": [
      "C:\\Users\\1-10\\AppData\\Local\\Continuum\\anaconda3\\lib\\site-packages\\lightgbm\\engine.py:502: UserWarning: Found `num_iterations` in params. Will use it instead of argument\n",
      "  warnings.warn(\"Found `{}` in params. Will use it instead of argument\".format(alias))\n",
      "C:\\Users\\1-10\\AppData\\Local\\Continuum\\anaconda3\\lib\\site-packages\\lightgbm\\engine.py:507: UserWarning: Found `early_stopping_round` in params. Will use it instead of argument\n",
      "  warnings.warn(\"Found `{}` in params. Will use it instead of argument\".format(alias))\n"
     ]
    },
    {
     "name": "stdout",
     "output_type": "stream",
     "text": [
      "[200]\tcv_agg's multi_logloss: 0.411872 + 0.0046344\n",
      "[400]\tcv_agg's multi_logloss: 0.386173 + 0.00425243\n",
      "[600]\tcv_agg's multi_logloss: 0.3814 + 0.00426102\n",
      "[800]\tcv_agg's multi_logloss: 0.381388 + 0.00425734\n",
      "[1000]\tcv_agg's multi_logloss: 0.381388 + 0.00425734\n",
      "| \u001b[0m 4       \u001b[0m | \u001b[0m 1.955   \u001b[0m | \u001b[0m 0.2866  \u001b[0m | \u001b[0m 0.2303  \u001b[0m | \u001b[0m 0.1794  \u001b[0m | \u001b[0m 0.2577  \u001b[0m | \u001b[0m 3.535   \u001b[0m | \u001b[0m 0.2136  \u001b[0m | \u001b[0m 0.2738  \u001b[0m | \u001b[0m 187.2   \u001b[0m |\n"
     ]
    },
    {
     "name": "stderr",
     "output_type": "stream",
     "text": [
      "C:\\Users\\1-10\\AppData\\Local\\Continuum\\anaconda3\\lib\\site-packages\\lightgbm\\engine.py:502: UserWarning: Found `num_iterations` in params. Will use it instead of argument\n",
      "  warnings.warn(\"Found `{}` in params. Will use it instead of argument\".format(alias))\n",
      "C:\\Users\\1-10\\AppData\\Local\\Continuum\\anaconda3\\lib\\site-packages\\lightgbm\\engine.py:507: UserWarning: Found `early_stopping_round` in params. Will use it instead of argument\n",
      "  warnings.warn(\"Found `{}` in params. Will use it instead of argument\".format(alias))\n"
     ]
    },
    {
     "name": "stdout",
     "output_type": "stream",
     "text": [
      "[200]\tcv_agg's multi_logloss: 0.463444 + 0.00493416\n",
      "[400]\tcv_agg's multi_logloss: 0.416808 + 0.00476701\n",
      "[600]\tcv_agg's multi_logloss: 0.400381 + 0.00468051\n",
      "[800]\tcv_agg's multi_logloss: 0.392046 + 0.00445697\n",
      "[1000]\tcv_agg's multi_logloss: 0.387719 + 0.00448003\n",
      "| \u001b[0m 5       \u001b[0m | \u001b[0m 2.074   \u001b[0m | \u001b[0m 0.2604  \u001b[0m | \u001b[0m 0.1288  \u001b[0m | \u001b[0m 0.2409  \u001b[0m | \u001b[0m 0.2409  \u001b[0m | \u001b[0m 2.75    \u001b[0m | \u001b[0m 0.285   \u001b[0m | \u001b[0m 0.1884  \u001b[0m | \u001b[0m 281.9   \u001b[0m |\n"
     ]
    },
    {
     "name": "stderr",
     "output_type": "stream",
     "text": [
      "C:\\Users\\1-10\\AppData\\Local\\Continuum\\anaconda3\\lib\\site-packages\\lightgbm\\engine.py:502: UserWarning: Found `num_iterations` in params. Will use it instead of argument\n",
      "  warnings.warn(\"Found `{}` in params. Will use it instead of argument\".format(alias))\n",
      "C:\\Users\\1-10\\AppData\\Local\\Continuum\\anaconda3\\lib\\site-packages\\lightgbm\\engine.py:507: UserWarning: Found `early_stopping_round` in params. Will use it instead of argument\n",
      "  warnings.warn(\"Found `{}` in params. Will use it instead of argument\".format(alias))\n"
     ]
    },
    {
     "name": "stdout",
     "output_type": "stream",
     "text": [
      "[200]\tcv_agg's multi_logloss: 0.377969 + 0.00403775\n",
      "[400]\tcv_agg's multi_logloss: 0.377831 + 0.00410549\n",
      "[600]\tcv_agg's multi_logloss: 0.377831 + 0.00410549\n",
      "[800]\tcv_agg's multi_logloss: 0.377831 + 0.00410549\n",
      "| \u001b[0m 6       \u001b[0m | \u001b[0m 1.881   \u001b[0m | \u001b[0m 0.3     \u001b[0m | \u001b[0m 0.3     \u001b[0m | \u001b[0m 0.1     \u001b[0m | \u001b[0m 0.1     \u001b[0m | \u001b[0m 9.0     \u001b[0m | \u001b[0m 0.3     \u001b[0m | \u001b[0m 0.3     \u001b[0m | \u001b[0m 100.0   \u001b[0m |\n"
     ]
    },
    {
     "name": "stderr",
     "output_type": "stream",
     "text": [
      "C:\\Users\\1-10\\AppData\\Local\\Continuum\\anaconda3\\lib\\site-packages\\lightgbm\\engine.py:502: UserWarning: Found `num_iterations` in params. Will use it instead of argument\n",
      "  warnings.warn(\"Found `{}` in params. Will use it instead of argument\".format(alias))\n",
      "C:\\Users\\1-10\\AppData\\Local\\Continuum\\anaconda3\\lib\\site-packages\\lightgbm\\engine.py:507: UserWarning: Found `early_stopping_round` in params. Will use it instead of argument\n",
      "  warnings.warn(\"Found `{}` in params. Will use it instead of argument\".format(alias))\n"
     ]
    },
    {
     "name": "stdout",
     "output_type": "stream",
     "text": [
      "[200]\tcv_agg's multi_logloss: 0.375304 + 0.0046255\n",
      "[400]\tcv_agg's multi_logloss: 0.376602 + 0.00478203\n",
      "[600]\tcv_agg's multi_logloss: 0.376602 + 0.00478203\n",
      "| \u001b[0m 7       \u001b[0m | \u001b[0m 1.877   \u001b[0m | \u001b[0m 0.1     \u001b[0m | \u001b[0m 0.3     \u001b[0m | \u001b[0m 0.1     \u001b[0m | \u001b[0m 0.1     \u001b[0m | \u001b[0m 9.0     \u001b[0m | \u001b[0m 0.1     \u001b[0m | \u001b[0m 0.1     \u001b[0m | \u001b[0m 300.0   \u001b[0m |\n"
     ]
    },
    {
     "name": "stderr",
     "output_type": "stream",
     "text": [
      "C:\\Users\\1-10\\AppData\\Local\\Continuum\\anaconda3\\lib\\site-packages\\lightgbm\\engine.py:502: UserWarning: Found `num_iterations` in params. Will use it instead of argument\n",
      "  warnings.warn(\"Found `{}` in params. Will use it instead of argument\".format(alias))\n",
      "C:\\Users\\1-10\\AppData\\Local\\Continuum\\anaconda3\\lib\\site-packages\\lightgbm\\engine.py:507: UserWarning: Found `early_stopping_round` in params. Will use it instead of argument\n",
      "  warnings.warn(\"Found `{}` in params. Will use it instead of argument\".format(alias))\n"
     ]
    },
    {
     "name": "stdout",
     "output_type": "stream",
     "text": [
      "[200]\tcv_agg's multi_logloss: 0.691959 + 0.0049648\n",
      "[400]\tcv_agg's multi_logloss: 0.606014 + 0.00536044\n",
      "[600]\tcv_agg's multi_logloss: 0.569011 + 0.00558975\n",
      "[800]\tcv_agg's multi_logloss: 0.547235 + 0.0056657\n",
      "[1000]\tcv_agg's multi_logloss: 0.53267 + 0.00570799\n",
      "| \u001b[95m 8       \u001b[0m | \u001b[95m 2.176   \u001b[0m | \u001b[95m 0.3     \u001b[0m | \u001b[95m 0.3     \u001b[0m | \u001b[95m 0.3     \u001b[0m | \u001b[95m 0.1     \u001b[0m | \u001b[95m 1.0     \u001b[0m | \u001b[95m 0.1     \u001b[0m | \u001b[95m 0.3     \u001b[0m | \u001b[95m 135.7   \u001b[0m |\n"
     ]
    },
    {
     "name": "stderr",
     "output_type": "stream",
     "text": [
      "C:\\Users\\1-10\\AppData\\Local\\Continuum\\anaconda3\\lib\\site-packages\\lightgbm\\engine.py:502: UserWarning: Found `num_iterations` in params. Will use it instead of argument\n",
      "  warnings.warn(\"Found `{}` in params. Will use it instead of argument\".format(alias))\n",
      "C:\\Users\\1-10\\AppData\\Local\\Continuum\\anaconda3\\lib\\site-packages\\lightgbm\\engine.py:507: UserWarning: Found `early_stopping_round` in params. Will use it instead of argument\n",
      "  warnings.warn(\"Found `{}` in params. Will use it instead of argument\".format(alias))\n"
     ]
    },
    {
     "name": "stdout",
     "output_type": "stream",
     "text": [
      "[200]\tcv_agg's multi_logloss: 0.411782 + 0.00497744\n",
      "[400]\tcv_agg's multi_logloss: 0.400624 + 0.00515429\n",
      "[600]\tcv_agg's multi_logloss: 0.399805 + 0.00512315\n",
      "[800]\tcv_agg's multi_logloss: 0.399522 + 0.0051933\n",
      "[1000]\tcv_agg's multi_logloss: 0.399396 + 0.00520315\n",
      "| \u001b[0m 9       \u001b[0m | \u001b[0m 2.04    \u001b[0m | \u001b[0m 0.1     \u001b[0m | \u001b[0m 0.1     \u001b[0m | \u001b[0m 0.1     \u001b[0m | \u001b[0m 0.3     \u001b[0m | \u001b[0m 9.0     \u001b[0m | \u001b[0m 0.3     \u001b[0m | \u001b[0m 0.1     \u001b[0m | \u001b[0m 146.2   \u001b[0m |\n"
     ]
    },
    {
     "name": "stderr",
     "output_type": "stream",
     "text": [
      "C:\\Users\\1-10\\AppData\\Local\\Continuum\\anaconda3\\lib\\site-packages\\lightgbm\\engine.py:502: UserWarning: Found `num_iterations` in params. Will use it instead of argument\n",
      "  warnings.warn(\"Found `{}` in params. Will use it instead of argument\".format(alias))\n",
      "C:\\Users\\1-10\\AppData\\Local\\Continuum\\anaconda3\\lib\\site-packages\\lightgbm\\engine.py:507: UserWarning: Found `early_stopping_round` in params. Will use it instead of argument\n",
      "  warnings.warn(\"Found `{}` in params. Will use it instead of argument\".format(alias))\n"
     ]
    },
    {
     "name": "stdout",
     "output_type": "stream",
     "text": [
      "[200]\tcv_agg's multi_logloss: 0.691869 + 0.00494829\n",
      "[400]\tcv_agg's multi_logloss: 0.605883 + 0.00540499\n",
      "[600]\tcv_agg's multi_logloss: 0.568875 + 0.00564177\n",
      "[800]\tcv_agg's multi_logloss: 0.547092 + 0.0057085\n",
      "[1000]\tcv_agg's multi_logloss: 0.532513 + 0.00575086\n",
      "| \u001b[95m 10      \u001b[0m | \u001b[95m 2.176   \u001b[0m | \u001b[95m 0.3     \u001b[0m | \u001b[95m 0.3     \u001b[0m | \u001b[95m 0.1     \u001b[0m | \u001b[95m 0.1     \u001b[0m | \u001b[95m 1.0     \u001b[0m | \u001b[95m 0.3     \u001b[0m | \u001b[95m 0.3     \u001b[0m | \u001b[95m 155.2   \u001b[0m |\n"
     ]
    },
    {
     "name": "stderr",
     "output_type": "stream",
     "text": [
      "C:\\Users\\1-10\\AppData\\Local\\Continuum\\anaconda3\\lib\\site-packages\\lightgbm\\engine.py:502: UserWarning: Found `num_iterations` in params. Will use it instead of argument\n",
      "  warnings.warn(\"Found `{}` in params. Will use it instead of argument\".format(alias))\n",
      "C:\\Users\\1-10\\AppData\\Local\\Continuum\\anaconda3\\lib\\site-packages\\lightgbm\\engine.py:507: UserWarning: Found `early_stopping_round` in params. Will use it instead of argument\n",
      "  warnings.warn(\"Found `{}` in params. Will use it instead of argument\".format(alias))\n"
     ]
    },
    {
     "name": "stdout",
     "output_type": "stream",
     "text": [
      "[200]\tcv_agg's multi_logloss: 0.722523 + 0.00455074\n",
      "[400]\tcv_agg's multi_logloss: 0.623758 + 0.00535157\n",
      "[600]\tcv_agg's multi_logloss: 0.582045 + 0.00577853\n",
      "[800]\tcv_agg's multi_logloss: 0.557886 + 0.00598489\n",
      "[1000]\tcv_agg's multi_logloss: 0.541993 + 0.00608852\n",
      "| \u001b[95m 11      \u001b[0m | \u001b[95m 2.198   \u001b[0m | \u001b[95m 0.1     \u001b[0m | \u001b[95m 0.1     \u001b[0m | \u001b[95m 0.3     \u001b[0m | \u001b[95m 0.3     \u001b[0m | \u001b[95m 1.0     \u001b[0m | \u001b[95m 0.3     \u001b[0m | \u001b[95m 0.1     \u001b[0m | \u001b[95m 236.4   \u001b[0m |\n"
     ]
    },
    {
     "name": "stderr",
     "output_type": "stream",
     "text": [
      "C:\\Users\\1-10\\AppData\\Local\\Continuum\\anaconda3\\lib\\site-packages\\lightgbm\\engine.py:502: UserWarning: Found `num_iterations` in params. Will use it instead of argument\n",
      "  warnings.warn(\"Found `{}` in params. Will use it instead of argument\".format(alias))\n",
      "C:\\Users\\1-10\\AppData\\Local\\Continuum\\anaconda3\\lib\\site-packages\\lightgbm\\engine.py:507: UserWarning: Found `early_stopping_round` in params. Will use it instead of argument\n",
      "  warnings.warn(\"Found `{}` in params. Will use it instead of argument\".format(alias))\n"
     ]
    },
    {
     "name": "stdout",
     "output_type": "stream",
     "text": [
      "[200]\tcv_agg's multi_logloss: 0.722527 + 0.00454635\n",
      "[400]\tcv_agg's multi_logloss: 0.623759 + 0.00534683\n",
      "[600]\tcv_agg's multi_logloss: 0.58203 + 0.00578055\n",
      "[800]\tcv_agg's multi_logloss: 0.557834 + 0.00595691\n",
      "[1000]\tcv_agg's multi_logloss: 0.541932 + 0.00604964\n",
      "| \u001b[0m 12      \u001b[0m | \u001b[0m 2.198   \u001b[0m | \u001b[0m 0.3     \u001b[0m | \u001b[0m 0.1     \u001b[0m | \u001b[0m 0.3     \u001b[0m | \u001b[0m 0.3     \u001b[0m | \u001b[0m 1.0     \u001b[0m | \u001b[0m 0.3     \u001b[0m | \u001b[0m 0.3     \u001b[0m | \u001b[0m 300.0   \u001b[0m |\n"
     ]
    },
    {
     "name": "stderr",
     "output_type": "stream",
     "text": [
      "C:\\Users\\1-10\\AppData\\Local\\Continuum\\anaconda3\\lib\\site-packages\\lightgbm\\engine.py:502: UserWarning: Found `num_iterations` in params. Will use it instead of argument\n",
      "  warnings.warn(\"Found `{}` in params. Will use it instead of argument\".format(alias))\n",
      "C:\\Users\\1-10\\AppData\\Local\\Continuum\\anaconda3\\lib\\site-packages\\lightgbm\\engine.py:507: UserWarning: Found `early_stopping_round` in params. Will use it instead of argument\n",
      "  warnings.warn(\"Found `{}` in params. Will use it instead of argument\".format(alias))\n"
     ]
    },
    {
     "name": "stdout",
     "output_type": "stream",
     "text": [
      "[200]\tcv_agg's multi_logloss: 0.722406 + 0.00453805\n",
      "[400]\tcv_agg's multi_logloss: 0.623563 + 0.00534662\n",
      "[600]\tcv_agg's multi_logloss: 0.581864 + 0.00573528\n",
      "[800]\tcv_agg's multi_logloss: 0.557684 + 0.00596652\n",
      "[1000]\tcv_agg's multi_logloss: 0.541802 + 0.00606256\n",
      "| \u001b[0m 13      \u001b[0m | \u001b[0m 2.198   \u001b[0m | \u001b[0m 0.1     \u001b[0m | \u001b[0m 0.1     \u001b[0m | \u001b[0m 0.1     \u001b[0m | \u001b[0m 0.3     \u001b[0m | \u001b[0m 1.0     \u001b[0m | \u001b[0m 0.3     \u001b[0m | \u001b[0m 0.1     \u001b[0m | \u001b[0m 117.3   \u001b[0m |\n"
     ]
    },
    {
     "name": "stderr",
     "output_type": "stream",
     "text": [
      "C:\\Users\\1-10\\AppData\\Local\\Continuum\\anaconda3\\lib\\site-packages\\lightgbm\\engine.py:502: UserWarning: Found `num_iterations` in params. Will use it instead of argument\n",
      "  warnings.warn(\"Found `{}` in params. Will use it instead of argument\".format(alias))\n",
      "C:\\Users\\1-10\\AppData\\Local\\Continuum\\anaconda3\\lib\\site-packages\\lightgbm\\engine.py:507: UserWarning: Found `early_stopping_round` in params. Will use it instead of argument\n",
      "  warnings.warn(\"Found `{}` in params. Will use it instead of argument\".format(alias))\n"
     ]
    },
    {
     "name": "stdout",
     "output_type": "stream",
     "text": [
      "[200]\tcv_agg's multi_logloss: 0.691873 + 0.00495742\n",
      "[400]\tcv_agg's multi_logloss: 0.60587 + 0.0053984\n",
      "[600]\tcv_agg's multi_logloss: 0.568861 + 0.00564052\n",
      "[800]\tcv_agg's multi_logloss: 0.547084 + 0.00571426\n",
      "[1000]\tcv_agg's multi_logloss: 0.532505 + 0.00574319\n",
      "| \u001b[0m 14      \u001b[0m | \u001b[0m 2.176   \u001b[0m | \u001b[0m 0.3     \u001b[0m | \u001b[0m 0.3     \u001b[0m | \u001b[0m 0.1     \u001b[0m | \u001b[0m 0.1     \u001b[0m | \u001b[0m 1.0     \u001b[0m | \u001b[0m 0.1     \u001b[0m | \u001b[0m 0.3     \u001b[0m | \u001b[0m 250.5   \u001b[0m |\n"
     ]
    },
    {
     "name": "stderr",
     "output_type": "stream",
     "text": [
      "C:\\Users\\1-10\\AppData\\Local\\Continuum\\anaconda3\\lib\\site-packages\\lightgbm\\engine.py:502: UserWarning: Found `num_iterations` in params. Will use it instead of argument\n",
      "  warnings.warn(\"Found `{}` in params. Will use it instead of argument\".format(alias))\n",
      "C:\\Users\\1-10\\AppData\\Local\\Continuum\\anaconda3\\lib\\site-packages\\lightgbm\\engine.py:507: UserWarning: Found `early_stopping_round` in params. Will use it instead of argument\n",
      "  warnings.warn(\"Found `{}` in params. Will use it instead of argument\".format(alias))\n"
     ]
    },
    {
     "name": "stdout",
     "output_type": "stream",
     "text": [
      "[200]\tcv_agg's multi_logloss: 0.722531 + 0.00454525\n",
      "[400]\tcv_agg's multi_logloss: 0.623752 + 0.00536607\n",
      "[600]\tcv_agg's multi_logloss: 0.582048 + 0.0057935\n",
      "[800]\tcv_agg's multi_logloss: 0.55787 + 0.00598812\n",
      "[1000]\tcv_agg's multi_logloss: 0.541955 + 0.00608118\n",
      "| \u001b[95m 15      \u001b[0m | \u001b[95m 2.198   \u001b[0m | \u001b[95m 0.1     \u001b[0m | \u001b[95m 0.1     \u001b[0m | \u001b[95m 0.3     \u001b[0m | \u001b[95m 0.3     \u001b[0m | \u001b[95m 1.0     \u001b[0m | \u001b[95m 0.1     \u001b[0m | \u001b[95m 0.1     \u001b[0m | \u001b[95m 100.0   \u001b[0m |\n"
     ]
    },
    {
     "name": "stderr",
     "output_type": "stream",
     "text": [
      "C:\\Users\\1-10\\AppData\\Local\\Continuum\\anaconda3\\lib\\site-packages\\lightgbm\\engine.py:502: UserWarning: Found `num_iterations` in params. Will use it instead of argument\n",
      "  warnings.warn(\"Found `{}` in params. Will use it instead of argument\".format(alias))\n",
      "C:\\Users\\1-10\\AppData\\Local\\Continuum\\anaconda3\\lib\\site-packages\\lightgbm\\engine.py:507: UserWarning: Found `early_stopping_round` in params. Will use it instead of argument\n",
      "  warnings.warn(\"Found `{}` in params. Will use it instead of argument\".format(alias))\n"
     ]
    },
    {
     "name": "stdout",
     "output_type": "stream",
     "text": [
      "[200]\tcv_agg's multi_logloss: 0.691959 + 0.0049648\n",
      "[400]\tcv_agg's multi_logloss: 0.606014 + 0.00536044\n",
      "[600]\tcv_agg's multi_logloss: 0.569011 + 0.00558975\n",
      "[800]\tcv_agg's multi_logloss: 0.547235 + 0.0056657\n",
      "[1000]\tcv_agg's multi_logloss: 0.53267 + 0.00570799\n",
      "| \u001b[0m 16      \u001b[0m | \u001b[0m 2.176   \u001b[0m | \u001b[0m 0.3     \u001b[0m | \u001b[0m 0.3     \u001b[0m | \u001b[0m 0.3     \u001b[0m | \u001b[0m 0.1     \u001b[0m | \u001b[0m 1.0     \u001b[0m | \u001b[0m 0.1     \u001b[0m | \u001b[0m 0.3     \u001b[0m | \u001b[0m 108.0   \u001b[0m |\n"
     ]
    },
    {
     "name": "stderr",
     "output_type": "stream",
     "text": [
      "C:\\Users\\1-10\\AppData\\Local\\Continuum\\anaconda3\\lib\\site-packages\\lightgbm\\engine.py:502: UserWarning: Found `num_iterations` in params. Will use it instead of argument\n",
      "  warnings.warn(\"Found `{}` in params. Will use it instead of argument\".format(alias))\n",
      "C:\\Users\\1-10\\AppData\\Local\\Continuum\\anaconda3\\lib\\site-packages\\lightgbm\\engine.py:507: UserWarning: Found `early_stopping_round` in params. Will use it instead of argument\n",
      "  warnings.warn(\"Found `{}` in params. Will use it instead of argument\".format(alias))\n"
     ]
    },
    {
     "name": "stdout",
     "output_type": "stream",
     "text": [
      "[200]\tcv_agg's multi_logloss: 0.691873 + 0.00495742\n",
      "[400]\tcv_agg's multi_logloss: 0.60587 + 0.0053984\n",
      "[600]\tcv_agg's multi_logloss: 0.568861 + 0.00564052\n",
      "[800]\tcv_agg's multi_logloss: 0.547084 + 0.00571426\n",
      "[1000]\tcv_agg's multi_logloss: 0.532505 + 0.00574319\n",
      "| \u001b[0m 17      \u001b[0m | \u001b[0m 2.176   \u001b[0m | \u001b[0m 0.1     \u001b[0m | \u001b[0m 0.3     \u001b[0m | \u001b[0m 0.1     \u001b[0m | \u001b[0m 0.1     \u001b[0m | \u001b[0m 1.0     \u001b[0m | \u001b[0m 0.1     \u001b[0m | \u001b[0m 0.3     \u001b[0m | \u001b[0m 293.8   \u001b[0m |\n"
     ]
    },
    {
     "name": "stderr",
     "output_type": "stream",
     "text": [
      "C:\\Users\\1-10\\AppData\\Local\\Continuum\\anaconda3\\lib\\site-packages\\lightgbm\\engine.py:502: UserWarning: Found `num_iterations` in params. Will use it instead of argument\n",
      "  warnings.warn(\"Found `{}` in params. Will use it instead of argument\".format(alias))\n",
      "C:\\Users\\1-10\\AppData\\Local\\Continuum\\anaconda3\\lib\\site-packages\\lightgbm\\engine.py:507: UserWarning: Found `early_stopping_round` in params. Will use it instead of argument\n",
      "  warnings.warn(\"Found `{}` in params. Will use it instead of argument\".format(alias))\n"
     ]
    },
    {
     "name": "stdout",
     "output_type": "stream",
     "text": [
      "[200]\tcv_agg's multi_logloss: 0.691873 + 0.00495742\n",
      "[400]\tcv_agg's multi_logloss: 0.60587 + 0.0053984\n",
      "[600]\tcv_agg's multi_logloss: 0.568861 + 0.00564052\n",
      "[800]\tcv_agg's multi_logloss: 0.547084 + 0.00571426\n",
      "[1000]\tcv_agg's multi_logloss: 0.532505 + 0.00574319\n",
      "| \u001b[0m 18      \u001b[0m | \u001b[0m 2.176   \u001b[0m | \u001b[0m 0.3     \u001b[0m | \u001b[0m 0.3     \u001b[0m | \u001b[0m 0.1     \u001b[0m | \u001b[0m 0.1     \u001b[0m | \u001b[0m 1.0     \u001b[0m | \u001b[0m 0.1     \u001b[0m | \u001b[0m 0.3     \u001b[0m | \u001b[0m 227.4   \u001b[0m |\n"
     ]
    },
    {
     "name": "stderr",
     "output_type": "stream",
     "text": [
      "C:\\Users\\1-10\\AppData\\Local\\Continuum\\anaconda3\\lib\\site-packages\\lightgbm\\engine.py:502: UserWarning: Found `num_iterations` in params. Will use it instead of argument\n",
      "  warnings.warn(\"Found `{}` in params. Will use it instead of argument\".format(alias))\n",
      "C:\\Users\\1-10\\AppData\\Local\\Continuum\\anaconda3\\lib\\site-packages\\lightgbm\\engine.py:507: UserWarning: Found `early_stopping_round` in params. Will use it instead of argument\n",
      "  warnings.warn(\"Found `{}` in params. Will use it instead of argument\".format(alias))\n"
     ]
    },
    {
     "name": "stdout",
     "output_type": "stream",
     "text": [
      "[200]\tcv_agg's multi_logloss: 0.722531 + 0.00454525\n",
      "[400]\tcv_agg's multi_logloss: 0.623752 + 0.00536607\n",
      "[600]\tcv_agg's multi_logloss: 0.582048 + 0.0057935\n",
      "[800]\tcv_agg's multi_logloss: 0.55787 + 0.00598812\n",
      "[1000]\tcv_agg's multi_logloss: 0.541955 + 0.00608118\n",
      "| \u001b[0m 19      \u001b[0m | \u001b[0m 2.198   \u001b[0m | \u001b[0m 0.1     \u001b[0m | \u001b[0m 0.1     \u001b[0m | \u001b[0m 0.3     \u001b[0m | \u001b[0m 0.3     \u001b[0m | \u001b[0m 1.0     \u001b[0m | \u001b[0m 0.1     \u001b[0m | \u001b[0m 0.1     \u001b[0m | \u001b[0m 125.2   \u001b[0m |\n"
     ]
    },
    {
     "name": "stderr",
     "output_type": "stream",
     "text": [
      "C:\\Users\\1-10\\AppData\\Local\\Continuum\\anaconda3\\lib\\site-packages\\lightgbm\\engine.py:502: UserWarning: Found `num_iterations` in params. Will use it instead of argument\n",
      "  warnings.warn(\"Found `{}` in params. Will use it instead of argument\".format(alias))\n",
      "C:\\Users\\1-10\\AppData\\Local\\Continuum\\anaconda3\\lib\\site-packages\\lightgbm\\engine.py:507: UserWarning: Found `early_stopping_round` in params. Will use it instead of argument\n",
      "  warnings.warn(\"Found `{}` in params. Will use it instead of argument\".format(alias))\n"
     ]
    },
    {
     "name": "stdout",
     "output_type": "stream",
     "text": [
      "[200]\tcv_agg's multi_logloss: 0.691873 + 0.00495742\n",
      "[400]\tcv_agg's multi_logloss: 0.60587 + 0.0053984\n",
      "[600]\tcv_agg's multi_logloss: 0.568861 + 0.00564052\n",
      "[800]\tcv_agg's multi_logloss: 0.547084 + 0.00571426\n",
      "[1000]\tcv_agg's multi_logloss: 0.532505 + 0.00574319\n",
      "| \u001b[0m 20      \u001b[0m | \u001b[0m 2.176   \u001b[0m | \u001b[0m 0.3     \u001b[0m | \u001b[0m 0.3     \u001b[0m | \u001b[0m 0.1     \u001b[0m | \u001b[0m 0.1     \u001b[0m | \u001b[0m 1.0     \u001b[0m | \u001b[0m 0.1     \u001b[0m | \u001b[0m 0.3     \u001b[0m | \u001b[0m 239.4   \u001b[0m |\n"
     ]
    },
    {
     "name": "stderr",
     "output_type": "stream",
     "text": [
      "C:\\Users\\1-10\\AppData\\Local\\Continuum\\anaconda3\\lib\\site-packages\\lightgbm\\engine.py:502: UserWarning: Found `num_iterations` in params. Will use it instead of argument\n",
      "  warnings.warn(\"Found `{}` in params. Will use it instead of argument\".format(alias))\n",
      "C:\\Users\\1-10\\AppData\\Local\\Continuum\\anaconda3\\lib\\site-packages\\lightgbm\\engine.py:507: UserWarning: Found `early_stopping_round` in params. Will use it instead of argument\n",
      "  warnings.warn(\"Found `{}` in params. Will use it instead of argument\".format(alias))\n"
     ]
    },
    {
     "name": "stdout",
     "output_type": "stream",
     "text": [
      "[200]\tcv_agg's multi_logloss: 0.722523 + 0.00455074\n",
      "[400]\tcv_agg's multi_logloss: 0.623758 + 0.00535157\n",
      "[600]\tcv_agg's multi_logloss: 0.582045 + 0.00577853\n",
      "[800]\tcv_agg's multi_logloss: 0.557886 + 0.00598489\n",
      "[1000]\tcv_agg's multi_logloss: 0.541993 + 0.00608852\n",
      "| \u001b[0m 21      \u001b[0m | \u001b[0m 2.198   \u001b[0m | \u001b[0m 0.1     \u001b[0m | \u001b[0m 0.1     \u001b[0m | \u001b[0m 0.3     \u001b[0m | \u001b[0m 0.3     \u001b[0m | \u001b[0m 1.0     \u001b[0m | \u001b[0m 0.3     \u001b[0m | \u001b[0m 0.1     \u001b[0m | \u001b[0m 264.9   \u001b[0m |\n"
     ]
    },
    {
     "name": "stderr",
     "output_type": "stream",
     "text": [
      "C:\\Users\\1-10\\AppData\\Local\\Continuum\\anaconda3\\lib\\site-packages\\lightgbm\\engine.py:502: UserWarning: Found `num_iterations` in params. Will use it instead of argument\n",
      "  warnings.warn(\"Found `{}` in params. Will use it instead of argument\".format(alias))\n",
      "C:\\Users\\1-10\\AppData\\Local\\Continuum\\anaconda3\\lib\\site-packages\\lightgbm\\engine.py:507: UserWarning: Found `early_stopping_round` in params. Will use it instead of argument\n",
      "  warnings.warn(\"Found `{}` in params. Will use it instead of argument\".format(alias))\n"
     ]
    },
    {
     "name": "stdout",
     "output_type": "stream",
     "text": [
      "[200]\tcv_agg's multi_logloss: 0.722425 + 0.00452089\n",
      "[400]\tcv_agg's multi_logloss: 0.623572 + 0.00534407\n",
      "[600]\tcv_agg's multi_logloss: 0.581876 + 0.00574347\n",
      "[800]\tcv_agg's multi_logloss: 0.557697 + 0.00597172\n",
      "[1000]\tcv_agg's multi_logloss: 0.541794 + 0.00608554\n",
      "| \u001b[0m 22      \u001b[0m | \u001b[0m 2.198   \u001b[0m | \u001b[0m 0.1     \u001b[0m | \u001b[0m 0.1     \u001b[0m | \u001b[0m 0.1     \u001b[0m | \u001b[0m 0.3     \u001b[0m | \u001b[0m 1.0     \u001b[0m | \u001b[0m 0.1     \u001b[0m | \u001b[0m 0.1     \u001b[0m | \u001b[0m 300.0   \u001b[0m |\n"
     ]
    },
    {
     "name": "stderr",
     "output_type": "stream",
     "text": [
      "C:\\Users\\1-10\\AppData\\Local\\Continuum\\anaconda3\\lib\\site-packages\\lightgbm\\engine.py:502: UserWarning: Found `num_iterations` in params. Will use it instead of argument\n",
      "  warnings.warn(\"Found `{}` in params. Will use it instead of argument\".format(alias))\n",
      "C:\\Users\\1-10\\AppData\\Local\\Continuum\\anaconda3\\lib\\site-packages\\lightgbm\\engine.py:507: UserWarning: Found `early_stopping_round` in params. Will use it instead of argument\n",
      "  warnings.warn(\"Found `{}` in params. Will use it instead of argument\".format(alias))\n"
     ]
    },
    {
     "name": "stdout",
     "output_type": "stream",
     "text": [
      "[200]\tcv_agg's multi_logloss: 0.722516 + 0.00455415\n",
      "[400]\tcv_agg's multi_logloss: 0.623732 + 0.0053525\n",
      "[600]\tcv_agg's multi_logloss: 0.582016 + 0.00577416\n",
      "[800]\tcv_agg's multi_logloss: 0.557829 + 0.00597671\n",
      "[1000]\tcv_agg's multi_logloss: 0.54195 + 0.00605628\n",
      "| \u001b[0m 23      \u001b[0m | \u001b[0m 2.198   \u001b[0m | \u001b[0m 0.1     \u001b[0m | \u001b[0m 0.1     \u001b[0m | \u001b[0m 0.2876  \u001b[0m | \u001b[0m 0.3     \u001b[0m | \u001b[0m 1.0     \u001b[0m | \u001b[0m 0.3     \u001b[0m | \u001b[0m 0.1     \u001b[0m | \u001b[0m 166.6   \u001b[0m |\n"
     ]
    },
    {
     "name": "stderr",
     "output_type": "stream",
     "text": [
      "C:\\Users\\1-10\\AppData\\Local\\Continuum\\anaconda3\\lib\\site-packages\\lightgbm\\engine.py:502: UserWarning: Found `num_iterations` in params. Will use it instead of argument\n",
      "  warnings.warn(\"Found `{}` in params. Will use it instead of argument\".format(alias))\n",
      "C:\\Users\\1-10\\AppData\\Local\\Continuum\\anaconda3\\lib\\site-packages\\lightgbm\\engine.py:507: UserWarning: Found `early_stopping_round` in params. Will use it instead of argument\n",
      "  warnings.warn(\"Found `{}` in params. Will use it instead of argument\".format(alias))\n"
     ]
    },
    {
     "name": "stdout",
     "output_type": "stream",
     "text": [
      "[200]\tcv_agg's multi_logloss: 0.722599 + 0.00459311\n",
      "[400]\tcv_agg's multi_logloss: 0.623688 + 0.00539957\n",
      "[600]\tcv_agg's multi_logloss: 0.581946 + 0.00579344\n",
      "[800]\tcv_agg's multi_logloss: 0.557795 + 0.00598482\n",
      "[1000]\tcv_agg's multi_logloss: 0.541895 + 0.00607738\n",
      "| \u001b[0m 24      \u001b[0m | \u001b[0m 2.198   \u001b[0m | \u001b[0m 0.1038  \u001b[0m | \u001b[0m 0.1109  \u001b[0m | \u001b[0m 0.2856  \u001b[0m | \u001b[0m 0.1131  \u001b[0m | \u001b[0m 1.009   \u001b[0m | \u001b[0m 0.2976  \u001b[0m | \u001b[0m 0.2536  \u001b[0m | \u001b[0m 258.3   \u001b[0m |\n"
     ]
    },
    {
     "name": "stderr",
     "output_type": "stream",
     "text": [
      "C:\\Users\\1-10\\AppData\\Local\\Continuum\\anaconda3\\lib\\site-packages\\lightgbm\\engine.py:502: UserWarning: Found `num_iterations` in params. Will use it instead of argument\n",
      "  warnings.warn(\"Found `{}` in params. Will use it instead of argument\".format(alias))\n",
      "C:\\Users\\1-10\\AppData\\Local\\Continuum\\anaconda3\\lib\\site-packages\\lightgbm\\engine.py:507: UserWarning: Found `early_stopping_round` in params. Will use it instead of argument\n",
      "  warnings.warn(\"Found `{}` in params. Will use it instead of argument\".format(alias))\n"
     ]
    },
    {
     "name": "stdout",
     "output_type": "stream",
     "text": [
      "[200]\tcv_agg's multi_logloss: 0.691816 + 0.00505177\n",
      "[400]\tcv_agg's multi_logloss: 0.605867 + 0.00549233\n",
      "[600]\tcv_agg's multi_logloss: 0.568905 + 0.00570778\n",
      "[800]\tcv_agg's multi_logloss: 0.547165 + 0.00575307\n",
      "[1000]\tcv_agg's multi_logloss: 0.532575 + 0.00578148\n",
      "| \u001b[0m 25      \u001b[0m | \u001b[0m 2.175   \u001b[0m | \u001b[0m 0.1     \u001b[0m | \u001b[0m 0.3     \u001b[0m | \u001b[0m 0.1     \u001b[0m | \u001b[0m 0.3     \u001b[0m | \u001b[0m 1.0     \u001b[0m | \u001b[0m 0.3     \u001b[0m | \u001b[0m 0.3     \u001b[0m | \u001b[0m 121.3   \u001b[0m |\n",
      "=========================================================================================================================\n"
     ]
    }
   ],
   "source": [
    "# -----> input\n",
    "opt_params = bayes_parameter_opt_lgb(X_train, y_train, \n",
    "                                     init_round=5, #5\n",
    "                                     opt_round=20, # 10\n",
    "                                     n_folds=6, # 3\n",
    "                                     random_seed=1234, \n",
    "                                     n_estimators=1000,# 100 \n",
    "                                     learning_rate=0.1) # 0.05"
   ]
  },
  {
   "cell_type": "code",
   "execution_count": 25,
   "metadata": {},
   "outputs": [
    {
     "name": "stdout",
     "output_type": "stream",
     "text": [
      "{'bagging_fraction': 0.1, 'feature_fraction': 0.1, 'lambda_l1': 0.3, 'lambda_l2': 0.3, 'max_depth': 1.0, 'min_child_weight': 0.1, 'min_split_gain': 0.1, 'num_leaves': 100.0}\n"
     ]
    }
   ],
   "source": [
    "print(opt_params)"
   ]
  }
 ],
 "metadata": {
  "kernelspec": {
   "display_name": "Python 3",
   "language": "python",
   "name": "python3"
  },
  "language_info": {
   "codemirror_mode": {
    "name": "ipython",
    "version": 3
   },
   "file_extension": ".py",
   "mimetype": "text/x-python",
   "name": "python",
   "nbconvert_exporter": "python",
   "pygments_lexer": "ipython3",
   "version": "3.7.4"
  }
 },
 "nbformat": 4,
 "nbformat_minor": 2
}
