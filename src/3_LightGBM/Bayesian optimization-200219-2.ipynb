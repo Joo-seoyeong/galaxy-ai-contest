{
 "cells": [
  {
   "cell_type": "code",
   "execution_count": 1,
   "metadata": {},
   "outputs": [],
   "source": [
    "import numpy as np\n",
    "import pandas as pd\n",
    "%matplotlib inline\n",
    "import matplotlib.pylab as plt"
   ]
  },
  {
   "cell_type": "code",
   "execution_count": 2,
   "metadata": {},
   "outputs": [],
   "source": [
    "import time\n",
    "import random"
   ]
  },
  {
   "cell_type": "code",
   "execution_count": 3,
   "metadata": {},
   "outputs": [],
   "source": [
    "from sklearn import preprocessing\n",
    "from sklearn.preprocessing import LabelEncoder\n",
    "from sklearn.preprocessing import OneHotEncoder\n",
    "from sklearn.preprocessing import StandardScaler"
   ]
  },
  {
   "cell_type": "code",
   "execution_count": 4,
   "metadata": {},
   "outputs": [],
   "source": [
    "from sklearn.model_selection import train_test_split"
   ]
  },
  {
   "cell_type": "code",
   "execution_count": 5,
   "metadata": {},
   "outputs": [],
   "source": [
    "import seaborn as sns\n",
    "sns.set()"
   ]
  },
  {
   "cell_type": "code",
   "execution_count": 6,
   "metadata": {},
   "outputs": [],
   "source": [
    "from sklearn.model_selection import GridSearchCV,RandomizedSearchCV,learning_curve, cross_val_score\n",
    "from sklearn.preprocessing import StandardScaler, RobustScaler\n",
    "from sklearn.svm import SVR\n",
    "from sklearn.ensemble import RandomForestRegressor\n",
    "from sklearn.metrics import accuracy_score, mean_squared_error\n",
    "from sklearn.ensemble import RandomForestClassifier\n",
    "from sklearn.cluster import KMeans"
   ]
  },
  {
   "cell_type": "code",
   "execution_count": 7,
   "metadata": {},
   "outputs": [],
   "source": [
    "from sklearn.model_selection import KFold, StratifiedKFold"
   ]
  },
  {
   "cell_type": "code",
   "execution_count": 8,
   "metadata": {},
   "outputs": [],
   "source": [
    "train = pd.read_csv(\"C:\\\\Users\\\\1-10\\\\Desktop\\\\python\\\\데이콘\\\\train.csv\", index_col=0)\n",
    "test = pd.read_csv(\"C:\\\\Users\\\\1-10\\\\Desktop\\\\python\\\\데이콘\\\\test.csv\", index_col=0)\n",
    "sample_submission = pd.read_csv(\"C:\\\\Users\\\\1-10\\\\Desktop\\\\python\\\\데이콘\\\\sample_submission.csv\", index_col=0)"
   ]
  },
  {
   "cell_type": "code",
   "execution_count": 9,
   "metadata": {},
   "outputs": [],
   "source": [
    "column_number = {}\n",
    "for i, column in enumerate(sample_submission.columns):\n",
    "    column_number[column] = i\n",
    "    \n",
    "def to_number(x, dic):\n",
    "    return dic[x]\n",
    "\n",
    "train['type_num'] = train['type'].apply(lambda x: to_number(x, column_number))"
   ]
  },
  {
   "cell_type": "markdown",
   "metadata": {},
   "source": [
    "#### outlier 제거"
   ]
  },
  {
   "cell_type": "code",
   "execution_count": 10,
   "metadata": {},
   "outputs": [
    {
     "data": {
      "text/plain": [
       "(199880, 23)"
      ]
     },
     "execution_count": 10,
     "metadata": {},
     "output_type": "execute_result"
    }
   ],
   "source": [
    "for column in train.columns[2:-1]:\n",
    "    test_min_value = test[column].min()\n",
    "    test_max_value = test[column].max()\n",
    "\n",
    "    for column in train.columns[2:-1]:\n",
    "        train = train.drop(index=train[(train[column] <= test_min_value -100) | (train[column] >= test_max_value +100)].index)\n",
    "\n",
    "    train = train.reset_index(drop=True)\n",
    "    \n",
    "train.shape"
   ]
  },
  {
   "cell_type": "markdown",
   "metadata": {},
   "source": [
    "#### 모델 돌리기 전 데이터 준비"
   ]
  },
  {
   "cell_type": "code",
   "execution_count": 11,
   "metadata": {},
   "outputs": [],
   "source": [
    "train_X = train.drop(columns=['type', 'type_num'], axis=1)\n",
    "train_y = train['type_num']\n",
    "test_x = test"
   ]
  },
  {
   "cell_type": "code",
   "execution_count": 12,
   "metadata": {},
   "outputs": [
    {
     "data": {
      "text/plain": [
       "(199880, 21)"
      ]
     },
     "execution_count": 12,
     "metadata": {},
     "output_type": "execute_result"
    }
   ],
   "source": [
    "train_X.shape"
   ]
  },
  {
   "cell_type": "code",
   "execution_count": 13,
   "metadata": {},
   "outputs": [],
   "source": [
    "X_train, X_test, y_train, y_test = train_test_split(train_X, \n",
    "                                                    train_y, \n",
    "                                                    stratify = train_y,\n",
    "                                                    test_size=0.2, \n",
    "                                                    random_state=1234)"
   ]
  },
  {
   "cell_type": "markdown",
   "metadata": {},
   "source": [
    "#### stratifiedKFold 사용"
   ]
  },
  {
   "cell_type": "code",
   "execution_count": 14,
   "metadata": {},
   "outputs": [],
   "source": [
    "# kfold = KFold(n_splits=6, random_state= 0, shuffle = True)\n",
    "kfold_s = StratifiedKFold(n_splits=6, random_state= 0, shuffle = True)"
   ]
  },
  {
   "cell_type": "markdown",
   "metadata": {},
   "source": [
    "#### model 돌리기"
   ]
  },
  {
   "cell_type": "code",
   "execution_count": 15,
   "metadata": {},
   "outputs": [],
   "source": [
    "from lightgbm import LGBMClassifier"
   ]
  },
  {
   "cell_type": "code",
   "execution_count": 16,
   "metadata": {},
   "outputs": [],
   "source": [
    "from bayes_opt import BayesianOptimization"
   ]
  },
  {
   "cell_type": "code",
   "execution_count": 17,
   "metadata": {},
   "outputs": [],
   "source": [
    "import lightgbm as lgb"
   ]
  },
  {
   "cell_type": "markdown",
   "metadata": {},
   "source": [
    "#### Bayesian Optimization"
   ]
  },
  {
   "cell_type": "code",
   "execution_count": 18,
   "metadata": {},
   "outputs": [],
   "source": [
    "def lgb_eval(num_leaves, feature_fraction, bagging_fraction, max_depth, lambda_l1, lambda_l2, min_split_gain, min_child_weight):\n",
    "#     params = {'application':'multiclass','num_iterations':4000, 'learning_rate':0.05, 'early_stopping_round':100, 'metric':'multi_logloss'}\n",
    "    params = {'application':'multiclass','num_iterations':1000, 'learning_rate':0.15, 'early_stopping_round':500, 'metric':'multi_logloss','num_class':19}\n",
    "    params[\"num_leaves\"] = round(num_leaves)\n",
    "    params['feature_fraction'] = max(min(feature_fraction, 1), 0)\n",
    "    params['bagging_fraction'] = max(min(bagging_fraction, 1), 0)\n",
    "    params['max_depth'] = round(max_depth)\n",
    "    params['lambda_l1'] = max(lambda_l1, 0)\n",
    "    params['lambda_l2'] = max(lambda_l2, 0)\n",
    "    params['min_split_gain'] = min_split_gain\n",
    "    params['min_child_weight'] = min_child_weight\n",
    "    cv_result = lgb.cv(params, train_data, nfold=n_folds, seed=random_seed, stratified=True, verbose_eval =200, metrics=['multi_logloss'])\n",
    "    return max(cv_result['multi_logloss'])"
   ]
  },
  {
   "cell_type": "code",
   "execution_count": 19,
   "metadata": {},
   "outputs": [],
   "source": [
    "lgbBO = BayesianOptimization(lgb_eval, {'num_leaves': (55,80),\n",
    "                                        'feature_fraction': (0.1,0.3),\n",
    "                                        'bagging_fraction': (0.3,0.5),\n",
    "                                        'max_depth': (4,9),\n",
    "                                        'lambda_l1': (0.1,0.3),\n",
    "                                        'lambda_l2': (0.2,0.5),\n",
    "                                        'min_split_gain': (0.1,0.3),\n",
    "                                        'min_child_weight':(0.1,0.4) }, random_state=0)"
   ]
  },
  {
   "cell_type": "code",
   "execution_count": 20,
   "metadata": {},
   "outputs": [],
   "source": [
    "ytrain_temp = y_train + 1"
   ]
  },
  {
   "cell_type": "code",
   "execution_count": 21,
   "metadata": {},
   "outputs": [
    {
     "data": {
      "text/plain": [
       "19"
      ]
     },
     "execution_count": 21,
     "metadata": {},
     "output_type": "execute_result"
    }
   ],
   "source": [
    "len(np.unique(y_train))"
   ]
  },
  {
   "cell_type": "code",
   "execution_count": 24,
   "metadata": {},
   "outputs": [],
   "source": [
    "def bayes_parameter_opt_lgb(X, y, init_round=5, opt_round=30, n_folds=6, random_seed=1234, n_estimators=1000, learning_rate=0.15, output_process=False):\n",
    "    # prepare data\n",
    "    #train_data = lgb.Dataset(data=X, label=y, categorical_feature = categorical_feats, free_raw_data=False)\n",
    "    # parameters\n",
    "    train_data = lgb.Dataset(data=X, label=y,  free_raw_data=False)\n",
    "\n",
    "    def lgb_eval(num_leaves, feature_fraction, bagging_fraction, max_depth, lambda_l1, lambda_l2, min_split_gain, min_child_weight):\n",
    "#         params = {'application':'multiclass','num_iterations': n_estimators, 'learning_rate':learning_rate, 'early_stopping_round':100, 'metric':'multi_logloss'}\n",
    "        params = {'application':'multiclass','num_iterations': n_estimators, 'learning_rate':learning_rate, 'early_stopping_round':100, 'metric':'multi_logloss','num_class':19}\n",
    "\n",
    "        params[\"num_leaves\"] = int(round(num_leaves))\n",
    "        params['feature_fraction'] = max(min(feature_fraction, 1), 0)\n",
    "        params['bagging_fraction'] = max(min(bagging_fraction, 1), 0)\n",
    "        params['max_depth'] = int(round(max_depth))\n",
    "        params['lambda_l1'] = max(lambda_l1, 0)\n",
    "        params['lambda_l2'] = max(lambda_l2, 0)\n",
    "        params['min_split_gain'] = min_split_gain\n",
    "        params['min_child_weight'] = min_child_weight\n",
    "        cv_result = lgb.cv(params, train_data, nfold=n_folds, seed=random_seed, stratified=True, verbose_eval =200, metrics=['multi_logloss'])\n",
    "        #print(cv_result.keys())\n",
    "        return max(cv_result['multi_logloss-mean'])\n",
    "    # range \n",
    "    lgbBO = BayesianOptimization(lgb_eval, {'num_leaves': (55,80),\n",
    "                                        'feature_fraction': (0.1,0.3),\n",
    "                                        'bagging_fraction': (0.3,0.5),\n",
    "                                        'max_depth': (4,9),\n",
    "                                        'lambda_l1': (0.1,0.3),\n",
    "                                        'lambda_l2': (0.2,0.5),\n",
    "                                        'min_split_gain': (0.1,0.3),\n",
    "                                        'min_child_weight':(0.1,0.4) }, random_state=0)\n",
    "    # optimize\n",
    "    lgbBO.maximize(init_points=init_round, n_iter=opt_round)\n",
    "    \n",
    "    # output optimization process\n",
    "    if output_process==True: lgbBO.points_to_csv(\"bayes_opt_result_200219_2.csv\")\n",
    "    \n",
    "    # return best parameters\n",
    "#     print(lgbBO.res.keys())\n",
    "#     print(lgbBO.res['max'].keys())\n",
    "    \n",
    "    #return lgbBO.res['max']['max_params']\n",
    "    # return lgbBO\n",
    "    \n",
    "    return lgbBO.max[\"params\"]"
   ]
  },
  {
   "cell_type": "code",
   "execution_count": 56,
   "metadata": {},
   "outputs": [],
   "source": [
    "# opt_params.res"
   ]
  },
  {
   "cell_type": "code",
   "execution_count": null,
   "metadata": {},
   "outputs": [],
   "source": []
  },
  {
   "cell_type": "code",
   "execution_count": 23,
   "metadata": {},
   "outputs": [
    {
     "data": {
      "text/plain": [
       "array([ 1,  2,  3,  4,  5,  6,  7,  8,  9, 10, 11, 12, 13, 14, 15, 16, 17,\n",
       "       18, 19], dtype=int64)"
      ]
     },
     "execution_count": 23,
     "metadata": {},
     "output_type": "execute_result"
    }
   ],
   "source": [
    "np.unique(ytrain_temp)"
   ]
  },
  {
   "cell_type": "code",
   "execution_count": 25,
   "metadata": {},
   "outputs": [
    {
     "name": "stdout",
     "output_type": "stream",
     "text": [
      "|   iter    |  target   | baggin... | featur... | lambda_l1 | lambda_l2 | max_depth | min_ch... | min_sp... | num_le... |\n",
      "-------------------------------------------------------------------------------------------------------------------------\n"
     ]
    },
    {
     "name": "stderr",
     "output_type": "stream",
     "text": [
      "C:\\Users\\1-10\\AppData\\Local\\Continuum\\anaconda3\\lib\\site-packages\\lightgbm\\engine.py:502: UserWarning: Found `num_iterations` in params. Will use it instead of argument\n",
      "  warnings.warn(\"Found `{}` in params. Will use it instead of argument\".format(alias))\n",
      "C:\\Users\\1-10\\AppData\\Local\\Continuum\\anaconda3\\lib\\site-packages\\lightgbm\\engine.py:507: UserWarning: Found `early_stopping_round` in params. Will use it instead of argument\n",
      "  warnings.warn(\"Found `{}` in params. Will use it instead of argument\".format(alias))\n"
     ]
    },
    {
     "name": "stdout",
     "output_type": "stream",
     "text": [
      "[200]\tcv_agg's multi_logloss: 0.378911 + 0.00467628\n",
      "[400]\tcv_agg's multi_logloss: 0.37632 + 0.00462828\n",
      "| \u001b[0m 1       \u001b[0m | \u001b[0m 1.782   \u001b[0m | \u001b[0m 0.4098  \u001b[0m | \u001b[0m 0.243   \u001b[0m | \u001b[0m 0.2206  \u001b[0m | \u001b[0m 0.3635  \u001b[0m | \u001b[0m 6.118   \u001b[0m | \u001b[0m 0.2938  \u001b[0m | \u001b[0m 0.1875  \u001b[0m | \u001b[0m 77.29   \u001b[0m |\n"
     ]
    },
    {
     "name": "stderr",
     "output_type": "stream",
     "text": [
      "C:\\Users\\1-10\\AppData\\Local\\Continuum\\anaconda3\\lib\\site-packages\\lightgbm\\engine.py:502: UserWarning: Found `num_iterations` in params. Will use it instead of argument\n",
      "  warnings.warn(\"Found `{}` in params. Will use it instead of argument\".format(alias))\n",
      "C:\\Users\\1-10\\AppData\\Local\\Continuum\\anaconda3\\lib\\site-packages\\lightgbm\\engine.py:507: UserWarning: Found `early_stopping_round` in params. Will use it instead of argument\n",
      "  warnings.warn(\"Found `{}` in params. Will use it instead of argument\".format(alias))\n"
     ]
    },
    {
     "name": "stdout",
     "output_type": "stream",
     "text": [
      "[200]\tcv_agg's multi_logloss: 0.377866 + 0.00438529\n",
      "| \u001b[95m 2       \u001b[0m | \u001b[95m 1.798   \u001b[0m | \u001b[95m 0.4927  \u001b[0m | \u001b[95m 0.1767  \u001b[0m | \u001b[95m 0.2583  \u001b[0m | \u001b[95m 0.3587  \u001b[0m | \u001b[95m 6.84    \u001b[0m | \u001b[95m 0.3777  \u001b[0m | \u001b[95m 0.1142  \u001b[0m | \u001b[95m 57.18   \u001b[0m |\n"
     ]
    },
    {
     "name": "stderr",
     "output_type": "stream",
     "text": [
      "C:\\Users\\1-10\\AppData\\Local\\Continuum\\anaconda3\\lib\\site-packages\\lightgbm\\engine.py:502: UserWarning: Found `num_iterations` in params. Will use it instead of argument\n",
      "  warnings.warn(\"Found `{}` in params. Will use it instead of argument\".format(alias))\n",
      "C:\\Users\\1-10\\AppData\\Local\\Continuum\\anaconda3\\lib\\site-packages\\lightgbm\\engine.py:507: UserWarning: Found `early_stopping_round` in params. Will use it instead of argument\n",
      "  warnings.warn(\"Found `{}` in params. Will use it instead of argument\".format(alias))\n"
     ]
    },
    {
     "name": "stdout",
     "output_type": "stream",
     "text": [
      "[200]\tcv_agg's multi_logloss: 0.376188 + 0.00514179\n",
      "| \u001b[0m 3       \u001b[0m | \u001b[0m 1.742   \u001b[0m | \u001b[0m 0.304   \u001b[0m | \u001b[0m 0.2665  \u001b[0m | \u001b[0m 0.2556  \u001b[0m | \u001b[0m 0.461   \u001b[0m | \u001b[0m 8.893   \u001b[0m | \u001b[0m 0.3397  \u001b[0m | \u001b[0m 0.1923  \u001b[0m | \u001b[0m 74.51   \u001b[0m |\n"
     ]
    },
    {
     "name": "stderr",
     "output_type": "stream",
     "text": [
      "C:\\Users\\1-10\\AppData\\Local\\Continuum\\anaconda3\\lib\\site-packages\\lightgbm\\engine.py:502: UserWarning: Found `num_iterations` in params. Will use it instead of argument\n",
      "  warnings.warn(\"Found `{}` in params. Will use it instead of argument\".format(alias))\n",
      "C:\\Users\\1-10\\AppData\\Local\\Continuum\\anaconda3\\lib\\site-packages\\lightgbm\\engine.py:507: UserWarning: Found `early_stopping_round` in params. Will use it instead of argument\n",
      "  warnings.warn(\"Found `{}` in params. Will use it instead of argument\".format(alias))\n"
     ]
    },
    {
     "name": "stdout",
     "output_type": "stream",
     "text": [
      "[200]\tcv_agg's multi_logloss: 0.375795 + 0.00547415\n",
      "| \u001b[0m 4       \u001b[0m | \u001b[0m 1.764   \u001b[0m | \u001b[0m 0.3237  \u001b[0m | \u001b[0m 0.228   \u001b[0m | \u001b[0m 0.1287  \u001b[0m | \u001b[0m 0.4834  \u001b[0m | \u001b[0m 6.609   \u001b[0m | \u001b[0m 0.2244  \u001b[0m | \u001b[0m 0.1529  \u001b[0m | \u001b[0m 74.36   \u001b[0m |\n"
     ]
    },
    {
     "name": "stderr",
     "output_type": "stream",
     "text": [
      "C:\\Users\\1-10\\AppData\\Local\\Continuum\\anaconda3\\lib\\site-packages\\lightgbm\\engine.py:502: UserWarning: Found `num_iterations` in params. Will use it instead of argument\n",
      "  warnings.warn(\"Found `{}` in params. Will use it instead of argument\".format(alias))\n",
      "C:\\Users\\1-10\\AppData\\Local\\Continuum\\anaconda3\\lib\\site-packages\\lightgbm\\engine.py:507: UserWarning: Found `early_stopping_round` in params. Will use it instead of argument\n",
      "  warnings.warn(\"Found `{}` in params. Will use it instead of argument\".format(alias))\n"
     ]
    },
    {
     "name": "stdout",
     "output_type": "stream",
     "text": [
      "[200]\tcv_agg's multi_logloss: 0.382437 + 0.00447427\n",
      "[400]\tcv_agg's multi_logloss: 0.382017 + 0.00453512\n",
      "| \u001b[95m 5       \u001b[0m | \u001b[95m 1.799   \u001b[0m | \u001b[95m 0.3912  \u001b[0m | \u001b[95m 0.2137  \u001b[0m | \u001b[95m 0.1038  \u001b[0m | \u001b[95m 0.3853  \u001b[0m | \u001b[95m 7.06    \u001b[0m | \u001b[95m 0.2851  \u001b[0m | \u001b[95m 0.2887  \u001b[0m | \u001b[95m 72.05   \u001b[0m |\n"
     ]
    },
    {
     "name": "stderr",
     "output_type": "stream",
     "text": [
      "C:\\Users\\1-10\\AppData\\Local\\Continuum\\anaconda3\\lib\\site-packages\\lightgbm\\engine.py:502: UserWarning: Found `num_iterations` in params. Will use it instead of argument\n",
      "  warnings.warn(\"Found `{}` in params. Will use it instead of argument\".format(alias))\n",
      "C:\\Users\\1-10\\AppData\\Local\\Continuum\\anaconda3\\lib\\site-packages\\lightgbm\\engine.py:507: UserWarning: Found `early_stopping_round` in params. Will use it instead of argument\n",
      "  warnings.warn(\"Found `{}` in params. Will use it instead of argument\".format(alias))\n"
     ]
    },
    {
     "name": "stdout",
     "output_type": "stream",
     "text": [
      "[200]\tcv_agg's multi_logloss: 0.395734 + 0.00482114\n",
      "[400]\tcv_agg's multi_logloss: 0.383207 + 0.00479103\n",
      "| \u001b[95m 6       \u001b[0m | \u001b[95m 1.848   \u001b[0m | \u001b[95m 0.5     \u001b[0m | \u001b[95m 0.3     \u001b[0m | \u001b[95m 0.3     \u001b[0m | \u001b[95m 0.2     \u001b[0m | \u001b[95m 4.0     \u001b[0m | \u001b[95m 0.4     \u001b[0m | \u001b[95m 0.3     \u001b[0m | \u001b[95m 63.27   \u001b[0m |\n"
     ]
    },
    {
     "name": "stderr",
     "output_type": "stream",
     "text": [
      "C:\\Users\\1-10\\AppData\\Local\\Continuum\\anaconda3\\lib\\site-packages\\lightgbm\\engine.py:502: UserWarning: Found `num_iterations` in params. Will use it instead of argument\n",
      "  warnings.warn(\"Found `{}` in params. Will use it instead of argument\".format(alias))\n",
      "C:\\Users\\1-10\\AppData\\Local\\Continuum\\anaconda3\\lib\\site-packages\\lightgbm\\engine.py:507: UserWarning: Found `early_stopping_round` in params. Will use it instead of argument\n",
      "  warnings.warn(\"Found `{}` in params. Will use it instead of argument\".format(alias))\n"
     ]
    },
    {
     "name": "stdout",
     "output_type": "stream",
     "text": [
      "[200]\tcv_agg's multi_logloss: 0.407968 + 0.00469718\n",
      "[400]\tcv_agg's multi_logloss: 0.40059 + 0.00483126\n",
      "[600]\tcv_agg's multi_logloss: 0.399307 + 0.0048192\n",
      "[800]\tcv_agg's multi_logloss: 0.398824 + 0.00480602\n",
      "[1000]\tcv_agg's multi_logloss: 0.398652 + 0.00480321\n",
      "| \u001b[95m 7       \u001b[0m | \u001b[95m 1.944   \u001b[0m | \u001b[95m 0.5     \u001b[0m | \u001b[95m 0.1     \u001b[0m | \u001b[95m 0.1     \u001b[0m | \u001b[95m 0.2     \u001b[0m | \u001b[95m 9.0     \u001b[0m | \u001b[95m 0.1     \u001b[0m | \u001b[95m 0.3     \u001b[0m | \u001b[95m 62.97   \u001b[0m |\n"
     ]
    },
    {
     "name": "stderr",
     "output_type": "stream",
     "text": [
      "C:\\Users\\1-10\\AppData\\Local\\Continuum\\anaconda3\\lib\\site-packages\\lightgbm\\engine.py:502: UserWarning: Found `num_iterations` in params. Will use it instead of argument\n",
      "  warnings.warn(\"Found `{}` in params. Will use it instead of argument\".format(alias))\n",
      "C:\\Users\\1-10\\AppData\\Local\\Continuum\\anaconda3\\lib\\site-packages\\lightgbm\\engine.py:507: UserWarning: Found `early_stopping_round` in params. Will use it instead of argument\n",
      "  warnings.warn(\"Found `{}` in params. Will use it instead of argument\".format(alias))\n"
     ]
    },
    {
     "name": "stdout",
     "output_type": "stream",
     "text": [
      "[200]\tcv_agg's multi_logloss: 0.374034 + 0.00518625\n",
      "| \u001b[0m 8       \u001b[0m | \u001b[0m 1.744   \u001b[0m | \u001b[0m 0.3     \u001b[0m | \u001b[0m 0.3     \u001b[0m | \u001b[0m 0.3     \u001b[0m | \u001b[0m 0.5     \u001b[0m | \u001b[0m 9.0     \u001b[0m | \u001b[0m 0.4     \u001b[0m | \u001b[0m 0.1     \u001b[0m | \u001b[0m 64.61   \u001b[0m |\n"
     ]
    },
    {
     "name": "stderr",
     "output_type": "stream",
     "text": [
      "C:\\Users\\1-10\\AppData\\Local\\Continuum\\anaconda3\\lib\\site-packages\\lightgbm\\engine.py:502: UserWarning: Found `num_iterations` in params. Will use it instead of argument\n",
      "  warnings.warn(\"Found `{}` in params. Will use it instead of argument\".format(alias))\n",
      "C:\\Users\\1-10\\AppData\\Local\\Continuum\\anaconda3\\lib\\site-packages\\lightgbm\\engine.py:507: UserWarning: Found `early_stopping_round` in params. Will use it instead of argument\n",
      "  warnings.warn(\"Found `{}` in params. Will use it instead of argument\".format(alias))\n"
     ]
    },
    {
     "name": "stdout",
     "output_type": "stream",
     "text": [
      "[200]\tcv_agg's multi_logloss: 0.408814 + 0.0046817\n",
      "[400]\tcv_agg's multi_logloss: 0.401414 + 0.00460373\n",
      "[600]\tcv_agg's multi_logloss: 0.40012 + 0.00467848\n",
      "[800]\tcv_agg's multi_logloss: 0.399622 + 0.00474051\n",
      "[1000]\tcv_agg's multi_logloss: 0.399435 + 0.00475671\n",
      "| \u001b[0m 9       \u001b[0m | \u001b[0m 1.943   \u001b[0m | \u001b[0m 0.5     \u001b[0m | \u001b[0m 0.1     \u001b[0m | \u001b[0m 0.1     \u001b[0m | \u001b[0m 0.2     \u001b[0m | \u001b[0m 9.0     \u001b[0m | \u001b[0m 0.1     \u001b[0m | \u001b[0m 0.3     \u001b[0m | \u001b[0m 80.0    \u001b[0m |\n"
     ]
    },
    {
     "name": "stderr",
     "output_type": "stream",
     "text": [
      "C:\\Users\\1-10\\AppData\\Local\\Continuum\\anaconda3\\lib\\site-packages\\lightgbm\\engine.py:502: UserWarning: Found `num_iterations` in params. Will use it instead of argument\n",
      "  warnings.warn(\"Found `{}` in params. Will use it instead of argument\".format(alias))\n",
      "C:\\Users\\1-10\\AppData\\Local\\Continuum\\anaconda3\\lib\\site-packages\\lightgbm\\engine.py:507: UserWarning: Found `early_stopping_round` in params. Will use it instead of argument\n",
      "  warnings.warn(\"Found `{}` in params. Will use it instead of argument\".format(alias))\n"
     ]
    },
    {
     "name": "stdout",
     "output_type": "stream",
     "text": [
      "[200]\tcv_agg's multi_logloss: 0.407761 + 0.00476929\n",
      "[400]\tcv_agg's multi_logloss: 0.400043 + 0.00479844\n",
      "[600]\tcv_agg's multi_logloss: 0.398764 + 0.00479089\n",
      "[800]\tcv_agg's multi_logloss: 0.398294 + 0.00480755\n",
      "[1000]\tcv_agg's multi_logloss: 0.398129 + 0.0048146\n",
      "| \u001b[95m 10      \u001b[0m | \u001b[95m 1.945   \u001b[0m | \u001b[95m 0.5     \u001b[0m | \u001b[95m 0.1     \u001b[0m | \u001b[95m 0.1     \u001b[0m | \u001b[95m 0.2     \u001b[0m | \u001b[95m 9.0     \u001b[0m | \u001b[95m 0.1     \u001b[0m | \u001b[95m 0.3     \u001b[0m | \u001b[95m 55.0    \u001b[0m |\n"
     ]
    },
    {
     "name": "stderr",
     "output_type": "stream",
     "text": [
      "C:\\Users\\1-10\\AppData\\Local\\Continuum\\anaconda3\\lib\\site-packages\\lightgbm\\engine.py:502: UserWarning: Found `num_iterations` in params. Will use it instead of argument\n",
      "  warnings.warn(\"Found `{}` in params. Will use it instead of argument\".format(alias))\n",
      "C:\\Users\\1-10\\AppData\\Local\\Continuum\\anaconda3\\lib\\site-packages\\lightgbm\\engine.py:507: UserWarning: Found `early_stopping_round` in params. Will use it instead of argument\n",
      "  warnings.warn(\"Found `{}` in params. Will use it instead of argument\".format(alias))\n"
     ]
    },
    {
     "name": "stdout",
     "output_type": "stream",
     "text": [
      "[200]\tcv_agg's multi_logloss: 0.435588 + 0.00472347\n",
      "[400]\tcv_agg's multi_logloss: 0.406033 + 0.00435151\n",
      "[600]\tcv_agg's multi_logloss: 0.399264 + 0.00407625\n",
      "[800]\tcv_agg's multi_logloss: 0.397042 + 0.00413092\n",
      "[1000]\tcv_agg's multi_logloss: 0.396069 + 0.00409094\n",
      "| \u001b[95m 11      \u001b[0m | \u001b[95m 2.002   \u001b[0m | \u001b[95m 0.5     \u001b[0m | \u001b[95m 0.1     \u001b[0m | \u001b[95m 0.1     \u001b[0m | \u001b[95m 0.2     \u001b[0m | \u001b[95m 4.0     \u001b[0m | \u001b[95m 0.1     \u001b[0m | \u001b[95m 0.3     \u001b[0m | \u001b[95m 80.0    \u001b[0m |\n"
     ]
    },
    {
     "name": "stderr",
     "output_type": "stream",
     "text": [
      "C:\\Users\\1-10\\AppData\\Local\\Continuum\\anaconda3\\lib\\site-packages\\lightgbm\\engine.py:502: UserWarning: Found `num_iterations` in params. Will use it instead of argument\n",
      "  warnings.warn(\"Found `{}` in params. Will use it instead of argument\".format(alias))\n",
      "C:\\Users\\1-10\\AppData\\Local\\Continuum\\anaconda3\\lib\\site-packages\\lightgbm\\engine.py:507: UserWarning: Found `early_stopping_round` in params. Will use it instead of argument\n",
      "  warnings.warn(\"Found `{}` in params. Will use it instead of argument\".format(alias))\n"
     ]
    },
    {
     "name": "stdout",
     "output_type": "stream",
     "text": [
      "[200]\tcv_agg's multi_logloss: 0.408364 + 0.0048049\n",
      "[400]\tcv_agg's multi_logloss: 0.400508 + 0.00476636\n",
      "[600]\tcv_agg's multi_logloss: 0.399205 + 0.00482283\n",
      "[800]\tcv_agg's multi_logloss: 0.398757 + 0.00481562\n",
      "[1000]\tcv_agg's multi_logloss: 0.398591 + 0.0048\n",
      "| \u001b[0m 12      \u001b[0m | \u001b[0m 1.944   \u001b[0m | \u001b[0m 0.3     \u001b[0m | \u001b[0m 0.1     \u001b[0m | \u001b[0m 0.1     \u001b[0m | \u001b[0m 0.2     \u001b[0m | \u001b[0m 9.0     \u001b[0m | \u001b[0m 0.1     \u001b[0m | \u001b[0m 0.3     \u001b[0m | \u001b[0m 59.0    \u001b[0m |\n"
     ]
    },
    {
     "name": "stderr",
     "output_type": "stream",
     "text": [
      "C:\\Users\\1-10\\AppData\\Local\\Continuum\\anaconda3\\lib\\site-packages\\lightgbm\\engine.py:502: UserWarning: Found `num_iterations` in params. Will use it instead of argument\n",
      "  warnings.warn(\"Found `{}` in params. Will use it instead of argument\".format(alias))\n",
      "C:\\Users\\1-10\\AppData\\Local\\Continuum\\anaconda3\\lib\\site-packages\\lightgbm\\engine.py:507: UserWarning: Found `early_stopping_round` in params. Will use it instead of argument\n",
      "  warnings.warn(\"Found `{}` in params. Will use it instead of argument\".format(alias))\n"
     ]
    },
    {
     "name": "stdout",
     "output_type": "stream",
     "text": [
      "[200]\tcv_agg's multi_logloss: 0.435588 + 0.00472347\n",
      "[400]\tcv_agg's multi_logloss: 0.406033 + 0.00435151\n",
      "[600]\tcv_agg's multi_logloss: 0.399264 + 0.00407625\n",
      "[800]\tcv_agg's multi_logloss: 0.397042 + 0.00413092\n",
      "[1000]\tcv_agg's multi_logloss: 0.396069 + 0.00409094\n",
      "| \u001b[0m 13      \u001b[0m | \u001b[0m 2.002   \u001b[0m | \u001b[0m 0.5     \u001b[0m | \u001b[0m 0.1     \u001b[0m | \u001b[0m 0.1     \u001b[0m | \u001b[0m 0.2     \u001b[0m | \u001b[0m 4.0     \u001b[0m | \u001b[0m 0.1     \u001b[0m | \u001b[0m 0.3     \u001b[0m | \u001b[0m 69.4    \u001b[0m |\n"
     ]
    },
    {
     "name": "stderr",
     "output_type": "stream",
     "text": [
      "C:\\Users\\1-10\\AppData\\Local\\Continuum\\anaconda3\\lib\\site-packages\\lightgbm\\engine.py:502: UserWarning: Found `num_iterations` in params. Will use it instead of argument\n",
      "  warnings.warn(\"Found `{}` in params. Will use it instead of argument\".format(alias))\n",
      "C:\\Users\\1-10\\AppData\\Local\\Continuum\\anaconda3\\lib\\site-packages\\lightgbm\\engine.py:507: UserWarning: Found `early_stopping_round` in params. Will use it instead of argument\n",
      "  warnings.warn(\"Found `{}` in params. Will use it instead of argument\".format(alias))\n"
     ]
    },
    {
     "name": "stdout",
     "output_type": "stream",
     "text": [
      "[200]\tcv_agg's multi_logloss: 0.435588 + 0.00472347\n",
      "[400]\tcv_agg's multi_logloss: 0.406033 + 0.00435151\n",
      "[600]\tcv_agg's multi_logloss: 0.399264 + 0.00407625\n",
      "[800]\tcv_agg's multi_logloss: 0.397042 + 0.00413092\n",
      "[1000]\tcv_agg's multi_logloss: 0.396069 + 0.00409094\n",
      "| \u001b[0m 14      \u001b[0m | \u001b[0m 2.002   \u001b[0m | \u001b[0m 0.5     \u001b[0m | \u001b[0m 0.1     \u001b[0m | \u001b[0m 0.1     \u001b[0m | \u001b[0m 0.2     \u001b[0m | \u001b[0m 4.0     \u001b[0m | \u001b[0m 0.1     \u001b[0m | \u001b[0m 0.3     \u001b[0m | \u001b[0m 55.0    \u001b[0m |\n"
     ]
    },
    {
     "name": "stderr",
     "output_type": "stream",
     "text": [
      "C:\\Users\\1-10\\AppData\\Local\\Continuum\\anaconda3\\lib\\site-packages\\lightgbm\\engine.py:502: UserWarning: Found `num_iterations` in params. Will use it instead of argument\n",
      "  warnings.warn(\"Found `{}` in params. Will use it instead of argument\".format(alias))\n",
      "C:\\Users\\1-10\\AppData\\Local\\Continuum\\anaconda3\\lib\\site-packages\\lightgbm\\engine.py:507: UserWarning: Found `early_stopping_round` in params. Will use it instead of argument\n",
      "  warnings.warn(\"Found `{}` in params. Will use it instead of argument\".format(alias))\n"
     ]
    },
    {
     "name": "stdout",
     "output_type": "stream",
     "text": [
      "[200]\tcv_agg's multi_logloss: 0.435588 + 0.00472347\n",
      "[400]\tcv_agg's multi_logloss: 0.406033 + 0.00435151\n",
      "[600]\tcv_agg's multi_logloss: 0.399264 + 0.00407625\n",
      "[800]\tcv_agg's multi_logloss: 0.397042 + 0.00413092\n",
      "[1000]\tcv_agg's multi_logloss: 0.396069 + 0.00409094\n",
      "| \u001b[0m 15      \u001b[0m | \u001b[0m 2.002   \u001b[0m | \u001b[0m 0.5     \u001b[0m | \u001b[0m 0.1     \u001b[0m | \u001b[0m 0.1     \u001b[0m | \u001b[0m 0.2     \u001b[0m | \u001b[0m 4.0     \u001b[0m | \u001b[0m 0.1     \u001b[0m | \u001b[0m 0.3     \u001b[0m | \u001b[0m 72.7    \u001b[0m |\n"
     ]
    },
    {
     "name": "stderr",
     "output_type": "stream",
     "text": [
      "C:\\Users\\1-10\\AppData\\Local\\Continuum\\anaconda3\\lib\\site-packages\\lightgbm\\engine.py:502: UserWarning: Found `num_iterations` in params. Will use it instead of argument\n",
      "  warnings.warn(\"Found `{}` in params. Will use it instead of argument\".format(alias))\n",
      "C:\\Users\\1-10\\AppData\\Local\\Continuum\\anaconda3\\lib\\site-packages\\lightgbm\\engine.py:507: UserWarning: Found `early_stopping_round` in params. Will use it instead of argument\n",
      "  warnings.warn(\"Found `{}` in params. Will use it instead of argument\".format(alias))\n"
     ]
    },
    {
     "name": "stdout",
     "output_type": "stream",
     "text": [
      "[200]\tcv_agg's multi_logloss: 0.435588 + 0.00472347\n",
      "[400]\tcv_agg's multi_logloss: 0.406033 + 0.00435151\n",
      "[600]\tcv_agg's multi_logloss: 0.399264 + 0.00407625\n",
      "[800]\tcv_agg's multi_logloss: 0.397042 + 0.00413092\n",
      "[1000]\tcv_agg's multi_logloss: 0.396069 + 0.00409094\n",
      "| \u001b[0m 16      \u001b[0m | \u001b[0m 2.002   \u001b[0m | \u001b[0m 0.5     \u001b[0m | \u001b[0m 0.1     \u001b[0m | \u001b[0m 0.1     \u001b[0m | \u001b[0m 0.2     \u001b[0m | \u001b[0m 4.0     \u001b[0m | \u001b[0m 0.1     \u001b[0m | \u001b[0m 0.3     \u001b[0m | \u001b[0m 58.68   \u001b[0m |\n"
     ]
    },
    {
     "name": "stderr",
     "output_type": "stream",
     "text": [
      "C:\\Users\\1-10\\AppData\\Local\\Continuum\\anaconda3\\lib\\site-packages\\lightgbm\\engine.py:502: UserWarning: Found `num_iterations` in params. Will use it instead of argument\n",
      "  warnings.warn(\"Found `{}` in params. Will use it instead of argument\".format(alias))\n",
      "C:\\Users\\1-10\\AppData\\Local\\Continuum\\anaconda3\\lib\\site-packages\\lightgbm\\engine.py:507: UserWarning: Found `early_stopping_round` in params. Will use it instead of argument\n",
      "  warnings.warn(\"Found `{}` in params. Will use it instead of argument\".format(alias))\n"
     ]
    },
    {
     "name": "stdout",
     "output_type": "stream",
     "text": [
      "[200]\tcv_agg's multi_logloss: 0.435946 + 0.00461441\n",
      "[400]\tcv_agg's multi_logloss: 0.406794 + 0.00417814\n",
      "[600]\tcv_agg's multi_logloss: 0.400172 + 0.00419353\n",
      "[800]\tcv_agg's multi_logloss: 0.397794 + 0.00425304\n",
      "[1000]\tcv_agg's multi_logloss: 0.396711 + 0.00418612\n",
      "| \u001b[0m 17      \u001b[0m | \u001b[0m 2.002   \u001b[0m | \u001b[0m 0.3     \u001b[0m | \u001b[0m 0.1     \u001b[0m | \u001b[0m 0.3     \u001b[0m | \u001b[0m 0.2     \u001b[0m | \u001b[0m 4.0     \u001b[0m | \u001b[0m 0.1     \u001b[0m | \u001b[0m 0.3     \u001b[0m | \u001b[0m 71.1    \u001b[0m |\n"
     ]
    },
    {
     "name": "stderr",
     "output_type": "stream",
     "text": [
      "C:\\Users\\1-10\\AppData\\Local\\Continuum\\anaconda3\\lib\\site-packages\\lightgbm\\engine.py:502: UserWarning: Found `num_iterations` in params. Will use it instead of argument\n",
      "  warnings.warn(\"Found `{}` in params. Will use it instead of argument\".format(alias))\n",
      "C:\\Users\\1-10\\AppData\\Local\\Continuum\\anaconda3\\lib\\site-packages\\lightgbm\\engine.py:507: UserWarning: Found `early_stopping_round` in params. Will use it instead of argument\n",
      "  warnings.warn(\"Found `{}` in params. Will use it instead of argument\".format(alias))\n"
     ]
    },
    {
     "name": "stdout",
     "output_type": "stream",
     "text": [
      "[200]\tcv_agg's multi_logloss: 0.435338 + 0.00450979\n",
      "[400]\tcv_agg's multi_logloss: 0.405539 + 0.00438597\n",
      "[600]\tcv_agg's multi_logloss: 0.398753 + 0.00433561\n",
      "[800]\tcv_agg's multi_logloss: 0.396569 + 0.00431744\n",
      "[1000]\tcv_agg's multi_logloss: 0.395483 + 0.00426525\n",
      "| \u001b[0m 18      \u001b[0m | \u001b[0m 2.001   \u001b[0m | \u001b[0m 0.5     \u001b[0m | \u001b[0m 0.1     \u001b[0m | \u001b[0m 0.1     \u001b[0m | \u001b[0m 0.5     \u001b[0m | \u001b[0m 4.0     \u001b[0m | \u001b[0m 0.1     \u001b[0m | \u001b[0m 0.3     \u001b[0m | \u001b[0m 71.1    \u001b[0m |\n"
     ]
    },
    {
     "name": "stderr",
     "output_type": "stream",
     "text": [
      "C:\\Users\\1-10\\AppData\\Local\\Continuum\\anaconda3\\lib\\site-packages\\lightgbm\\engine.py:502: UserWarning: Found `num_iterations` in params. Will use it instead of argument\n",
      "  warnings.warn(\"Found `{}` in params. Will use it instead of argument\".format(alias))\n",
      "C:\\Users\\1-10\\AppData\\Local\\Continuum\\anaconda3\\lib\\site-packages\\lightgbm\\engine.py:507: UserWarning: Found `early_stopping_round` in params. Will use it instead of argument\n",
      "  warnings.warn(\"Found `{}` in params. Will use it instead of argument\".format(alias))\n"
     ]
    },
    {
     "name": "stdout",
     "output_type": "stream",
     "text": [
      "[200]\tcv_agg's multi_logloss: 0.396672 + 0.00507386\n",
      "[400]\tcv_agg's multi_logloss: 0.379623 + 0.00478391\n",
      "[600]\tcv_agg's multi_logloss: 0.375511 + 0.0049226\n",
      "| \u001b[0m 19      \u001b[0m | \u001b[0m 1.848   \u001b[0m | \u001b[0m 0.5     \u001b[0m | \u001b[0m 0.3     \u001b[0m | \u001b[0m 0.1     \u001b[0m | \u001b[0m 0.2     \u001b[0m | \u001b[0m 4.0     \u001b[0m | \u001b[0m 0.1     \u001b[0m | \u001b[0m 0.1     \u001b[0m | \u001b[0m 71.08   \u001b[0m |\n"
     ]
    },
    {
     "name": "stderr",
     "output_type": "stream",
     "text": [
      "C:\\Users\\1-10\\AppData\\Local\\Continuum\\anaconda3\\lib\\site-packages\\lightgbm\\engine.py:502: UserWarning: Found `num_iterations` in params. Will use it instead of argument\n",
      "  warnings.warn(\"Found `{}` in params. Will use it instead of argument\".format(alias))\n",
      "C:\\Users\\1-10\\AppData\\Local\\Continuum\\anaconda3\\lib\\site-packages\\lightgbm\\engine.py:507: UserWarning: Found `early_stopping_round` in params. Will use it instead of argument\n",
      "  warnings.warn(\"Found `{}` in params. Will use it instead of argument\".format(alias))\n"
     ]
    },
    {
     "name": "stdout",
     "output_type": "stream",
     "text": [
      "[200]\tcv_agg's multi_logloss: 0.435517 + 0.00455528\n",
      "[400]\tcv_agg's multi_logloss: 0.406087 + 0.00432574\n",
      "[600]\tcv_agg's multi_logloss: 0.399499 + 0.00434898\n",
      "[800]\tcv_agg's multi_logloss: 0.397232 + 0.00426501\n",
      "[1000]\tcv_agg's multi_logloss: 0.396197 + 0.00427622\n",
      "| \u001b[0m 20      \u001b[0m | \u001b[0m 2.001   \u001b[0m | \u001b[0m 0.3     \u001b[0m | \u001b[0m 0.1     \u001b[0m | \u001b[0m 0.3     \u001b[0m | \u001b[0m 0.5     \u001b[0m | \u001b[0m 4.0     \u001b[0m | \u001b[0m 0.1     \u001b[0m | \u001b[0m 0.3     \u001b[0m | \u001b[0m 76.09   \u001b[0m |\n"
     ]
    },
    {
     "name": "stderr",
     "output_type": "stream",
     "text": [
      "C:\\Users\\1-10\\AppData\\Local\\Continuum\\anaconda3\\lib\\site-packages\\lightgbm\\engine.py:502: UserWarning: Found `num_iterations` in params. Will use it instead of argument\n",
      "  warnings.warn(\"Found `{}` in params. Will use it instead of argument\".format(alias))\n",
      "C:\\Users\\1-10\\AppData\\Local\\Continuum\\anaconda3\\lib\\site-packages\\lightgbm\\engine.py:507: UserWarning: Found `early_stopping_round` in params. Will use it instead of argument\n",
      "  warnings.warn(\"Found `{}` in params. Will use it instead of argument\".format(alias))\n"
     ]
    },
    {
     "name": "stdout",
     "output_type": "stream",
     "text": [
      "[200]\tcv_agg's multi_logloss: 0.435517 + 0.00455528\n",
      "[400]\tcv_agg's multi_logloss: 0.406087 + 0.00432574\n",
      "[600]\tcv_agg's multi_logloss: 0.399499 + 0.00434898\n",
      "[800]\tcv_agg's multi_logloss: 0.397232 + 0.00426501\n",
      "[1000]\tcv_agg's multi_logloss: 0.396197 + 0.00427622\n",
      "| \u001b[0m 21      \u001b[0m | \u001b[0m 2.001   \u001b[0m | \u001b[0m 0.3     \u001b[0m | \u001b[0m 0.1     \u001b[0m | \u001b[0m 0.3     \u001b[0m | \u001b[0m 0.5     \u001b[0m | \u001b[0m 4.0     \u001b[0m | \u001b[0m 0.1     \u001b[0m | \u001b[0m 0.3     \u001b[0m | \u001b[0m 66.81   \u001b[0m |\n"
     ]
    },
    {
     "name": "stderr",
     "output_type": "stream",
     "text": [
      "C:\\Users\\1-10\\AppData\\Local\\Continuum\\anaconda3\\lib\\site-packages\\lightgbm\\engine.py:502: UserWarning: Found `num_iterations` in params. Will use it instead of argument\n",
      "  warnings.warn(\"Found `{}` in params. Will use it instead of argument\".format(alias))\n",
      "C:\\Users\\1-10\\AppData\\Local\\Continuum\\anaconda3\\lib\\site-packages\\lightgbm\\engine.py:507: UserWarning: Found `early_stopping_round` in params. Will use it instead of argument\n",
      "  warnings.warn(\"Found `{}` in params. Will use it instead of argument\".format(alias))\n"
     ]
    },
    {
     "name": "stdout",
     "output_type": "stream",
     "text": [
      "[200]\tcv_agg's multi_logloss: 0.435572 + 0.00489236\n",
      "[400]\tcv_agg's multi_logloss: 0.406048 + 0.00449534\n",
      "[600]\tcv_agg's multi_logloss: 0.399332 + 0.00443407\n",
      "[800]\tcv_agg's multi_logloss: 0.396919 + 0.00439934\n",
      "[1000]\tcv_agg's multi_logloss: 0.395798 + 0.00429601\n",
      "| \u001b[0m 22      \u001b[0m | \u001b[0m 2.001   \u001b[0m | \u001b[0m 0.3     \u001b[0m | \u001b[0m 0.1     \u001b[0m | \u001b[0m 0.3     \u001b[0m | \u001b[0m 0.5     \u001b[0m | \u001b[0m 4.0     \u001b[0m | \u001b[0m 0.4     \u001b[0m | \u001b[0m 0.3     \u001b[0m | \u001b[0m 80.0    \u001b[0m |\n"
     ]
    },
    {
     "name": "stderr",
     "output_type": "stream",
     "text": [
      "C:\\Users\\1-10\\AppData\\Local\\Continuum\\anaconda3\\lib\\site-packages\\lightgbm\\engine.py:502: UserWarning: Found `num_iterations` in params. Will use it instead of argument\n",
      "  warnings.warn(\"Found `{}` in params. Will use it instead of argument\".format(alias))\n",
      "C:\\Users\\1-10\\AppData\\Local\\Continuum\\anaconda3\\lib\\site-packages\\lightgbm\\engine.py:507: UserWarning: Found `early_stopping_round` in params. Will use it instead of argument\n",
      "  warnings.warn(\"Found `{}` in params. Will use it instead of argument\".format(alias))\n"
     ]
    },
    {
     "name": "stdout",
     "output_type": "stream",
     "text": [
      "[200]\tcv_agg's multi_logloss: 0.41278 + 0.00472901\n",
      "[400]\tcv_agg's multi_logloss: 0.399461 + 0.00465308\n",
      "[600]\tcv_agg's multi_logloss: 0.397022 + 0.00462981\n",
      "[800]\tcv_agg's multi_logloss: 0.396224 + 0.00475176\n",
      "[1000]\tcv_agg's multi_logloss: 0.395915 + 0.00473744\n",
      "| \u001b[0m 23      \u001b[0m | \u001b[0m 1.965   \u001b[0m | \u001b[0m 0.3     \u001b[0m | \u001b[0m 0.1     \u001b[0m | \u001b[0m 0.1     \u001b[0m | \u001b[0m 0.5     \u001b[0m | \u001b[0m 6.358   \u001b[0m | \u001b[0m 0.1     \u001b[0m | \u001b[0m 0.3     \u001b[0m | \u001b[0m 61.39   \u001b[0m |\n"
     ]
    },
    {
     "name": "stderr",
     "output_type": "stream",
     "text": [
      "C:\\Users\\1-10\\AppData\\Local\\Continuum\\anaconda3\\lib\\site-packages\\lightgbm\\engine.py:502: UserWarning: Found `num_iterations` in params. Will use it instead of argument\n",
      "  warnings.warn(\"Found `{}` in params. Will use it instead of argument\".format(alias))\n",
      "C:\\Users\\1-10\\AppData\\Local\\Continuum\\anaconda3\\lib\\site-packages\\lightgbm\\engine.py:507: UserWarning: Found `early_stopping_round` in params. Will use it instead of argument\n",
      "  warnings.warn(\"Found `{}` in params. Will use it instead of argument\".format(alias))\n"
     ]
    },
    {
     "name": "stdout",
     "output_type": "stream",
     "text": [
      "[200]\tcv_agg's multi_logloss: 0.435517 + 0.00455528\n",
      "[400]\tcv_agg's multi_logloss: 0.406087 + 0.00432574\n",
      "[600]\tcv_agg's multi_logloss: 0.399499 + 0.00434898\n",
      "[800]\tcv_agg's multi_logloss: 0.397232 + 0.00426501\n",
      "[1000]\tcv_agg's multi_logloss: 0.396197 + 0.00427622\n",
      "| \u001b[0m 24      \u001b[0m | \u001b[0m 2.001   \u001b[0m | \u001b[0m 0.3     \u001b[0m | \u001b[0m 0.1     \u001b[0m | \u001b[0m 0.3     \u001b[0m | \u001b[0m 0.5     \u001b[0m | \u001b[0m 4.0     \u001b[0m | \u001b[0m 0.1     \u001b[0m | \u001b[0m 0.3     \u001b[0m | \u001b[0m 56.74   \u001b[0m |\n"
     ]
    },
    {
     "name": "stderr",
     "output_type": "stream",
     "text": [
      "C:\\Users\\1-10\\AppData\\Local\\Continuum\\anaconda3\\lib\\site-packages\\lightgbm\\engine.py:502: UserWarning: Found `num_iterations` in params. Will use it instead of argument\n",
      "  warnings.warn(\"Found `{}` in params. Will use it instead of argument\".format(alias))\n",
      "C:\\Users\\1-10\\AppData\\Local\\Continuum\\anaconda3\\lib\\site-packages\\lightgbm\\engine.py:507: UserWarning: Found `early_stopping_round` in params. Will use it instead of argument\n",
      "  warnings.warn(\"Found `{}` in params. Will use it instead of argument\".format(alias))\n"
     ]
    },
    {
     "name": "stdout",
     "output_type": "stream",
     "text": [
      "[200]\tcv_agg's multi_logloss: 0.435338 + 0.00450979\n",
      "[400]\tcv_agg's multi_logloss: 0.405539 + 0.00438597\n",
      "[600]\tcv_agg's multi_logloss: 0.398753 + 0.00433561\n",
      "[800]\tcv_agg's multi_logloss: 0.396569 + 0.00431744\n",
      "[1000]\tcv_agg's multi_logloss: 0.395483 + 0.00426525\n",
      "| \u001b[0m 25      \u001b[0m | \u001b[0m 2.001   \u001b[0m | \u001b[0m 0.3     \u001b[0m | \u001b[0m 0.1     \u001b[0m | \u001b[0m 0.1     \u001b[0m | \u001b[0m 0.5     \u001b[0m | \u001b[0m 4.0     \u001b[0m | \u001b[0m 0.1     \u001b[0m | \u001b[0m 0.3     \u001b[0m | \u001b[0m 60.61   \u001b[0m |\n"
     ]
    },
    {
     "name": "stderr",
     "output_type": "stream",
     "text": [
      "C:\\Users\\1-10\\AppData\\Local\\Continuum\\anaconda3\\lib\\site-packages\\lightgbm\\engine.py:502: UserWarning: Found `num_iterations` in params. Will use it instead of argument\n",
      "  warnings.warn(\"Found `{}` in params. Will use it instead of argument\".format(alias))\n",
      "C:\\Users\\1-10\\AppData\\Local\\Continuum\\anaconda3\\lib\\site-packages\\lightgbm\\engine.py:507: UserWarning: Found `early_stopping_round` in params. Will use it instead of argument\n",
      "  warnings.warn(\"Found `{}` in params. Will use it instead of argument\".format(alias))\n"
     ]
    },
    {
     "name": "stdout",
     "output_type": "stream",
     "text": [
      "[200]\tcv_agg's multi_logloss: 0.435572 + 0.00489236\n",
      "[400]\tcv_agg's multi_logloss: 0.406048 + 0.00449534\n",
      "[600]\tcv_agg's multi_logloss: 0.399332 + 0.00443407\n",
      "[800]\tcv_agg's multi_logloss: 0.396919 + 0.00439934\n",
      "[1000]\tcv_agg's multi_logloss: 0.395798 + 0.00429601\n",
      "| \u001b[0m 26      \u001b[0m | \u001b[0m 2.001   \u001b[0m | \u001b[0m 0.3     \u001b[0m | \u001b[0m 0.1     \u001b[0m | \u001b[0m 0.3     \u001b[0m | \u001b[0m 0.5     \u001b[0m | \u001b[0m 4.0     \u001b[0m | \u001b[0m 0.4     \u001b[0m | \u001b[0m 0.3     \u001b[0m | \u001b[0m 73.74   \u001b[0m |\n"
     ]
    },
    {
     "name": "stderr",
     "output_type": "stream",
     "text": [
      "C:\\Users\\1-10\\AppData\\Local\\Continuum\\anaconda3\\lib\\site-packages\\lightgbm\\engine.py:502: UserWarning: Found `num_iterations` in params. Will use it instead of argument\n",
      "  warnings.warn(\"Found `{}` in params. Will use it instead of argument\".format(alias))\n",
      "C:\\Users\\1-10\\AppData\\Local\\Continuum\\anaconda3\\lib\\site-packages\\lightgbm\\engine.py:507: UserWarning: Found `early_stopping_round` in params. Will use it instead of argument\n",
      "  warnings.warn(\"Found `{}` in params. Will use it instead of argument\".format(alias))\n"
     ]
    },
    {
     "name": "stdout",
     "output_type": "stream",
     "text": [
      "[200]\tcv_agg's multi_logloss: 0.413286 + 0.00489415\n",
      "[400]\tcv_agg's multi_logloss: 0.399846 + 0.00481053\n",
      "[600]\tcv_agg's multi_logloss: 0.39743 + 0.00480988\n",
      "[800]\tcv_agg's multi_logloss: 0.396558 + 0.00475869\n",
      "[1000]\tcv_agg's multi_logloss: 0.39622 + 0.00475994\n",
      "| \u001b[0m 27      \u001b[0m | \u001b[0m 1.965   \u001b[0m | \u001b[0m 0.3     \u001b[0m | \u001b[0m 0.1     \u001b[0m | \u001b[0m 0.3     \u001b[0m | \u001b[0m 0.5     \u001b[0m | \u001b[0m 5.847   \u001b[0m | \u001b[0m 0.1     \u001b[0m | \u001b[0m 0.3     \u001b[0m | \u001b[0m 80.0    \u001b[0m |\n"
     ]
    },
    {
     "name": "stderr",
     "output_type": "stream",
     "text": [
      "C:\\Users\\1-10\\AppData\\Local\\Continuum\\anaconda3\\lib\\site-packages\\lightgbm\\engine.py:502: UserWarning: Found `num_iterations` in params. Will use it instead of argument\n",
      "  warnings.warn(\"Found `{}` in params. Will use it instead of argument\".format(alias))\n",
      "C:\\Users\\1-10\\AppData\\Local\\Continuum\\anaconda3\\lib\\site-packages\\lightgbm\\engine.py:507: UserWarning: Found `early_stopping_round` in params. Will use it instead of argument\n",
      "  warnings.warn(\"Found `{}` in params. Will use it instead of argument\".format(alias))\n"
     ]
    },
    {
     "name": "stdout",
     "output_type": "stream",
     "text": [
      "[200]\tcv_agg's multi_logloss: 0.435517 + 0.00455528\n",
      "[400]\tcv_agg's multi_logloss: 0.406087 + 0.00432574\n",
      "[600]\tcv_agg's multi_logloss: 0.399499 + 0.00434898\n",
      "[800]\tcv_agg's multi_logloss: 0.397232 + 0.00426501\n",
      "[1000]\tcv_agg's multi_logloss: 0.396197 + 0.00427622\n",
      "| \u001b[0m 28      \u001b[0m | \u001b[0m 2.001   \u001b[0m | \u001b[0m 0.5     \u001b[0m | \u001b[0m 0.1     \u001b[0m | \u001b[0m 0.3     \u001b[0m | \u001b[0m 0.5     \u001b[0m | \u001b[0m 4.0     \u001b[0m | \u001b[0m 0.1     \u001b[0m | \u001b[0m 0.3     \u001b[0m | \u001b[0m 73.75   \u001b[0m |\n"
     ]
    },
    {
     "name": "stderr",
     "output_type": "stream",
     "text": [
      "C:\\Users\\1-10\\AppData\\Local\\Continuum\\anaconda3\\lib\\site-packages\\lightgbm\\engine.py:502: UserWarning: Found `num_iterations` in params. Will use it instead of argument\n",
      "  warnings.warn(\"Found `{}` in params. Will use it instead of argument\".format(alias))\n",
      "C:\\Users\\1-10\\AppData\\Local\\Continuum\\anaconda3\\lib\\site-packages\\lightgbm\\engine.py:507: UserWarning: Found `early_stopping_round` in params. Will use it instead of argument\n",
      "  warnings.warn(\"Found `{}` in params. Will use it instead of argument\".format(alias))\n"
     ]
    },
    {
     "name": "stdout",
     "output_type": "stream",
     "text": [
      "[200]\tcv_agg's multi_logloss: 0.435338 + 0.00450979\n",
      "[400]\tcv_agg's multi_logloss: 0.405539 + 0.00438597\n",
      "[600]\tcv_agg's multi_logloss: 0.398753 + 0.00433561\n",
      "[800]\tcv_agg's multi_logloss: 0.396569 + 0.00431744\n",
      "[1000]\tcv_agg's multi_logloss: 0.395483 + 0.00426525\n",
      "| \u001b[0m 29      \u001b[0m | \u001b[0m 2.001   \u001b[0m | \u001b[0m 0.3     \u001b[0m | \u001b[0m 0.1     \u001b[0m | \u001b[0m 0.1     \u001b[0m | \u001b[0m 0.5     \u001b[0m | \u001b[0m 4.0     \u001b[0m | \u001b[0m 0.1     \u001b[0m | \u001b[0m 0.3     \u001b[0m | \u001b[0m 68.7    \u001b[0m |\n"
     ]
    },
    {
     "name": "stderr",
     "output_type": "stream",
     "text": [
      "C:\\Users\\1-10\\AppData\\Local\\Continuum\\anaconda3\\lib\\site-packages\\lightgbm\\engine.py:502: UserWarning: Found `num_iterations` in params. Will use it instead of argument\n",
      "  warnings.warn(\"Found `{}` in params. Will use it instead of argument\".format(alias))\n",
      "C:\\Users\\1-10\\AppData\\Local\\Continuum\\anaconda3\\lib\\site-packages\\lightgbm\\engine.py:507: UserWarning: Found `early_stopping_round` in params. Will use it instead of argument\n",
      "  warnings.warn(\"Found `{}` in params. Will use it instead of argument\".format(alias))\n"
     ]
    },
    {
     "name": "stdout",
     "output_type": "stream",
     "text": [
      "[200]\tcv_agg's multi_logloss: 0.413553 + 0.00492001\n",
      "[400]\tcv_agg's multi_logloss: 0.400748 + 0.00463609\n",
      "[600]\tcv_agg's multi_logloss: 0.398359 + 0.0045321\n",
      "[800]\tcv_agg's multi_logloss: 0.397547 + 0.00456329\n",
      "[1000]\tcv_agg's multi_logloss: 0.397212 + 0.00457732\n",
      "| \u001b[0m 30      \u001b[0m | \u001b[0m 1.965   \u001b[0m | \u001b[0m 0.3     \u001b[0m | \u001b[0m 0.1     \u001b[0m | \u001b[0m 0.1     \u001b[0m | \u001b[0m 0.2     \u001b[0m | \u001b[0m 5.809   \u001b[0m | \u001b[0m 0.1     \u001b[0m | \u001b[0m 0.3     \u001b[0m | \u001b[0m 66.09   \u001b[0m |\n"
     ]
    },
    {
     "name": "stderr",
     "output_type": "stream",
     "text": [
      "C:\\Users\\1-10\\AppData\\Local\\Continuum\\anaconda3\\lib\\site-packages\\lightgbm\\engine.py:502: UserWarning: Found `num_iterations` in params. Will use it instead of argument\n",
      "  warnings.warn(\"Found `{}` in params. Will use it instead of argument\".format(alias))\n",
      "C:\\Users\\1-10\\AppData\\Local\\Continuum\\anaconda3\\lib\\site-packages\\lightgbm\\engine.py:507: UserWarning: Found `early_stopping_round` in params. Will use it instead of argument\n",
      "  warnings.warn(\"Found `{}` in params. Will use it instead of argument\".format(alias))\n"
     ]
    },
    {
     "name": "stdout",
     "output_type": "stream",
     "text": [
      "[200]\tcv_agg's multi_logloss: 0.4353 + 0.00450964\n",
      "[400]\tcv_agg's multi_logloss: 0.4057 + 0.00422637\n",
      "[600]\tcv_agg's multi_logloss: 0.398806 + 0.00420866\n",
      "[800]\tcv_agg's multi_logloss: 0.396597 + 0.0042283\n",
      "[1000]\tcv_agg's multi_logloss: 0.395585 + 0.00417903\n",
      "| \u001b[0m 31      \u001b[0m | \u001b[0m 2.001   \u001b[0m | \u001b[0m 0.3     \u001b[0m | \u001b[0m 0.1     \u001b[0m | \u001b[0m 0.1     \u001b[0m | \u001b[0m 0.5     \u001b[0m | \u001b[0m 4.0     \u001b[0m | \u001b[0m 0.4     \u001b[0m | \u001b[0m 0.3     \u001b[0m | \u001b[0m 55.0    \u001b[0m |\n"
     ]
    },
    {
     "name": "stderr",
     "output_type": "stream",
     "text": [
      "C:\\Users\\1-10\\AppData\\Local\\Continuum\\anaconda3\\lib\\site-packages\\lightgbm\\engine.py:502: UserWarning: Found `num_iterations` in params. Will use it instead of argument\n",
      "  warnings.warn(\"Found `{}` in params. Will use it instead of argument\".format(alias))\n",
      "C:\\Users\\1-10\\AppData\\Local\\Continuum\\anaconda3\\lib\\site-packages\\lightgbm\\engine.py:507: UserWarning: Found `early_stopping_round` in params. Will use it instead of argument\n",
      "  warnings.warn(\"Found `{}` in params. Will use it instead of argument\".format(alias))\n"
     ]
    },
    {
     "name": "stdout",
     "output_type": "stream",
     "text": [
      "[200]\tcv_agg's multi_logloss: 0.435338 + 0.00450979\n",
      "[400]\tcv_agg's multi_logloss: 0.405539 + 0.00438597\n",
      "[600]\tcv_agg's multi_logloss: 0.398753 + 0.00433561\n",
      "[800]\tcv_agg's multi_logloss: 0.396569 + 0.00431744\n",
      "[1000]\tcv_agg's multi_logloss: 0.395483 + 0.00426525\n",
      "| \u001b[0m 32      \u001b[0m | \u001b[0m 2.001   \u001b[0m | \u001b[0m 0.3     \u001b[0m | \u001b[0m 0.1     \u001b[0m | \u001b[0m 0.1     \u001b[0m | \u001b[0m 0.5     \u001b[0m | \u001b[0m 4.0     \u001b[0m | \u001b[0m 0.1     \u001b[0m | \u001b[0m 0.3     \u001b[0m | \u001b[0m 78.94   \u001b[0m |\n"
     ]
    },
    {
     "name": "stderr",
     "output_type": "stream",
     "text": [
      "C:\\Users\\1-10\\AppData\\Local\\Continuum\\anaconda3\\lib\\site-packages\\lightgbm\\engine.py:502: UserWarning: Found `num_iterations` in params. Will use it instead of argument\n",
      "  warnings.warn(\"Found `{}` in params. Will use it instead of argument\".format(alias))\n",
      "C:\\Users\\1-10\\AppData\\Local\\Continuum\\anaconda3\\lib\\site-packages\\lightgbm\\engine.py:507: UserWarning: Found `early_stopping_round` in params. Will use it instead of argument\n",
      "  warnings.warn(\"Found `{}` in params. Will use it instead of argument\".format(alias))\n"
     ]
    },
    {
     "name": "stdout",
     "output_type": "stream",
     "text": [
      "[200]\tcv_agg's multi_logloss: 0.435338 + 0.00450979\n",
      "[400]\tcv_agg's multi_logloss: 0.405539 + 0.00438597\n",
      "[600]\tcv_agg's multi_logloss: 0.398753 + 0.00433561\n",
      "[800]\tcv_agg's multi_logloss: 0.396569 + 0.00431744\n",
      "[1000]\tcv_agg's multi_logloss: 0.395483 + 0.00426525\n",
      "| \u001b[0m 33      \u001b[0m | \u001b[0m 2.001   \u001b[0m | \u001b[0m 0.5     \u001b[0m | \u001b[0m 0.1     \u001b[0m | \u001b[0m 0.1     \u001b[0m | \u001b[0m 0.5     \u001b[0m | \u001b[0m 4.0     \u001b[0m | \u001b[0m 0.1     \u001b[0m | \u001b[0m 0.3     \u001b[0m | \u001b[0m 55.0    \u001b[0m |\n"
     ]
    },
    {
     "name": "stderr",
     "output_type": "stream",
     "text": [
      "C:\\Users\\1-10\\AppData\\Local\\Continuum\\anaconda3\\lib\\site-packages\\lightgbm\\engine.py:502: UserWarning: Found `num_iterations` in params. Will use it instead of argument\n",
      "  warnings.warn(\"Found `{}` in params. Will use it instead of argument\".format(alias))\n",
      "C:\\Users\\1-10\\AppData\\Local\\Continuum\\anaconda3\\lib\\site-packages\\lightgbm\\engine.py:507: UserWarning: Found `early_stopping_round` in params. Will use it instead of argument\n",
      "  warnings.warn(\"Found `{}` in params. Will use it instead of argument\".format(alias))\n"
     ]
    },
    {
     "name": "stdout",
     "output_type": "stream",
     "text": [
      "[200]\tcv_agg's multi_logloss: 0.435588 + 0.00472347\n",
      "[400]\tcv_agg's multi_logloss: 0.406033 + 0.00435151\n",
      "[600]\tcv_agg's multi_logloss: 0.399264 + 0.00407625\n",
      "[800]\tcv_agg's multi_logloss: 0.397042 + 0.00413092\n",
      "[1000]\tcv_agg's multi_logloss: 0.396069 + 0.00409094\n",
      "| \u001b[0m 34      \u001b[0m | \u001b[0m 2.002   \u001b[0m | \u001b[0m 0.3     \u001b[0m | \u001b[0m 0.1     \u001b[0m | \u001b[0m 0.1     \u001b[0m | \u001b[0m 0.2     \u001b[0m | \u001b[0m 4.0     \u001b[0m | \u001b[0m 0.1     \u001b[0m | \u001b[0m 0.3     \u001b[0m | \u001b[0m 65.69   \u001b[0m |\n"
     ]
    },
    {
     "name": "stderr",
     "output_type": "stream",
     "text": [
      "C:\\Users\\1-10\\AppData\\Local\\Continuum\\anaconda3\\lib\\site-packages\\lightgbm\\engine.py:502: UserWarning: Found `num_iterations` in params. Will use it instead of argument\n",
      "  warnings.warn(\"Found `{}` in params. Will use it instead of argument\".format(alias))\n",
      "C:\\Users\\1-10\\AppData\\Local\\Continuum\\anaconda3\\lib\\site-packages\\lightgbm\\engine.py:507: UserWarning: Found `early_stopping_round` in params. Will use it instead of argument\n",
      "  warnings.warn(\"Found `{}` in params. Will use it instead of argument\".format(alias))\n"
     ]
    },
    {
     "name": "stdout",
     "output_type": "stream",
     "text": [
      "[200]\tcv_agg's multi_logloss: 0.435946 + 0.00461441\n",
      "[400]\tcv_agg's multi_logloss: 0.406794 + 0.00417814\n",
      "[600]\tcv_agg's multi_logloss: 0.400172 + 0.00419353\n",
      "[800]\tcv_agg's multi_logloss: 0.397794 + 0.00425304\n",
      "[1000]\tcv_agg's multi_logloss: 0.396711 + 0.00418612\n",
      "| \u001b[0m 35      \u001b[0m | \u001b[0m 2.002   \u001b[0m | \u001b[0m 0.3     \u001b[0m | \u001b[0m 0.1     \u001b[0m | \u001b[0m 0.3     \u001b[0m | \u001b[0m 0.2     \u001b[0m | \u001b[0m 4.0     \u001b[0m | \u001b[0m 0.1     \u001b[0m | \u001b[0m 0.3     \u001b[0m | \u001b[0m 80.0    \u001b[0m |\n",
      "=========================================================================================================================\n"
     ]
    }
   ],
   "source": [
    "# -----> input\n",
    "opt_params = bayes_parameter_opt_lgb(X_train, y_train, \n",
    "                                     init_round=5, #5\n",
    "                                     opt_round=30, # 10\n",
    "                                     n_folds=6, # 3\n",
    "                                     random_seed=1234, \n",
    "                                     n_estimators=1000,# 100 \n",
    "                                     learning_rate=0.14) # 0.05"
   ]
  },
  {
   "cell_type": "code",
   "execution_count": 26,
   "metadata": {},
   "outputs": [
    {
     "name": "stdout",
     "output_type": "stream",
     "text": [
      "{'bagging_fraction': 0.5, 'feature_fraction': 0.1, 'lambda_l1': 0.1, 'lambda_l2': 0.2, 'max_depth': 4.0, 'min_child_weight': 0.1, 'min_split_gain': 0.3, 'num_leaves': 80.0}\n"
     ]
    }
   ],
   "source": [
    "print(opt_params)"
   ]
  },
  {
   "cell_type": "code",
   "execution_count": null,
   "metadata": {},
   "outputs": [],
   "source": []
  },
  {
   "cell_type": "code",
   "execution_count": null,
   "metadata": {},
   "outputs": [],
   "source": []
  },
  {
   "cell_type": "code",
   "execution_count": null,
   "metadata": {},
   "outputs": [],
   "source": []
  },
  {
   "cell_type": "code",
   "execution_count": null,
   "metadata": {},
   "outputs": [],
   "source": []
  },
  {
   "cell_type": "code",
   "execution_count": null,
   "metadata": {},
   "outputs": [],
   "source": [
    "# def bayes_parameter_opt_lgb(X_train, y_train, init_round=15, opt_round=25, n_folds=kfold_s,\n",
    "#                            random_seed=0, n_estimators=1000, learning_rate=0.15):\n",
    "   \n",
    "#     # prepare data\n",
    "#     train_data=lgb.Dataset(data=X_train, label=y_train, categorical_feature=list(X_train.columns),\n",
    "#                           free_raw_data=False)\n",
    "    \n",
    "#     # parameters\n",
    "#     def lgb_eval(num_leaves, feature_fraction, bagging_fraction, max_depth, lambda_l1, lambda_l2,\n",
    "#             min_split_gain, min_child_weight):\n",
    "#         params={'application':'multiclass', 'num_iterations':n_estimators, \n",
    "#                 'learning_rate':0.15, 'early_stopping_round':100, 'metric':'logloss'}\n",
    "#         params['num_leaves']=round(num_leaves)\n",
    "#         params['feature_fraction']=max(min(feature_fraction,1),0)\n",
    "#         params['bagging_fraction']=max(min(bagging_fraction,1),0)\n",
    "#         params['max_depth']=round(max_depth)\n",
    "#         params['lambda_l1']=max(lambda_l1,0)\n",
    "#         params['lambda_l2']=max(lambda_l2,0)\n",
    "#         params['min_split_gain']=min_split_gain\n",
    "#         params['min_child_weight']=min_child_weight\n",
    "#         cv_result=lgb.cv(params, train_data, nfold=n_folds, seed=random_seed, stratified=True, verbose_eval=200,\n",
    "#                         metrics=['neg_log_loss'])\n",
    "#         return max(cv_result('logloss'))\n",
    "    \n",
    "#     # range\n",
    "#     lgbB0=BayesianOptimization(lgb_eval, {'num_leaves':64,\n",
    "#                                          'feature_fraction':0.1,\n",
    "#                                          'bagging_fraction':0.8,\n",
    "#                                          'max_depth': 8,\n",
    "#                                          'lambda_l1':0.5,\n",
    "#                                          'lambda_l2':0.3,\n",
    "#                                          'min_split_gain':0.001,\n",
    "#                                          'min_child_weight':100} )\n",
    "#     # optimize\n",
    "#     lgbB0.maximize(init_points=init_round, n_iter=opt_round)\n",
    "    \n",
    "#     # output optimization process\n",
    "#     if output_process==True : lgbB0.points_to_csv(\"bayes_opt_result.csv\")\n",
    "        \n",
    "#     # return best parameters\n",
    "#     return lgbB0.res['max']['max_params']\n",
    "\n",
    "# opt_params=bayes_parameter_opt_lgb(train_X,train_y,init_round=5,opt_round=10,n_folds=kfold_s,\n",
    "#                                   random_seed=0, n_estimators=1000, learning_rate=0.15)"
   ]
  },
  {
   "cell_type": "code",
   "execution_count": 36,
   "metadata": {},
   "outputs": [],
   "source": []
  },
  {
   "cell_type": "code",
   "execution_count": 37,
   "metadata": {},
   "outputs": [],
   "source": []
  },
  {
   "cell_type": "code",
   "execution_count": null,
   "metadata": {},
   "outputs": [],
   "source": []
  },
  {
   "cell_type": "code",
   "execution_count": null,
   "metadata": {},
   "outputs": [],
   "source": []
  }
 ],
 "metadata": {
  "kernelspec": {
   "display_name": "Python 3",
   "language": "python",
   "name": "python3"
  },
  "language_info": {
   "codemirror_mode": {
    "name": "ipython",
    "version": 3
   },
   "file_extension": ".py",
   "mimetype": "text/x-python",
   "name": "python",
   "nbconvert_exporter": "python",
   "pygments_lexer": "ipython3",
   "version": "3.7.4"
  }
 },
 "nbformat": 4,
 "nbformat_minor": 2
}
